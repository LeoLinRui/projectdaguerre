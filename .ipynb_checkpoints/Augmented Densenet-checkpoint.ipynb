{
 "cells": [
  {
   "cell_type": "code",
   "execution_count": 34,
   "metadata": {
    "pycharm": {
     "is_executing": false
    },
    "slideshow": {
     "slide_type": "-"
    }
   },
   "outputs": [],
   "source": [
    "import os\n",
    "import io\n",
    "import time\n",
    "import pickle\n",
    "import itertools \n",
    "import pandas as pd\n",
    "import numpy as np\n",
    "import scipy\n",
    "\n",
    "import cv2\n",
    "from skimage import transform\n",
    "import matplotlib.pyplot as plt\n",
    "from sklearn import metrics\n",
    "import scipy\n",
    "\n",
    "import torch\n",
    "from torch.utils.data import Dataset, DataLoader\n",
    "from torchvision import transforms, utils\n",
    "import torchvision\n",
    "from torch import nn, optim\n",
    "from torch.autograd import Variable\n",
    "from torch.nn import functional\n",
    "import torch.distributed as dist\n",
    "import torch.multiprocessing as mp\n",
    "from torch.nn.parallel import DistributedDataParallel as DDP\n",
    "from torch.cuda.amp import autocast, GradScaler\n",
    "\n",
    "\n",
    "from Datasets import *\n",
    "\n",
    "image_dir = r\"I:\\AVA_images\"\n",
    "pkl_dir= r\"H:\\AVAFeatures_pkl\"\n",
    "feature_dir = r'I:\\AVA Featuremaps'\n",
    "csv_dir = r\"C:\\Users\\Leo's PC\\Desktop\\AVA.txt\"\n",
    "checkpoint_save_dir = r\"C:\\Users\\Leo's PC\\PycharmProjects\\PD\\Model Checkpoints\"\n",
    "\n",
    "os.environ[\"KMP_DUPLICATE_LIB_OK\"]=\"TRUE\""
   ]
  },
  {
   "cell_type": "code",
   "execution_count": 2,
   "metadata": {},
   "outputs": [
    {
     "name": "stdout",
     "output_type": "stream",
     "text": [
      "255502 images found in the feature map directory.\n",
      "209999 images are found within the specified range\n",
      "Extremes: ('7029', 1) ('49033', 10)\n"
     ]
    },
    {
     "data": {
      "image/png": "[encoded data removed]",
      "text/plain": [
       "<Figure size 432x288 with 1 Axes>"
      ]
     },
     "metadata": {
      "needs_background": "light"
     },
     "output_type": "display_data"
    },
    {
     "name": "stdout",
     "output_type": "stream",
     "text": [
      "255502 images found in the feature map directory.\n",
      "19999 images are found within the specified range\n",
      "Extremes: ('543394', 1) ('59876', 10)\n"
     ]
    },
    {
     "data": {
      "image/png": "[encoded data removed]",
      "text/plain": [
       "<Figure size 432x288 with 1 Axes>"
      ]
     },
     "metadata": {
      "needs_background": "light"
     },
     "output_type": "display_data"
    }
   ],
   "source": [
    "Train = AVAFeatureDataset(csv_file=csv_dir, file_dir=feature_dir, pkl_dir=pkl_dir, start=0, end=209999, transform=transforms.Compose([Rescale_list((224, 224)), ToNumpy_list()]))\n",
    "Validation = AVAFeatureDataset(csv_file=csv_dir, file_dir=feature_dir, pkl_dir=pkl_dir, start=210000, end=229999, transform=transforms.Compose([Rescale_list((224, 224)), ToNumpy_list()]))"
   ]
  },
  {
   "cell_type": "code",
   "execution_count": 4,
   "metadata": {},
   "outputs": [],
   "source": [
    "Validation.CACHED, Validation.TRANSFORMED = True, True"
   ]
  },
  {
   "cell_type": "code",
   "execution_count": 3,
   "metadata": {},
   "outputs": [
    {
     "name": "stdout",
     "output_type": "stream",
     "text": [
      "Start building cache\n",
      "Cacheing complete. Took 21248.533760547638 seconds.\n",
      "Start building cache\n",
      "Cacheing complete. Took 1835.7135772705078 seconds.\n"
     ]
    }
   ],
   "source": [
    "Train.build_cache(r'I:\\AVACache_Smooth', TRANSFORM=True)\n",
    "Validation.build_cache(r'I:\\AVACache_Smooth', TRANSFORM=True)"
   ]
  },
  {
   "cell_type": "code",
   "execution_count": 4,
   "metadata": {},
   "outputs": [
    {
     "name": "stdout",
     "output_type": "stream",
     "text": [
      "209999\n"
     ]
    }
   ],
   "source": [
    "print(Train.__len__())"
   ]
  },
  {
   "cell_type": "code",
   "execution_count": 18,
   "metadata": {},
   "outputs": [],
   "source": [
    "with open('./AVA_dataset_pkl/train_features_smooth_Cached.pkl', 'wb') as fp:\n",
    "    pickle.dump(Train, fp)"
   ]
  },
  {
   "cell_type": "markdown",
   "metadata": {},
   "source": [
    "# Load Dataset and Create Dataloader"
   ]
  },
  {
   "cell_type": "code",
   "execution_count": 14,
   "metadata": {},
   "outputs": [],
   "source": [
    "with open('./AVA_dataset_pkl/train_features_smooth_Cached.pkl', 'rb') as fp:\n",
    "    Train = pickle.load(fp)\n",
    "with open('./AVA_dataset_pkl/validation_features_smooth_Cached.pkl', 'rb') as fp:\n",
    "    Validation = pickle.load(fp)"
   ]
  },
  {
   "cell_type": "code",
   "execution_count": 15,
   "metadata": {},
   "outputs": [],
   "source": [
    "batch_size = 32\n",
    "train_loader = DataLoader(dataset=Train, batch_size=batch_size,shuffle=True)\n",
    "val_loader = DataLoader(dataset=Validation, batch_size=batch_size, shuffle=True)"
   ]
  },
  {
   "cell_type": "code",
   "execution_count": 16,
   "metadata": {},
   "outputs": [
    {
     "name": "stdout",
     "output_type": "stream",
     "text": [
      "20\n"
     ]
    }
   ],
   "source": [
    "print(len(next(enumerate(train_loader))[1]['image']))"
   ]
  },
  {
   "cell_type": "markdown",
   "metadata": {},
   "source": [
    "# Model Class"
   ]
  },
  {
   "cell_type": "code",
   "execution_count": 17,
   "metadata": {
    "pycharm": {
     "is_executing": false,
     "metadata": false,
     "name": "#%%\n"
    }
   },
   "outputs": [],
   "source": [
    "def init_weights(m):\n",
    "    if type(m) == nn.Linear or type(m) == nn.Conv2d:\n",
    "        torch.nn.init.xavier_uniform_(m.weight)\n",
    "        m.bias.data.fill_(0.01)\n",
    "\n",
    "\n",
    "class DeepFeaturesProcessor(nn.Module):\n",
    "    def __init__(self):\n",
    "        super(DeepFeaturesProcessor, self).__init__()\n",
    "        \n",
    "        self.conv1 = nn.Conv2d(in_channels=19, out_channels=32, kernel_size=[7,7], stride=2, padding=3)\n",
    "        self.pool1 = nn.MaxPool2d(kernel_size = [2, 2], stride=2, padding=0)\n",
    "        self.conv2 = nn.Conv2d(in_channels=32, out_channels=32, kernel_size=[5,5], stride=2, padding=2)\n",
    "        self.pool2 = nn.MaxPool2d(kernel_size = [2, 2], stride=2, padding=0)\n",
    "        self.conv3 = nn.Conv2d(in_channels=32, out_channels=64, kernel_size=[3,3], stride=1, padding=1)\n",
    "        \n",
    "        self.activation = nn.ReLU()\n",
    "        \n",
    "    @autocast()   \n",
    "    def forward(self, x):\n",
    "        x = self.conv1(x)\n",
    "        x = self.activation(x)\n",
    "        x = self.pool1(x)\n",
    "        x = self.conv2(x)\n",
    "        x = self.activation(x)\n",
    "        x = self.pool2(x)\n",
    "        x = self.conv3(x)\n",
    "        x = self.activation(x)\n",
    "        return x\n",
    "\n",
    "    \n",
    "class SceneProcessor(nn.Module):\n",
    "    def __init__(self):\n",
    "        super(SceneProcessor, self).__init__()\n",
    "        \n",
    "        self.fc = nn.Linear(2048, 1024)\n",
    "        self.activation = nn.ReLU()\n",
    "\n",
    "    @autocast()    \n",
    "    def forward(self, x):\n",
    "        x = self.fc(x)\n",
    "        x = self.activation(x)\n",
    "        return x\n",
    "    \n",
    "\n",
    "class AugmentedDenseNet(nn.Module):\n",
    "    \n",
    "    \n",
    "    def __init__(self):\n",
    "        super(AugmentedDenseNet, self).__init__()\n",
    "        \n",
    "        self.densenet = torchvision.models.densenet121(pretrained=True, progress=True).features\n",
    "        self.deep_feature_processor = DeepFeaturesProcessor()\n",
    "        self.scene_processor = SceneProcessor()\n",
    "        \n",
    "        self.pre_input = nn.Conv2d(in_channels=3, out_channels=3, kernel_size=[7,7], stride=2, padding=3)\n",
    "        \n",
    "        self.conv0 = nn.Conv2d(in_channels=3, out_channels=64, kernel_size=[7,7], stride=2, padding=3)\n",
    "        self.pool0 = nn.AdaptiveMaxPool2d(output_size=56)\n",
    "        self.dense_input = nn.Sequential(self.conv0, self.densenet.norm0, nn.ReLU(), self.pool0)\n",
    "        self.dense_block1 = self.densenet.denseblock1\n",
    "        self.dense_block2 = self.densenet.denseblock2\n",
    "        self.dense_block3 = self.densenet.denseblock3\n",
    "        self.dense_block4 = self.densenet.denseblock4\n",
    "        \n",
    "        self.dense_transition1 = self.densenet.transition1 \n",
    "        self.dense_transition2 = nn.Sequential(nn.Conv2d(in_channels=512, out_channels=192, kernel_size=[1,1], stride=1, padding=0),\n",
    "                                               nn.ReLU(),\n",
    "                                               nn.AvgPool2d(kernel_size = [2, 2], stride=2, padding=0))\n",
    "        self.dense_transition3 = self.densenet.transition3\n",
    "\n",
    "        self.pooling = nn.AvgPool2d(kernel_size = [7, 7], stride=7, padding=0)\n",
    "        \n",
    "        self.fc1 = nn.Linear(2048, 2048)\n",
    "        self.fc2 = nn.Linear(2048, 1024)\n",
    "        self.fc3 = nn.Linear(1024, 512)\n",
    "        self.fc4 = nn.Linear(512, 1)\n",
    "        \n",
    "        self.dropout1 = nn.Dropout(p=0.5)\n",
    "        self.dropout2 = nn.Dropout(p=0.5)\n",
    "        \n",
    "        self.bn1d1 = nn.BatchNorm1d(2048)\n",
    "        self.bn1d2 = nn.BatchNorm1d(1024)\n",
    "        \n",
    "        self.softmax = nn.Softmax(dim=1)\n",
    "        self.sigmoid = nn.Sigmoid()\n",
    "        self.tanh = nn.Tanh()\n",
    "        self.relu = nn.ReLU()\n",
    "        \n",
    "        self.scene_processor.apply(init_weights)\n",
    "        self.deep_feature_processor.apply(init_weights)\n",
    "        self.pre_input.apply(init_weights)\n",
    "\n",
    "        \n",
    "    @autocast()\n",
    "    def forward(self, imagelist, scene, device):\n",
    "        \n",
    "        #self.densenet = self.densenet.to(device)\n",
    "        #self.deep_feature_processor = self.deep_feature_processor.to(device)\n",
    "        #self.scene_processor = self.scene_processor.to(device)\n",
    "        \n",
    "        # original_input = torch.from_numpy(imagelist[0])\n",
    "        original_input = imagelist[0].float()\n",
    "        #original_input = original_input.to(device)\n",
    "        dense_feature_out = self.pre_input(original_input)\n",
    "        dense_feature_out = self.dense_input(dense_feature_out)\n",
    "        dense_feature_out = self.dense_block1(dense_feature_out)\n",
    "        dense_feature_out = self.dense_transition1(dense_feature_out)\n",
    "        dense_feature_out = self.dense_block2(dense_feature_out)\n",
    "        dense_feature_out = self.dense_transition2(dense_feature_out)\n",
    "        \n",
    "        deep_feature_in = []\n",
    "        for feature in imagelist[1:20]:\n",
    "            feature = feature.float()\n",
    "            #feature = feature.to(device)\n",
    "            deep_feature_in.append(feature)\n",
    "        deep_feature_in = torch.cat(deep_feature_in, dim=1)\n",
    "        \n",
    "        deep_feature_out = self.deep_feature_processor(deep_feature_in)\n",
    "        dense_in = torch.cat([dense_feature_out, deep_feature_out], dim=1)\n",
    "        \n",
    "        dense_out = self.dense_block3(dense_in)\n",
    "        dense_out = self.dense_transition3(dense_out)\n",
    "        dense_out = self.dense_block4(dense_out)\n",
    "        dense_out = self.pooling(dense_out)\n",
    "        dense_out = dense_out.view(dense_out.size()[0], -1)\n",
    "        \n",
    "        # scene_input = torch.from_numpy(scene)\n",
    "        scene_input = scene.float()\n",
    "        #scene_input = scene_input.to(device)\n",
    "        scene_out = self.scene_processor(scene_input)\n",
    "        fc_in = torch.cat([dense_out, scene_out], dim=1)\n",
    "        \n",
    "        fc_out = self.fc1(fc_in)\n",
    "        fc_out = self.bn1d1(fc_out)\n",
    "        fc_out = self.dropout1(fc_out)\n",
    "        fc_out = self.relu(fc_out)\n",
    "        fc_out = self.fc2(fc_out)\n",
    "        fc_out = self.bn1d2(fc_out)\n",
    "        fc_out = self.dropout2(fc_out)\n",
    "        fc_out = self.relu(fc_out)\n",
    "        fc_out = self.fc3(fc_out)\n",
    "        fc_out = self.relu(fc_out)\n",
    "        fc_out = self.fc4(fc_out)\n",
    "        fc_out = self.sigmoid(fc_out)\n",
    "        \n",
    "        return fc_out\n",
    "\n",
    "    def name(self):\n",
    "        return \"FeatureNet\""
   ]
  },
  {
   "cell_type": "code",
   "execution_count": 18,
   "metadata": {},
   "outputs": [],
   "source": [
    "class DeepFeaturesProcessor_Light(nn.Module):\n",
    "    def __init__(self):\n",
    "        super(DeepFeaturesProcessor_Light, self).__init__()\n",
    "        \n",
    "        self.conv1 = nn.Conv2d(in_channels=19, out_channels=32, kernel_size=[7,7], stride=2, padding=3)\n",
    "        self.pool1 = nn.MaxPool2d(kernel_size = [2, 2], stride=2, padding=0)\n",
    "        \n",
    "        self.conv2 = nn.Conv2d(in_channels=32, out_channels=32, kernel_size=[5,5], stride=2, padding=2)\n",
    "        self.pool2 = nn.MaxPool2d(kernel_size = [2, 2], stride=2, padding=0)\n",
    "        \n",
    "        self.conv3 = nn.Conv2d(in_channels=32, out_channels=64, kernel_size=[3,3], stride=1, padding=1)\n",
    "        self.pool3 = nn.MaxPool2d(kernel_size = [2, 2], stride=2, padding=0)\n",
    "        \n",
    "        self.conv4 = nn.Conv2d(in_channels=64, out_channels=128, kernel_size=[3,3], stride=1, padding=1)\n",
    "        self.pool4 = nn.MaxPool2d(kernel_size = [2, 2], stride=2, padding=1)\n",
    "        \n",
    "        self.conv5 = nn.Conv2d(in_channels=128, out_channels=256, kernel_size=[3,3], stride=1, padding=1)\n",
    "        self.pool5 = nn.MaxPool2d(kernel_size = [2, 2], stride=2, padding=0)\n",
    "        \n",
    "        self.activation = nn.ReLU()\n",
    "        \n",
    "    @autocast()   \n",
    "    def forward(self, x):\n",
    "        \n",
    "        x = self.conv1(x)\n",
    "        x = self.activation(x)\n",
    "        \n",
    "        x = self.pool1(x)\n",
    "        x = self.conv2(x)\n",
    "        x = self.activation(x)\n",
    "        \n",
    "        x = self.pool2(x)\n",
    "        x = self.conv3(x)\n",
    "        x = self.activation(x)\n",
    "        \n",
    "        x = self.pool3(x)\n",
    "        x = self.conv4(x)\n",
    "        x = self.activation(x)\n",
    "        \n",
    "        x = self.pool4(x)\n",
    "        x = self.conv5(x)\n",
    "        x = self.activation(x)\n",
    "        \n",
    "        x = self.pool5(x)\n",
    "        \n",
    "        return x\n",
    "\n",
    "\n",
    "class AugmentedLightNet(nn.Module):\n",
    "    \n",
    "    \n",
    "    def __init__(self):\n",
    "        super(AugmentedLightNet, self).__init__()\n",
    "        \n",
    "        self.densenet = torchvision.models.densenet121(pretrained=True, progress=True).features\n",
    "        self.deep_feature_processor = DeepFeaturesProcessor_Light()\n",
    "        self.scene_processor = SceneProcessor()\n",
    "        \n",
    "        self.pre_input = nn.Conv2d(in_channels=3, out_channels=3, kernel_size=[7,7], stride=2, padding=3)\n",
    "        \n",
    "        self.conv0 = nn.Conv2d(in_channels=3, out_channels=64, kernel_size=[7,7], stride=2, padding=3)\n",
    "        self.pool0 = nn.AdaptiveMaxPool2d(output_size=56)\n",
    "        self.dense_input = nn.Sequential(self.conv0, self.densenet.norm0, nn.ReLU(), self.pool0)\n",
    "        self.dense_block1 = self.densenet.denseblock1\n",
    "        self.dense_block2 = self.densenet.denseblock2\n",
    "        self.dense_block3 = self.densenet.denseblock3\n",
    "        self.dense_block4 = self.densenet.denseblock4\n",
    "        \n",
    "        self.dense_transition1 = self.densenet.transition1 \n",
    "        self.dense_transition2 = nn.Sequential(nn.Conv2d(in_channels=512, out_channels=192, kernel_size=[1,1], stride=1, padding=0),\n",
    "                                               nn.ReLU(),\n",
    "                                               nn.AvgPool2d(kernel_size = [2, 2], stride=2, padding=0))\n",
    "        self.dense_transition3 = self.densenet.transition3\n",
    "\n",
    "        self.pooling = nn.AvgPool2d(kernel_size = [7, 7], stride=7, padding=0)\n",
    "        \n",
    "        self.fc1 = nn.Linear(2048, 1024)\n",
    "        self.fc2 = nn.Linear(1024, 512)\n",
    "        self.fc3 = nn.Linear(512, 1)\n",
    "        \n",
    "        self.dropout1 = nn.Dropout(p=0.5)\n",
    "        self.dropout2 = nn.Dropout(p=0.5)\n",
    "        \n",
    "        self.bn1d1 = nn.BatchNorm1d(2048)\n",
    "        self.bn1d2 = nn.BatchNorm1d(1024)\n",
    "        \n",
    "        self.softmax = nn.Softmax(dim=1)\n",
    "        self.sigmoid = nn.Sigmoid()\n",
    "        self.tanh = nn.Tanh()\n",
    "        self.relu = nn.ReLU()\n",
    "        \n",
    "        self.scene_processor.apply(init_weights)\n",
    "        self.deep_feature_processor.apply(init_weights)\n",
    "        self.pre_input.apply(init_weights)\n",
    "\n",
    "        \n",
    "    @autocast()\n",
    "    def forward(self, imagelist, scene, device):\n",
    "        \n",
    "        deep_feature_in = []\n",
    "        \n",
    "        for feature in imagelist[1:20]:\n",
    "            feature = feature.float()\n",
    "            deep_feature_in.append(feature)\n",
    "            \n",
    "        deep_feature_in = torch.cat(deep_feature_in, dim=1)\n",
    "        \n",
    "        deep_feature_out = self.deep_feature_processor(deep_feature_in)\n",
    "\n",
    "        deep_feature_out = deep_feature_out.view(dense_out.size()[0], -1)\n",
    "        \n",
    "\n",
    "        scene_input = scene.float()\n",
    "\n",
    "        scene_out = self.scene_processor(scene_input)\n",
    "        \n",
    "        fc_in = torch.cat([deep_feature_out, scene_out], dim=1)\n",
    "        \n",
    "        fc_out = self.fc1(fc_in)\n",
    "        fc_out = self.bn1d1(fc_out)\n",
    "        fc_out = self.dropout1(fc_out)\n",
    "        fc_out = self.relu(fc_out)\n",
    "        \n",
    "        fc_out = self.fc2(fc_out)\n",
    "        fc_out = self.bn1d2(fc_out)\n",
    "        fc_out = self.dropout2(fc_out)\n",
    "        fc_out = self.relu(fc_out)\n",
    "        \n",
    "        fc_out = self.fc3(fc_out)\n",
    "        fc_out = self.sigmoid(fc_out)\n",
    "        \n",
    "        return fc_out\n",
    "\n",
    "    def name(self):\n",
    "        return \"FeatureNet\""
   ]
  },
  {
   "cell_type": "markdown",
   "metadata": {},
   "source": [
    "# Model Initialization & Hyperparameters"
   ]
  },
  {
   "cell_type": "code",
   "execution_count": 19,
   "metadata": {
    "pycharm": {
     "is_executing": false,
     "metadata": false,
     "name": "#%%\n"
    },
    "scrolled": true
   },
   "outputs": [],
   "source": [
    "model = AugmentedDenseNet()"
   ]
  },
  {
   "cell_type": "code",
   "execution_count": 20,
   "metadata": {},
   "outputs": [],
   "source": [
    "optimizer = optim.Adam(params=model.parameters(), lr=0.0001, betas=(0.9, 0.999))\n",
    "# criterion = nn.CrossEntropyLoss()\n",
    "criterion = nn.MSELoss()"
   ]
  },
  {
   "cell_type": "code",
   "execution_count": 21,
   "metadata": {},
   "outputs": [],
   "source": [
    "for p in model.dense_input.parameters():\n",
    "    p.requires_grad == True\n",
    "\n",
    "for p in model.dense_block1.parameters():\n",
    "    p.requires_grad == False\n",
    "        \n",
    "for p in model.dense_block2.parameters():\n",
    "    p.requires_grad == False\n",
    "        \n",
    "for p in model.dense_transition1.parameters():\n",
    "    p.requires_grad == False\n",
    "        \n",
    "for p in model.dense_transition2.parameters():\n",
    "    p.requires_grad == False"
   ]
  },
  {
   "cell_type": "markdown",
   "metadata": {},
   "source": [
    "### Initialization for single-GPU/CPU training ONLY"
   ]
  },
  {
   "cell_type": "code",
   "execution_count": 44,
   "metadata": {
    "scrolled": true
   },
   "outputs": [
    {
     "ename": "RuntimeError",
     "evalue": "CUDA error: device-side assert triggered",
     "output_type": "error",
     "traceback": [
      "\u001b[1;31m---------------------------------------------------------------------------\u001b[0m",
      "\u001b[1;31mRuntimeError\u001b[0m                              Traceback (most recent call last)",
      "\u001b[1;32m<ipython-input-44-0d68792c75d5>\u001b[0m in \u001b[0;36m<module>\u001b[1;34m\u001b[0m\n\u001b[1;32m----> 1\u001b[1;33m \u001b[0mmodel\u001b[0m \u001b[1;33m=\u001b[0m \u001b[0mmodel\u001b[0m\u001b[1;33m.\u001b[0m\u001b[0mcuda\u001b[0m\u001b[1;33m(\u001b[0m\u001b[1;33m)\u001b[0m\u001b[1;33m\u001b[0m\u001b[1;33m\u001b[0m\u001b[0m\n\u001b[0m\u001b[0;32m      2\u001b[0m \u001b[0mdevice\u001b[0m \u001b[1;33m=\u001b[0m \u001b[0mtorch\u001b[0m\u001b[1;33m.\u001b[0m\u001b[0mdevice\u001b[0m\u001b[1;33m(\u001b[0m\u001b[1;34m\"cuda:1\"\u001b[0m \u001b[1;32mif\u001b[0m \u001b[0mtorch\u001b[0m\u001b[1;33m.\u001b[0m\u001b[0mcuda\u001b[0m\u001b[1;33m.\u001b[0m\u001b[0mis_available\u001b[0m\u001b[1;33m(\u001b[0m\u001b[1;33m)\u001b[0m \u001b[1;32melse\u001b[0m \u001b[1;34m\"cpu\"\u001b[0m\u001b[1;33m)\u001b[0m\u001b[1;33m\u001b[0m\u001b[1;33m\u001b[0m\u001b[0m\n\u001b[0;32m      3\u001b[0m \u001b[0mmodel\u001b[0m\u001b[1;33m.\u001b[0m\u001b[0mto\u001b[0m\u001b[1;33m(\u001b[0m\u001b[0mdevice\u001b[0m\u001b[1;33m)\u001b[0m\u001b[1;33m\u001b[0m\u001b[1;33m\u001b[0m\u001b[0m\n",
      "\u001b[1;32mC:\\ProgramData\\Anaconda3\\envs\\pd\\lib\\site-packages\\torch\\nn\\modules\\module.py\u001b[0m in \u001b[0;36mcuda\u001b[1;34m(self, device)\u001b[0m\n\u001b[0;32m    456\u001b[0m             \u001b[0mModule\u001b[0m\u001b[1;33m:\u001b[0m \u001b[0mself\u001b[0m\u001b[1;33m\u001b[0m\u001b[1;33m\u001b[0m\u001b[0m\n\u001b[0;32m    457\u001b[0m         \"\"\"\n\u001b[1;32m--> 458\u001b[1;33m         \u001b[1;32mreturn\u001b[0m \u001b[0mself\u001b[0m\u001b[1;33m.\u001b[0m\u001b[0m_apply\u001b[0m\u001b[1;33m(\u001b[0m\u001b[1;32mlambda\u001b[0m \u001b[0mt\u001b[0m\u001b[1;33m:\u001b[0m \u001b[0mt\u001b[0m\u001b[1;33m.\u001b[0m\u001b[0mcuda\u001b[0m\u001b[1;33m(\u001b[0m\u001b[0mdevice\u001b[0m\u001b[1;33m)\u001b[0m\u001b[1;33m)\u001b[0m\u001b[1;33m\u001b[0m\u001b[1;33m\u001b[0m\u001b[0m\n\u001b[0m\u001b[0;32m    459\u001b[0m \u001b[1;33m\u001b[0m\u001b[0m\n\u001b[0;32m    460\u001b[0m     \u001b[1;32mdef\u001b[0m \u001b[0mcpu\u001b[0m\u001b[1;33m(\u001b[0m\u001b[0mself\u001b[0m\u001b[1;33m:\u001b[0m \u001b[0mT\u001b[0m\u001b[1;33m)\u001b[0m \u001b[1;33m->\u001b[0m \u001b[0mT\u001b[0m\u001b[1;33m:\u001b[0m\u001b[1;33m\u001b[0m\u001b[1;33m\u001b[0m\u001b[0m\n",
      "\u001b[1;32mC:\\ProgramData\\Anaconda3\\envs\\pd\\lib\\site-packages\\torch\\nn\\modules\\module.py\u001b[0m in \u001b[0;36m_apply\u001b[1;34m(self, fn)\u001b[0m\n\u001b[0;32m    352\u001b[0m     \u001b[1;32mdef\u001b[0m \u001b[0m_apply\u001b[0m\u001b[1;33m(\u001b[0m\u001b[0mself\u001b[0m\u001b[1;33m,\u001b[0m \u001b[0mfn\u001b[0m\u001b[1;33m)\u001b[0m\u001b[1;33m:\u001b[0m\u001b[1;33m\u001b[0m\u001b[1;33m\u001b[0m\u001b[0m\n\u001b[0;32m    353\u001b[0m         \u001b[1;32mfor\u001b[0m \u001b[0mmodule\u001b[0m \u001b[1;32min\u001b[0m \u001b[0mself\u001b[0m\u001b[1;33m.\u001b[0m\u001b[0mchildren\u001b[0m\u001b[1;33m(\u001b[0m\u001b[1;33m)\u001b[0m\u001b[1;33m:\u001b[0m\u001b[1;33m\u001b[0m\u001b[1;33m\u001b[0m\u001b[0m\n\u001b[1;32m--> 354\u001b[1;33m             \u001b[0mmodule\u001b[0m\u001b[1;33m.\u001b[0m\u001b[0m_apply\u001b[0m\u001b[1;33m(\u001b[0m\u001b[0mfn\u001b[0m\u001b[1;33m)\u001b[0m\u001b[1;33m\u001b[0m\u001b[1;33m\u001b[0m\u001b[0m\n\u001b[0m\u001b[0;32m    355\u001b[0m \u001b[1;33m\u001b[0m\u001b[0m\n\u001b[0;32m    356\u001b[0m         \u001b[1;32mdef\u001b[0m \u001b[0mcompute_should_use_set_data\u001b[0m\u001b[1;33m(\u001b[0m\u001b[0mtensor\u001b[0m\u001b[1;33m,\u001b[0m \u001b[0mtensor_applied\u001b[0m\u001b[1;33m)\u001b[0m\u001b[1;33m:\u001b[0m\u001b[1;33m\u001b[0m\u001b[1;33m\u001b[0m\u001b[0m\n",
      "\u001b[1;32mC:\\ProgramData\\Anaconda3\\envs\\pd\\lib\\site-packages\\torch\\nn\\modules\\module.py\u001b[0m in \u001b[0;36m_apply\u001b[1;34m(self, fn)\u001b[0m\n\u001b[0;32m    352\u001b[0m     \u001b[1;32mdef\u001b[0m \u001b[0m_apply\u001b[0m\u001b[1;33m(\u001b[0m\u001b[0mself\u001b[0m\u001b[1;33m,\u001b[0m \u001b[0mfn\u001b[0m\u001b[1;33m)\u001b[0m\u001b[1;33m:\u001b[0m\u001b[1;33m\u001b[0m\u001b[1;33m\u001b[0m\u001b[0m\n\u001b[0;32m    353\u001b[0m         \u001b[1;32mfor\u001b[0m \u001b[0mmodule\u001b[0m \u001b[1;32min\u001b[0m \u001b[0mself\u001b[0m\u001b[1;33m.\u001b[0m\u001b[0mchildren\u001b[0m\u001b[1;33m(\u001b[0m\u001b[1;33m)\u001b[0m\u001b[1;33m:\u001b[0m\u001b[1;33m\u001b[0m\u001b[1;33m\u001b[0m\u001b[0m\n\u001b[1;32m--> 354\u001b[1;33m             \u001b[0mmodule\u001b[0m\u001b[1;33m.\u001b[0m\u001b[0m_apply\u001b[0m\u001b[1;33m(\u001b[0m\u001b[0mfn\u001b[0m\u001b[1;33m)\u001b[0m\u001b[1;33m\u001b[0m\u001b[1;33m\u001b[0m\u001b[0m\n\u001b[0m\u001b[0;32m    355\u001b[0m \u001b[1;33m\u001b[0m\u001b[0m\n\u001b[0;32m    356\u001b[0m         \u001b[1;32mdef\u001b[0m \u001b[0mcompute_should_use_set_data\u001b[0m\u001b[1;33m(\u001b[0m\u001b[0mtensor\u001b[0m\u001b[1;33m,\u001b[0m \u001b[0mtensor_applied\u001b[0m\u001b[1;33m)\u001b[0m\u001b[1;33m:\u001b[0m\u001b[1;33m\u001b[0m\u001b[1;33m\u001b[0m\u001b[0m\n",
      "\u001b[1;32mC:\\ProgramData\\Anaconda3\\envs\\pd\\lib\\site-packages\\torch\\nn\\modules\\module.py\u001b[0m in \u001b[0;36m_apply\u001b[1;34m(self, fn)\u001b[0m\n\u001b[0;32m    374\u001b[0m                 \u001b[1;31m# `with torch.no_grad():`\u001b[0m\u001b[1;33m\u001b[0m\u001b[1;33m\u001b[0m\u001b[1;33m\u001b[0m\u001b[0m\n\u001b[0;32m    375\u001b[0m                 \u001b[1;32mwith\u001b[0m \u001b[0mtorch\u001b[0m\u001b[1;33m.\u001b[0m\u001b[0mno_grad\u001b[0m\u001b[1;33m(\u001b[0m\u001b[1;33m)\u001b[0m\u001b[1;33m:\u001b[0m\u001b[1;33m\u001b[0m\u001b[1;33m\u001b[0m\u001b[0m\n\u001b[1;32m--> 376\u001b[1;33m                     \u001b[0mparam_applied\u001b[0m \u001b[1;33m=\u001b[0m \u001b[0mfn\u001b[0m\u001b[1;33m(\u001b[0m\u001b[0mparam\u001b[0m\u001b[1;33m)\u001b[0m\u001b[1;33m\u001b[0m\u001b[1;33m\u001b[0m\u001b[0m\n\u001b[0m\u001b[0;32m    377\u001b[0m                 \u001b[0mshould_use_set_data\u001b[0m \u001b[1;33m=\u001b[0m \u001b[0mcompute_should_use_set_data\u001b[0m\u001b[1;33m(\u001b[0m\u001b[0mparam\u001b[0m\u001b[1;33m,\u001b[0m \u001b[0mparam_applied\u001b[0m\u001b[1;33m)\u001b[0m\u001b[1;33m\u001b[0m\u001b[1;33m\u001b[0m\u001b[0m\n\u001b[0;32m    378\u001b[0m                 \u001b[1;32mif\u001b[0m \u001b[0mshould_use_set_data\u001b[0m\u001b[1;33m:\u001b[0m\u001b[1;33m\u001b[0m\u001b[1;33m\u001b[0m\u001b[0m\n",
      "\u001b[1;32mC:\\ProgramData\\Anaconda3\\envs\\pd\\lib\\site-packages\\torch\\nn\\modules\\module.py\u001b[0m in \u001b[0;36m<lambda>\u001b[1;34m(t)\u001b[0m\n\u001b[0;32m    456\u001b[0m             \u001b[0mModule\u001b[0m\u001b[1;33m:\u001b[0m \u001b[0mself\u001b[0m\u001b[1;33m\u001b[0m\u001b[1;33m\u001b[0m\u001b[0m\n\u001b[0;32m    457\u001b[0m         \"\"\"\n\u001b[1;32m--> 458\u001b[1;33m         \u001b[1;32mreturn\u001b[0m \u001b[0mself\u001b[0m\u001b[1;33m.\u001b[0m\u001b[0m_apply\u001b[0m\u001b[1;33m(\u001b[0m\u001b[1;32mlambda\u001b[0m \u001b[0mt\u001b[0m\u001b[1;33m:\u001b[0m \u001b[0mt\u001b[0m\u001b[1;33m.\u001b[0m\u001b[0mcuda\u001b[0m\u001b[1;33m(\u001b[0m\u001b[0mdevice\u001b[0m\u001b[1;33m)\u001b[0m\u001b[1;33m)\u001b[0m\u001b[1;33m\u001b[0m\u001b[1;33m\u001b[0m\u001b[0m\n\u001b[0m\u001b[0;32m    459\u001b[0m \u001b[1;33m\u001b[0m\u001b[0m\n\u001b[0;32m    460\u001b[0m     \u001b[1;32mdef\u001b[0m \u001b[0mcpu\u001b[0m\u001b[1;33m(\u001b[0m\u001b[0mself\u001b[0m\u001b[1;33m:\u001b[0m \u001b[0mT\u001b[0m\u001b[1;33m)\u001b[0m \u001b[1;33m->\u001b[0m \u001b[0mT\u001b[0m\u001b[1;33m:\u001b[0m\u001b[1;33m\u001b[0m\u001b[1;33m\u001b[0m\u001b[0m\n",
      "\u001b[1;31mRuntimeError\u001b[0m: CUDA error: device-side assert triggered"
     ]
    }
   ],
   "source": [
    "model = model.cuda()\n",
    "device = torch.device(\"cuda:1\" if torch.cuda.is_available() else \"cpu\")\n",
    "model.to(device)"
   ]
  },
  {
   "cell_type": "markdown",
   "metadata": {},
   "source": [
    "### Initialization for Data Parallel training ONLY"
   ]
  },
  {
   "cell_type": "code",
   "execution_count": 22,
   "metadata": {},
   "outputs": [],
   "source": [
    "device = torch.device(\"cuda:0\" if torch.cuda.is_available() else \"cpu\")\n",
    "\n",
    "model = model.cuda()\n",
    "model = torch.nn.DataParallel(model)"
   ]
  },
  {
   "cell_type": "markdown",
   "metadata": {},
   "source": [
    "### Automatic mixed-percision"
   ]
  },
  {
   "cell_type": "code",
   "execution_count": 23,
   "metadata": {},
   "outputs": [],
   "source": [
    "scaler = GradScaler()"
   ]
  },
  {
   "cell_type": "markdown",
   "metadata": {},
   "source": [
    "# Training Code"
   ]
  },
  {
   "cell_type": "code",
   "execution_count": 24,
   "metadata": {},
   "outputs": [],
   "source": [
    "training_stats = {}\n",
    "training_stats['tarining_loss'] = []\n",
    "training_stats['validation_loss'] = []\n",
    "training_stats['accuracy'] = []\n",
    "training_stats['RMSE'] = []\n",
    "training_stats['spearmanr'] = []\n",
    "training_stats['classification'] = []"
   ]
  },
  {
   "cell_type": "code",
   "execution_count": 25,
   "metadata": {},
   "outputs": [],
   "source": [
    "def save_checkpt(model_name, save_dir, epoch, model, optimizer, loss, accu, training_stats):\n",
    "    checkpoint_file = open(save_dir + \"\\\\\" + model_name + \"_\" + \"E\" + str(epoch) + \"A\" + str(int(accu*1000)) + \"_\" + time.strftime(\"%m.%d.%Y_%H.%M.%S\") \n",
    "                       + \".tar\", 'wb')\n",
    "    torch.save({\n",
    "            'epoch': epoch,\n",
    "            'model_state_dict': model.state_dict(),\n",
    "            'optimizer_state_dict': optimizer.state_dict(),\n",
    "            'loss': loss,\n",
    "            'training_stats': training_stats,\n",
    "            }, checkpoint_file)\n",
    "    checkpoint_file.close()\n",
    "\n",
    "\n",
    "model_name = \"DenseNet_Augmented_Binary\"\n",
    "checkpoint_save_dir = r\"C:\\Users\\Leo's PC\\PycharmProjects\\PD\\Model Checkpoints\"\n",
    "best_accu = 0.87"
   ]
  },
  {
   "cell_type": "markdown",
   "metadata": {},
   "source": [
    "## Binary Classification"
   ]
  },
  {
   "cell_type": "code",
   "execution_count": 55,
   "metadata": {
    "pycharm": {
     "is_executing": false,
     "metadata": false,
     "name": "#%%\n"
    },
    "scrolled": true
   },
   "outputs": [
    {
     "ename": "RuntimeError",
     "evalue": "Found dtype Long but expected Float\nException raised from compute_types at ..\\aten\\src\\ATen\\native\\TensorIterator.cpp:183 (most recent call first):\n00007FFCCC4175A200007FFCCC417540 c10.dll!c10::Error::Error [<unknown file> @ <unknown line number>]\n00007FFCA442EEBE00007FFCA442E570 torch_cpu.dll!at::TensorIterator::compute_types [<unknown file> @ <unknown line number>]\n00007FFCA442D1B900007FFCA442D140 torch_cpu.dll!at::TensorIterator::build [<unknown file> @ <unknown line number>]\n00007FFCA442C25D00007FFCA442C1A0 torch_cpu.dll!at::TensorIterator::TensorIterator [<unknown file> @ <unknown line number>]\n00007FFCA432B9AA00007FFCA432B8B0 torch_cpu.dll!at::native::mse_loss_backward_out [<unknown file> @ <unknown line number>]\n00007FFC7CE51D8700007FFC7CDEE0A0 torch_cuda.dll!at::native::set_storage_cuda_ [<unknown file> @ <unknown line number>]\n00007FFCA4652F0E00007FFCA4648FA0 torch_cpu.dll!at::bucketize_out [<unknown file> @ <unknown line number>]\n00007FFCA4680C4900007FFCA4680BE0 torch_cpu.dll!at::mse_loss_backward_out [<unknown file> @ <unknown line number>]\n00007FFCA432B87800007FFCA432B810 torch_cpu.dll!at::native::mse_loss_backward [<unknown file> @ <unknown line number>]\n00007FFC7CE51CA700007FFC7CDEE0A0 torch_cuda.dll!at::native::set_storage_cuda_ [<unknown file> @ <unknown line number>]\n00007FFC7CE41A6800007FFC7CDEE0A0 torch_cuda.dll!at::native::set_storage_cuda_ [<unknown file> @ <unknown line number>]\n00007FFCA464D85600007FFCA4648FA0 torch_cpu.dll!at::bucketize_out [<unknown file> @ <unknown line number>]\n00007FFCA4680B6E00007FFCA4680B00 torch_cpu.dll!at::mse_loss_backward [<unknown file> @ <unknown line number>]\n00007FFCA590373200007FFCA58EE010 torch_cpu.dll!torch::autograd::GraphRoot::apply [<unknown file> @ <unknown line number>]\n00007FFCA41E0B2800007FFCA41D6470 torch_cpu.dll!torch::nn::functional::BatchNormFuncOptions::~BatchNormFuncOptions [<unknown file> @ <unknown line number>]\n00007FFCA464D85600007FFCA4648FA0 torch_cpu.dll!at::bucketize_out [<unknown file> @ <unknown line number>]\n00007FFCA4680B6E00007FFCA4680B00 torch_cpu.dll!at::mse_loss_backward [<unknown file> @ <unknown line number>]\n00007FFCA58521FC00007FFCA58520D0 torch_cpu.dll!torch::autograd::generated::MseLossBackward::apply [<unknown file> @ <unknown line number>]\n00007FFCA5827E9100007FFCA5827B50 torch_cpu.dll!torch::autograd::Node::operator() [<unknown file> @ <unknown line number>]\n00007FFCA5D8F9BA00007FFCA5D8F300 torch_cpu.dll!torch::autograd::Engine::add_thread_pool_task [<unknown file> @ <unknown line number>]\n00007FFCA5D903AD00007FFCA5D8FFD0 torch_cpu.dll!torch::autograd::Engine::evaluate_function [<unknown file> @ <unknown line number>]\n00007FFCA5D94FE200007FFCA5D94CA0 torch_cpu.dll!torch::autograd::Engine::thread_main [<unknown file> @ <unknown line number>]\n00007FFCA5D94C4100007FFCA5D94BC0 torch_cpu.dll!torch::autograd::Engine::thread_init [<unknown file> @ <unknown line number>]\n00007FFCC6E30A7700007FFCC6E0A150 torch_python.dll!THPShortStorage_New [<unknown file> @ <unknown line number>]\n00007FFCA5D8BF1400007FFCA5D8B780 torch_cpu.dll!torch::autograd::Engine::get_base_engine [<unknown file> @ <unknown line number>]\n00007FFD3A2D0E8200007FFD3A2D0D40 ucrtbase.dll!beginthreadex [<unknown file> @ <unknown line number>]\n00007FFD3B597BD400007FFD3B597BC0 KERNEL32.DLL!BaseThreadInitThunk [<unknown file> @ <unknown line number>]\n00007FFD3D24CE5100007FFD3D24CE30 ntdll.dll!RtlUserThreadStart [<unknown file> @ <unknown line number>]\n",
     "output_type": "error",
     "traceback": [
      "\u001b[1;31m---------------------------------------------------------------------------\u001b[0m",
      "\u001b[1;31mRuntimeError\u001b[0m                              Traceback (most recent call last)",
      "\u001b[1;32m<ipython-input-55-887f9a581c1f>\u001b[0m in \u001b[0;36m<module>\u001b[1;34m\u001b[0m\n\u001b[0;32m     64\u001b[0m         \u001b[0mave_loss\u001b[0m \u001b[1;33m=\u001b[0m \u001b[0mave_loss\u001b[0m \u001b[1;33m*\u001b[0m \u001b[1;36m0.999\u001b[0m \u001b[1;33m+\u001b[0m \u001b[0mloss\u001b[0m\u001b[1;33m.\u001b[0m\u001b[0mitem\u001b[0m\u001b[1;33m(\u001b[0m\u001b[1;33m)\u001b[0m \u001b[1;33m*\u001b[0m \u001b[1;36m0.001\u001b[0m\u001b[1;33m\u001b[0m\u001b[1;33m\u001b[0m\u001b[0m\n\u001b[0;32m     65\u001b[0m \u001b[1;33m\u001b[0m\u001b[0m\n\u001b[1;32m---> 66\u001b[1;33m         \u001b[0mscaler\u001b[0m\u001b[1;33m.\u001b[0m\u001b[0mscale\u001b[0m\u001b[1;33m(\u001b[0m\u001b[0mloss\u001b[0m\u001b[1;33m)\u001b[0m\u001b[1;33m.\u001b[0m\u001b[0mbackward\u001b[0m\u001b[1;33m(\u001b[0m\u001b[1;33m)\u001b[0m \u001b[1;31m#back propagation with calculated loss\u001b[0m\u001b[1;33m\u001b[0m\u001b[1;33m\u001b[0m\u001b[0m\n\u001b[0m\u001b[0;32m     67\u001b[0m         \u001b[0mscaler\u001b[0m\u001b[1;33m.\u001b[0m\u001b[0mstep\u001b[0m\u001b[1;33m(\u001b[0m\u001b[0moptimizer\u001b[0m\u001b[1;33m)\u001b[0m\u001b[1;33m\u001b[0m\u001b[1;33m\u001b[0m\u001b[0m\n\u001b[0;32m     68\u001b[0m         \u001b[0mscaler\u001b[0m\u001b[1;33m.\u001b[0m\u001b[0mupdate\u001b[0m\u001b[1;33m(\u001b[0m\u001b[1;33m)\u001b[0m\u001b[1;33m\u001b[0m\u001b[1;33m\u001b[0m\u001b[0m\n",
      "\u001b[1;32mC:\\ProgramData\\Anaconda3\\envs\\pd\\lib\\site-packages\\torch\\tensor.py\u001b[0m in \u001b[0;36mbackward\u001b[1;34m(self, gradient, retain_graph, create_graph)\u001b[0m\n\u001b[0;32m    183\u001b[0m                 \u001b[0mproducts\u001b[0m\u001b[1;33m.\u001b[0m \u001b[0mDefaults\u001b[0m \u001b[0mto\u001b[0m\u001b[0;31m \u001b[0m\u001b[0;31m`\u001b[0m\u001b[0;31m`\u001b[0m\u001b[1;32mFalse\u001b[0m\u001b[0;31m`\u001b[0m\u001b[0;31m`\u001b[0m\u001b[1;33m.\u001b[0m\u001b[1;33m\u001b[0m\u001b[1;33m\u001b[0m\u001b[0m\n\u001b[0;32m    184\u001b[0m         \"\"\"\n\u001b[1;32m--> 185\u001b[1;33m         \u001b[0mtorch\u001b[0m\u001b[1;33m.\u001b[0m\u001b[0mautograd\u001b[0m\u001b[1;33m.\u001b[0m\u001b[0mbackward\u001b[0m\u001b[1;33m(\u001b[0m\u001b[0mself\u001b[0m\u001b[1;33m,\u001b[0m \u001b[0mgradient\u001b[0m\u001b[1;33m,\u001b[0m \u001b[0mretain_graph\u001b[0m\u001b[1;33m,\u001b[0m \u001b[0mcreate_graph\u001b[0m\u001b[1;33m)\u001b[0m\u001b[1;33m\u001b[0m\u001b[1;33m\u001b[0m\u001b[0m\n\u001b[0m\u001b[0;32m    186\u001b[0m \u001b[1;33m\u001b[0m\u001b[0m\n\u001b[0;32m    187\u001b[0m     \u001b[1;32mdef\u001b[0m \u001b[0mregister_hook\u001b[0m\u001b[1;33m(\u001b[0m\u001b[0mself\u001b[0m\u001b[1;33m,\u001b[0m \u001b[0mhook\u001b[0m\u001b[1;33m)\u001b[0m\u001b[1;33m:\u001b[0m\u001b[1;33m\u001b[0m\u001b[1;33m\u001b[0m\u001b[0m\n",
      "\u001b[1;32mC:\\ProgramData\\Anaconda3\\envs\\pd\\lib\\site-packages\\torch\\autograd\\__init__.py\u001b[0m in \u001b[0;36mbackward\u001b[1;34m(tensors, grad_tensors, retain_graph, create_graph, grad_variables)\u001b[0m\n\u001b[0;32m    125\u001b[0m     Variable._execution_engine.run_backward(\n\u001b[0;32m    126\u001b[0m         \u001b[0mtensors\u001b[0m\u001b[1;33m,\u001b[0m \u001b[0mgrad_tensors\u001b[0m\u001b[1;33m,\u001b[0m \u001b[0mretain_graph\u001b[0m\u001b[1;33m,\u001b[0m \u001b[0mcreate_graph\u001b[0m\u001b[1;33m,\u001b[0m\u001b[1;33m\u001b[0m\u001b[1;33m\u001b[0m\u001b[0m\n\u001b[1;32m--> 127\u001b[1;33m         allow_unreachable=True)  # allow_unreachable flag\n\u001b[0m\u001b[0;32m    128\u001b[0m \u001b[1;33m\u001b[0m\u001b[0m\n\u001b[0;32m    129\u001b[0m \u001b[1;33m\u001b[0m\u001b[0m\n",
      "\u001b[1;31mRuntimeError\u001b[0m: Found dtype Long but expected Float\nException raised from compute_types at ..\\aten\\src\\ATen\\native\\TensorIterator.cpp:183 (most recent call first):\n00007FFCCC4175A200007FFCCC417540 c10.dll!c10::Error::Error [<unknown file> @ <unknown line number>]\n00007FFCA442EEBE00007FFCA442E570 torch_cpu.dll!at::TensorIterator::compute_types [<unknown file> @ <unknown line number>]\n00007FFCA442D1B900007FFCA442D140 torch_cpu.dll!at::TensorIterator::build [<unknown file> @ <unknown line number>]\n00007FFCA442C25D00007FFCA442C1A0 torch_cpu.dll!at::TensorIterator::TensorIterator [<unknown file> @ <unknown line number>]\n00007FFCA432B9AA00007FFCA432B8B0 torch_cpu.dll!at::native::mse_loss_backward_out [<unknown file> @ <unknown line number>]\n00007FFC7CE51D8700007FFC7CDEE0A0 torch_cuda.dll!at::native::set_storage_cuda_ [<unknown file> @ <unknown line number>]\n00007FFCA4652F0E00007FFCA4648FA0 torch_cpu.dll!at::bucketize_out [<unknown file> @ <unknown line number>]\n00007FFCA4680C4900007FFCA4680BE0 torch_cpu.dll!at::mse_loss_backward_out [<unknown file> @ <unknown line number>]\n00007FFCA432B87800007FFCA432B810 torch_cpu.dll!at::native::mse_loss_backward [<unknown file> @ <unknown line number>]\n00007FFC7CE51CA700007FFC7CDEE0A0 torch_cuda.dll!at::native::set_storage_cuda_ [<unknown file> @ <unknown line number>]\n00007FFC7CE41A6800007FFC7CDEE0A0 torch_cuda.dll!at::native::set_storage_cuda_ [<unknown file> @ <unknown line number>]\n00007FFCA464D85600007FFCA4648FA0 torch_cpu.dll!at::bucketize_out [<unknown file> @ <unknown line number>]\n00007FFCA4680B6E00007FFCA4680B00 torch_cpu.dll!at::mse_loss_backward [<unknown file> @ <unknown line number>]\n00007FFCA590373200007FFCA58EE010 torch_cpu.dll!torch::autograd::GraphRoot::apply [<unknown file> @ <unknown line number>]\n00007FFCA41E0B2800007FFCA41D6470 torch_cpu.dll!torch::nn::functional::BatchNormFuncOptions::~BatchNormFuncOptions [<unknown file> @ <unknown line number>]\n00007FFCA464D85600007FFCA4648FA0 torch_cpu.dll!at::bucketize_out [<unknown file> @ <unknown line number>]\n00007FFCA4680B6E00007FFCA4680B00 torch_cpu.dll!at::mse_loss_backward [<unknown file> @ <unknown line number>]\n00007FFCA58521FC00007FFCA58520D0 torch_cpu.dll!torch::autograd::generated::MseLossBackward::apply [<unknown file> @ <unknown line number>]\n00007FFCA5827E9100007FFCA5827B50 torch_cpu.dll!torch::autograd::Node::operator() [<unknown file> @ <unknown line number>]\n00007FFCA5D8F9BA00007FFCA5D8F300 torch_cpu.dll!torch::autograd::Engine::add_thread_pool_task [<unknown file> @ <unknown line number>]\n00007FFCA5D903AD00007FFCA5D8FFD0 torch_cpu.dll!torch::autograd::Engine::evaluate_function [<unknown file> @ <unknown line number>]\n00007FFCA5D94FE200007FFCA5D94CA0 torch_cpu.dll!torch::autograd::Engine::thread_main [<unknown file> @ <unknown line number>]\n00007FFCA5D94C4100007FFCA5D94BC0 torch_cpu.dll!torch::autograd::Engine::thread_init [<unknown file> @ <unknown line number>]\n00007FFCC6E30A7700007FFCC6E0A150 torch_python.dll!THPShortStorage_New [<unknown file> @ <unknown line number>]\n00007FFCA5D8BF1400007FFCA5D8B780 torch_cpu.dll!torch::autograd::Engine::get_base_engine [<unknown file> @ <unknown line number>]\n00007FFD3A2D0E8200007FFD3A2D0D40 ucrtbase.dll!beginthreadex [<unknown file> @ <unknown line number>]\n00007FFD3B597BD400007FFD3B597BC0 KERNEL32.DLL!BaseThreadInitThunk [<unknown file> @ <unknown line number>]\n00007FFD3D24CE5100007FFD3D24CE30 ntdll.dll!RtlUserThreadStart [<unknown file> @ <unknown line number>]\n"
     ]
    }
   ],
   "source": [
    "global epoch #declear epoch global, to be used later by torch.save() \n",
    "breakflag = False\n",
    "VALIDATION_FIRST = False\n",
    "\n",
    "for epoch in range(25):\n",
    "    \n",
    "    ave_loss = 0\n",
    "    global loss #declear loss global, to be used later by torch.save() \n",
    "\n",
    "\n",
    "    if epoch == 0 and VALIDATION_FIRST:\n",
    "        \n",
    "        f1_eval_storage = {'prediction':[], 'target':[]}\n",
    "        correct, ave_loss, total_cnt = 0, 0, 0\n",
    "        \n",
    "        for batch_idx, diction in enumerate(val_loader):\n",
    "            model.eval() #set model to evaluation mode\n",
    "        \n",
    "            imagelist, scene, target = diction['image'], diction['scene'], diction['rating'] #extract training data for this batch\n",
    "\n",
    "            target = target.to(device) \n",
    "            target = Variable(target)\n",
    "            target = target.float()\n",
    "\n",
    "            with autocast():\n",
    "                out = model(imagelist, scene, device=device) #forward pass\n",
    "                loss = criterion(out, target.long()) #calculate loss\n",
    "\n",
    "            pred_label = out.data\n",
    "            pred_label = pred_label.argmax(dim=1, keepdim=True)\n",
    "\n",
    "            target = target.long()\n",
    "\n",
    "            f1_eval_storage['prediction'] = np.append(f1_eval_storage['prediction'], pred_label.cpu().detach().numpy())\n",
    "            f1_eval_storage['target'] = np.append(f1_eval_storage['target'], target.cpu().detach().numpy())\n",
    "\n",
    "            total_cnt += scene.data.size()[0]\n",
    "            ave_loss = ave_loss * 0.99 + loss.item() * 0.01 #smooth average\n",
    "            correct += pred_label.eq(target.view_as(pred_label)).sum().item()\n",
    "\n",
    "            if (batch_idx + 1) == len(val_loader):\n",
    "                print(\n",
    "                '>>> epoch: {}, batch index: {}, test loss ave(E): {:.6f}, acc: {:.6f}'.format(\n",
    "                    epoch, batch_idx + 1, ave_loss, correct * 1.0 / total_cnt))\n",
    "                print(metrics.classification_report(f1_eval_storage['target'], f1_eval_storage['prediction']))\n",
    "                print('==================================================================') \n",
    "\n",
    "                training_stats['accuracy'].append(correct * 1.0 / total_cnt)\n",
    "                training_stats['validation_loss'].append(ave_loss)\n",
    "          \n",
    " \n",
    "    for batch_idx, diction in enumerate(train_loader):\n",
    "        model.train() #set model to traning mode\n",
    "        optimizer.zero_grad()\n",
    "        \n",
    "        imagelist, scene, target = diction['image'], diction['scene'], diction['rating'] #extract training data for this batch\n",
    "        \n",
    "        target = target.to(device) \n",
    "        target = Variable(target)\n",
    "        target = target.float()\n",
    "\n",
    "        with autocast():\n",
    "            out = model(imagelist, scene, device=device) #forward pass\n",
    "            loss = criterion(out, target.long()) #calculate loss\n",
    "\n",
    "        ave_loss = ave_loss * 0.999 + loss.item() * 0.001 \n",
    "        \n",
    "        scaler.scale(loss).backward() #back propagation with calculated loss\n",
    "        scaler.step(optimizer) \n",
    "        scaler.update()\n",
    "\n",
    "        if (batch_idx + 1) == len(train_loader):\n",
    "            print('>>> epoch: {}, batch index: {}, train loss ave(E): {:.6f}'.format(epoch, batch_idx + 1, ave_loss))\n",
    "            training_stats['tarining_loss'].append(ave_loss)\n",
    "    \n",
    "            \n",
    "    f1_eval_storage = {'prediction':[], 'target':[]}\n",
    "    correct, ave_loss, total_cnt = 0, 0, 0\n",
    "    for batch_idx, diction in enumerate(val_loader):\n",
    "        model.eval() #set model to evaluation mode\n",
    "        \n",
    "        imagelist, scene, target = diction['image'], diction['scene'], diction['rating'] #extract training data for this batch\n",
    "        \n",
    "        target = target.to(device) \n",
    "        target = Variable(target)\n",
    "        target = target.float()\n",
    "        \n",
    "        with autocast():\n",
    "            out = model(imagelist, scene, device=device) #forward pass\n",
    "            loss = criterion(out, target.long()) #calculate loss\n",
    "\n",
    "        pred_label = out.data\n",
    "        pred_label = pred_label.argmax(dim=1, keepdim=True)\n",
    "        \n",
    "        target = target.long()\n",
    "        \n",
    "        f1_eval_storage['prediction'] = np.append(f1_eval_storage['prediction'], pred_label.cpu().detach().numpy())\n",
    "        f1_eval_storage['target'] = np.append(f1_eval_storage['target'], target.cpu().detach().numpy())\n",
    "        \n",
    "        total_cnt += scene.data.size()[0]\n",
    "        ave_loss = ave_loss * 0.99 + loss.item() * 0.01 #smooth average\n",
    "        correct += pred_label.eq(target.view_as(pred_label)).sum().item()\n",
    "        \n",
    "        if (batch_idx + 1) == len(val_loader):\n",
    "            print(\n",
    "            '>>> epoch: {}, batch index: {}, test loss ave(E): {:.6f}, acc: {:.6f}'.format(\n",
    "                epoch, batch_idx + 1, ave_loss, correct * 1.0 / total_cnt))\n",
    "            print(metrics.classification_report(f1_eval_storage['target'], f1_eval_storage['prediction']))\n",
    "            print('==================================================================') \n",
    "            \n",
    "            training_stats['accuracy'].append(correct * 1.0 / total_cnt)\n",
    "            training_stats['validation_loss'].append(ave_loss)\n",
    "            \n",
    "            if (correct * 1.0 / total_cnt) > best_accu:\n",
    "                save_checkpt(model_name, checkpoint_save_dir, epoch, model, optimizer, loss, accu=(correct * 1.0 / total_cnt), training_stats=training_stats)\n",
    "                best_accu = (correct * 1.0 / total_cnt)"
   ]
  },
  {
   "cell_type": "markdown",
   "metadata": {},
   "source": [
    "## Linear 10 class"
   ]
  },
  {
   "cell_type": "code",
   "execution_count": 27,
   "metadata": {},
   "outputs": [
    {
     "name": "stdout",
     "output_type": "stream",
     "text": [
      "==>>> epoch: 0, batch index: 625, test loss: 0.006252, acc: 0.171\n",
      "RMSE: 1.2385084197141987\n",
      "              precision    recall  f1-score   support\n",
      "\n",
      "         1.0       0.00      0.00      0.00        60\n",
      "         2.0       0.00      0.00      0.00       684\n",
      "         3.0       0.00      0.00      0.00      5517\n",
      "         4.0       0.44      0.00      0.01     10089\n",
      "         5.0       0.17      1.00      0.29      3381\n",
      "         6.0       0.00      0.00      0.00       263\n",
      "         7.0       0.00      0.00      0.00         5\n",
      "\n",
      "    accuracy                           0.17     19999\n",
      "   macro avg       0.09      0.14      0.04     19999\n",
      "weighted avg       0.25      0.17      0.05     19999\n",
      "\n",
      "SpearmanrResult(correlation=0.21367658848178067, pvalue=3.1152647900127305e-205)\n",
      "==================================================================\n"
     ]
    },
    {
     "name": "stderr",
     "output_type": "stream",
     "text": [
      "C:\\ProgramData\\Anaconda3\\envs\\pd\\lib\\site-packages\\sklearn\\metrics\\_classification.py:1221: UndefinedMetricWarning: Precision and F-score are ill-defined and being set to 0.0 in labels with no predicted samples. Use `zero_division` parameter to control this behavior.\n",
      "  _warn_prf(average, modifier, msg_start, len(result))\n",
      "C:\\ProgramData\\Anaconda3\\envs\\pd\\lib\\site-packages\\sklearn\\metrics\\_classification.py:1221: UndefinedMetricWarning: Precision and F-score are ill-defined and being set to 0.0 in labels with no predicted samples. Use `zero_division` parameter to control this behavior.\n",
      "  _warn_prf(average, modifier, msg_start, len(result))\n",
      "C:\\ProgramData\\Anaconda3\\envs\\pd\\lib\\site-packages\\torch\\cuda\\nccl.py:14: UserWarning: PyTorch is not compiled with NCCL support\n",
      "  warnings.warn('PyTorch is not compiled with NCCL support')\n"
     ]
    },
    {
     "name": "stdout",
     "output_type": "stream",
     "text": [
      "==>>> epoch: 0, batch index: 6563, train loss: 0.004996\n",
      "==>>> epoch: 0, batch index: 625, test loss: 0.003873, acc: 0.398\n",
      "RMSE: 0.7963102727814003\n",
      "              precision    recall  f1-score   support\n",
      "\n",
      "         1.0       0.00      0.00      0.00        60\n",
      "         2.0       0.00      0.00      0.00       684\n",
      "         3.0       0.43      0.02      0.04      5517\n",
      "         4.0       0.48      0.53      0.50     10089\n",
      "         5.0       0.30      0.75      0.42      3381\n",
      "         6.0       0.36      0.02      0.04       263\n",
      "         7.0       0.00      0.00      0.00         5\n",
      "\n",
      "    accuracy                           0.40     19999\n",
      "   macro avg       0.22      0.19      0.14     19999\n",
      "weighted avg       0.42      0.40      0.34     19999\n",
      "\n",
      "SpearmanrResult(correlation=0.5178783945737597, pvalue=0.0)\n",
      "==================================================================\n"
     ]
    },
    {
     "name": "stderr",
     "output_type": "stream",
     "text": [
      "C:\\ProgramData\\Anaconda3\\envs\\pd\\lib\\site-packages\\sklearn\\metrics\\_classification.py:1221: UndefinedMetricWarning: Precision and F-score are ill-defined and being set to 0.0 in labels with no predicted samples. Use `zero_division` parameter to control this behavior.\n",
      "  _warn_prf(average, modifier, msg_start, len(result))\n",
      "C:\\ProgramData\\Anaconda3\\envs\\pd\\lib\\site-packages\\sklearn\\metrics\\_classification.py:1221: UndefinedMetricWarning: Precision and F-score are ill-defined and being set to 0.0 in labels with no predicted samples. Use `zero_division` parameter to control this behavior.\n",
      "  _warn_prf(average, modifier, msg_start, len(result))\n",
      "C:\\ProgramData\\Anaconda3\\envs\\pd\\lib\\site-packages\\torch\\cuda\\nccl.py:14: UserWarning: PyTorch is not compiled with NCCL support\n",
      "  warnings.warn('PyTorch is not compiled with NCCL support')\n"
     ]
    },
    {
     "name": "stdout",
     "output_type": "stream",
     "text": [
      "==>>> epoch: 1, batch index: 6563, train loss: 0.005017\n",
      "==>>> epoch: 1, batch index: 625, test loss: 0.003667, acc: 0.372\n",
      "RMSE: 0.8161890297044759\n",
      "              precision    recall  f1-score   support\n",
      "\n",
      "         1.0       0.00      0.00      0.00        60\n",
      "         2.0       0.75      0.00      0.01       684\n",
      "         3.0       0.44      0.03      0.06      5517\n",
      "         4.0       0.46      0.45      0.45     10089\n",
      "         5.0       0.28      0.82      0.42      3381\n",
      "         6.0       0.25      0.02      0.03       263\n",
      "         7.0       0.00      0.00      0.00         5\n",
      "\n",
      "    accuracy                           0.37     19999\n",
      "   macro avg       0.31      0.19      0.14     19999\n",
      "weighted avg       0.43      0.37      0.32     19999\n",
      "\n",
      "SpearmanrResult(correlation=0.5457757951872947, pvalue=0.0)\n",
      "==================================================================\n"
     ]
    },
    {
     "name": "stderr",
     "output_type": "stream",
     "text": [
      "C:\\ProgramData\\Anaconda3\\envs\\pd\\lib\\site-packages\\sklearn\\metrics\\_classification.py:1221: UndefinedMetricWarning: Precision and F-score are ill-defined and being set to 0.0 in labels with no predicted samples. Use `zero_division` parameter to control this behavior.\n",
      "  _warn_prf(average, modifier, msg_start, len(result))\n",
      "C:\\ProgramData\\Anaconda3\\envs\\pd\\lib\\site-packages\\sklearn\\metrics\\_classification.py:1221: UndefinedMetricWarning: Precision and F-score are ill-defined and being set to 0.0 in labels with no predicted samples. Use `zero_division` parameter to control this behavior.\n",
      "  _warn_prf(average, modifier, msg_start, len(result))\n",
      "C:\\ProgramData\\Anaconda3\\envs\\pd\\lib\\site-packages\\torch\\cuda\\nccl.py:14: UserWarning: PyTorch is not compiled with NCCL support\n",
      "  warnings.warn('PyTorch is not compiled with NCCL support')\n"
     ]
    },
    {
     "name": "stdout",
     "output_type": "stream",
     "text": [
      "==>>> epoch: 2, batch index: 6563, train loss: 0.003743\n",
      "==>>> epoch: 2, batch index: 625, test loss: 0.003691, acc: 0.464\n",
      "RMSE: 0.6296667448728882\n",
      "              precision    recall  f1-score   support\n",
      "\n",
      "         1.0       0.00      0.00      0.00        60\n",
      "         2.0       0.57      0.01      0.01       684\n",
      "         3.0       0.49      0.05      0.10      5517\n",
      "         4.0       0.51      0.68      0.58     10089\n",
      "         5.0       0.35      0.64      0.46      3381\n",
      "         6.0       0.35      0.02      0.04       263\n",
      "         7.0       0.00      0.00      0.00         5\n",
      "\n",
      "    accuracy                           0.46     19999\n",
      "   macro avg       0.33      0.20      0.17     19999\n",
      "weighted avg       0.48      0.46      0.40     19999\n",
      "\n",
      "SpearmanrResult(correlation=0.5484971644825376, pvalue=0.0)\n",
      "==================================================================\n"
     ]
    },
    {
     "name": "stderr",
     "output_type": "stream",
     "text": [
      "C:\\ProgramData\\Anaconda3\\envs\\pd\\lib\\site-packages\\sklearn\\metrics\\_classification.py:1221: UndefinedMetricWarning: Precision and F-score are ill-defined and being set to 0.0 in labels with no predicted samples. Use `zero_division` parameter to control this behavior.\n",
      "  _warn_prf(average, modifier, msg_start, len(result))\n",
      "C:\\ProgramData\\Anaconda3\\envs\\pd\\lib\\site-packages\\sklearn\\metrics\\_classification.py:1221: UndefinedMetricWarning: Precision and F-score are ill-defined and being set to 0.0 in labels with no predicted samples. Use `zero_division` parameter to control this behavior.\n",
      "  _warn_prf(average, modifier, msg_start, len(result))\n",
      "C:\\ProgramData\\Anaconda3\\envs\\pd\\lib\\site-packages\\torch\\cuda\\nccl.py:14: UserWarning: PyTorch is not compiled with NCCL support\n",
      "  warnings.warn('PyTorch is not compiled with NCCL support')\n"
     ]
    },
    {
     "name": "stdout",
     "output_type": "stream",
     "text": [
      "==>>> epoch: 3, batch index: 6563, train loss: 0.004360\n",
      "==>>> epoch: 3, batch index: 625, test loss: 0.003473, acc: 0.452\n",
      "RMSE: 0.6633068570924274\n",
      "              precision    recall  f1-score   support\n",
      "\n",
      "         1.0       0.00      0.00      0.00        60\n",
      "         2.0       0.54      0.01      0.02       684\n",
      "         3.0       0.47      0.04      0.07      5517\n",
      "         4.0       0.50      0.65      0.57     10089\n",
      "         5.0       0.35      0.67      0.45      3381\n",
      "         6.0       0.15      0.02      0.03       263\n",
      "         7.0       0.00      0.00      0.00         5\n",
      "\n",
      "    accuracy                           0.45     19999\n",
      "   macro avg       0.29      0.20      0.16     19999\n",
      "weighted avg       0.46      0.45      0.39     19999\n",
      "\n",
      "SpearmanrResult(correlation=0.5552652160994934, pvalue=0.0)\n",
      "==================================================================\n"
     ]
    },
    {
     "name": "stderr",
     "output_type": "stream",
     "text": [
      "C:\\ProgramData\\Anaconda3\\envs\\pd\\lib\\site-packages\\sklearn\\metrics\\_classification.py:1221: UndefinedMetricWarning: Precision and F-score are ill-defined and being set to 0.0 in labels with no predicted samples. Use `zero_division` parameter to control this behavior.\n",
      "  _warn_prf(average, modifier, msg_start, len(result))\n",
      "C:\\ProgramData\\Anaconda3\\envs\\pd\\lib\\site-packages\\sklearn\\metrics\\_classification.py:1221: UndefinedMetricWarning: Precision and F-score are ill-defined and being set to 0.0 in labels with no predicted samples. Use `zero_division` parameter to control this behavior.\n",
      "  _warn_prf(average, modifier, msg_start, len(result))\n",
      "C:\\ProgramData\\Anaconda3\\envs\\pd\\lib\\site-packages\\torch\\cuda\\nccl.py:14: UserWarning: PyTorch is not compiled with NCCL support\n",
      "  warnings.warn('PyTorch is not compiled with NCCL support')\n"
     ]
    },
    {
     "name": "stdout",
     "output_type": "stream",
     "text": [
      "==>>> epoch: 4, batch index: 6563, train loss: 0.003755\n",
      "==>>> epoch: 4, batch index: 625, test loss: 0.003606, acc: 0.462\n",
      "RMSE: 0.6261517440171783\n",
      "              precision    recall  f1-score   support\n",
      "\n",
      "         1.0       0.25      0.02      0.03        60\n",
      "         2.0       0.52      0.06      0.11       684\n",
      "         3.0       0.56      0.10      0.16      5517\n",
      "         4.0       0.52      0.64      0.57     10089\n",
      "         5.0       0.34      0.65      0.45      3381\n",
      "         6.0       0.16      0.06      0.09       263\n",
      "         7.0       0.00      0.00      0.00         5\n",
      "         8.0       0.00      0.00      0.00         0\n",
      "\n",
      "    accuracy                           0.46     19999\n",
      "   macro avg       0.29      0.19      0.18     19999\n",
      "weighted avg       0.49      0.46      0.41     19999\n",
      "\n",
      "SpearmanrResult(correlation=0.5526448749955342, pvalue=0.0)\n",
      "==================================================================\n"
     ]
    },
    {
     "name": "stderr",
     "output_type": "stream",
     "text": [
      "C:\\ProgramData\\Anaconda3\\envs\\pd\\lib\\site-packages\\sklearn\\metrics\\_classification.py:1221: UndefinedMetricWarning: Recall and F-score are ill-defined and being set to 0.0 in labels with no true samples. Use `zero_division` parameter to control this behavior.\n",
      "  _warn_prf(average, modifier, msg_start, len(result))\n",
      "C:\\ProgramData\\Anaconda3\\envs\\pd\\lib\\site-packages\\sklearn\\metrics\\_classification.py:1221: UndefinedMetricWarning: Recall and F-score are ill-defined and being set to 0.0 in labels with no true samples. Use `zero_division` parameter to control this behavior.\n",
      "  _warn_prf(average, modifier, msg_start, len(result))\n",
      "C:\\ProgramData\\Anaconda3\\envs\\pd\\lib\\site-packages\\torch\\cuda\\nccl.py:14: UserWarning: PyTorch is not compiled with NCCL support\n",
      "  warnings.warn('PyTorch is not compiled with NCCL support')\n"
     ]
    },
    {
     "name": "stdout",
     "output_type": "stream",
     "text": [
      "==>>> epoch: 5, batch index: 6563, train loss: 0.002958\n",
      "==>>> epoch: 5, batch index: 625, test loss: 0.003548, acc: 0.460\n",
      "RMSE: 0.6237276528285642\n",
      "              precision    recall  f1-score   support\n",
      "\n",
      "         1.0       0.00      0.00      0.00        60\n",
      "         2.0       0.57      0.04      0.07       684\n",
      "         3.0       0.57      0.11      0.19      5517\n",
      "         4.0       0.52      0.62      0.56     10089\n",
      "         5.0       0.34      0.67      0.45      3381\n",
      "         6.0       0.20      0.08      0.11       263\n",
      "         7.0       0.00      0.00      0.00         5\n",
      "\n",
      "    accuracy                           0.46     19999\n",
      "   macro avg       0.31      0.22      0.20     19999\n",
      "weighted avg       0.50      0.46      0.42     19999\n",
      "\n",
      "SpearmanrResult(correlation=0.5636198989334578, pvalue=0.0)\n",
      "==================================================================\n"
     ]
    },
    {
     "name": "stderr",
     "output_type": "stream",
     "text": [
      "C:\\ProgramData\\Anaconda3\\envs\\pd\\lib\\site-packages\\sklearn\\metrics\\_classification.py:1221: UndefinedMetricWarning: Precision and F-score are ill-defined and being set to 0.0 in labels with no predicted samples. Use `zero_division` parameter to control this behavior.\n",
      "  _warn_prf(average, modifier, msg_start, len(result))\n",
      "C:\\ProgramData\\Anaconda3\\envs\\pd\\lib\\site-packages\\sklearn\\metrics\\_classification.py:1221: UndefinedMetricWarning: Precision and F-score are ill-defined and being set to 0.0 in labels with no predicted samples. Use `zero_division` parameter to control this behavior.\n",
      "  _warn_prf(average, modifier, msg_start, len(result))\n",
      "C:\\ProgramData\\Anaconda3\\envs\\pd\\lib\\site-packages\\torch\\cuda\\nccl.py:14: UserWarning: PyTorch is not compiled with NCCL support\n",
      "  warnings.warn('PyTorch is not compiled with NCCL support')\n"
     ]
    },
    {
     "name": "stdout",
     "output_type": "stream",
     "text": [
      "==>>> epoch: 6, batch index: 6563, train loss: 0.006003\n",
      "==>>> epoch: 6, batch index: 625, test loss: 0.003499, acc: 0.433\n",
      "RMSE: 0.6766280539483212\n",
      "              precision    recall  f1-score   support\n",
      "\n",
      "         1.0       1.00      0.02      0.03        60\n",
      "         2.0       0.55      0.02      0.03       684\n",
      "         3.0       0.53      0.09      0.16      5517\n",
      "         4.0       0.51      0.57      0.54     10089\n",
      "         5.0       0.32      0.71      0.44      3381\n",
      "         6.0       0.13      0.06      0.09       263\n",
      "         7.0       0.00      0.00      0.00         5\n",
      "         8.0       0.00      0.00      0.00         0\n",
      "\n",
      "    accuracy                           0.43     19999\n",
      "   macro avg       0.38      0.18      0.16     19999\n",
      "weighted avg       0.48      0.43      0.39     19999\n",
      "\n",
      "SpearmanrResult(correlation=0.5574593043916279, pvalue=0.0)\n",
      "==================================================================\n"
     ]
    },
    {
     "name": "stderr",
     "output_type": "stream",
     "text": [
      "C:\\ProgramData\\Anaconda3\\envs\\pd\\lib\\site-packages\\sklearn\\metrics\\_classification.py:1221: UndefinedMetricWarning: Recall and F-score are ill-defined and being set to 0.0 in labels with no true samples. Use `zero_division` parameter to control this behavior.\n",
      "  _warn_prf(average, modifier, msg_start, len(result))\n",
      "C:\\ProgramData\\Anaconda3\\envs\\pd\\lib\\site-packages\\sklearn\\metrics\\_classification.py:1221: UndefinedMetricWarning: Recall and F-score are ill-defined and being set to 0.0 in labels with no true samples. Use `zero_division` parameter to control this behavior.\n",
      "  _warn_prf(average, modifier, msg_start, len(result))\n",
      "C:\\ProgramData\\Anaconda3\\envs\\pd\\lib\\site-packages\\torch\\cuda\\nccl.py:14: UserWarning: PyTorch is not compiled with NCCL support\n",
      "  warnings.warn('PyTorch is not compiled with NCCL support')\n"
     ]
    },
    {
     "name": "stdout",
     "output_type": "stream",
     "text": [
      "==>>> epoch: 7, batch index: 6563, train loss: 0.002168\n",
      "==>>> epoch: 7, batch index: 625, test loss: 0.003493, acc: 0.418\n",
      "RMSE: 0.7181853460749362\n",
      "              precision    recall  f1-score   support\n",
      "\n",
      "         1.0       0.00      0.00      0.00        60\n",
      "         2.0       0.50      0.02      0.04       684\n",
      "         3.0       0.51      0.07      0.12      5517\n",
      "         4.0       0.49      0.54      0.52     10089\n",
      "         5.0       0.31      0.73      0.43      3381\n",
      "         6.0       0.16      0.07      0.10       263\n",
      "         7.0       0.00      0.00      0.00         5\n",
      "\n",
      "    accuracy                           0.42     19999\n",
      "   macro avg       0.28      0.21      0.17     19999\n",
      "weighted avg       0.46      0.42      0.37     19999\n",
      "\n",
      "SpearmanrResult(correlation=0.5528484724063263, pvalue=0.0)\n",
      "==================================================================\n"
     ]
    },
    {
     "name": "stderr",
     "output_type": "stream",
     "text": [
      "C:\\ProgramData\\Anaconda3\\envs\\pd\\lib\\site-packages\\sklearn\\metrics\\_classification.py:1221: UndefinedMetricWarning: Precision and F-score are ill-defined and being set to 0.0 in labels with no predicted samples. Use `zero_division` parameter to control this behavior.\n",
      "  _warn_prf(average, modifier, msg_start, len(result))\n",
      "C:\\ProgramData\\Anaconda3\\envs\\pd\\lib\\site-packages\\sklearn\\metrics\\_classification.py:1221: UndefinedMetricWarning: Precision and F-score are ill-defined and being set to 0.0 in labels with no predicted samples. Use `zero_division` parameter to control this behavior.\n",
      "  _warn_prf(average, modifier, msg_start, len(result))\n",
      "C:\\ProgramData\\Anaconda3\\envs\\pd\\lib\\site-packages\\torch\\cuda\\nccl.py:14: UserWarning: PyTorch is not compiled with NCCL support\n",
      "  warnings.warn('PyTorch is not compiled with NCCL support')\n"
     ]
    },
    {
     "name": "stdout",
     "output_type": "stream",
     "text": [
      "==>>> epoch: 8, batch index: 6563, train loss: 0.002490\n",
      "==>>> epoch: 8, batch index: 625, test loss: 0.003520, acc: 0.452\n",
      "RMSE: 0.6467165209494911\n",
      "              precision    recall  f1-score   support\n",
      "\n",
      "         1.0       0.00      0.00      0.00        60\n",
      "         2.0       0.71      0.02      0.03       684\n",
      "         3.0       0.54      0.10      0.16      5517\n",
      "         4.0       0.51      0.62      0.56     10089\n",
      "         5.0       0.33      0.66      0.44      3381\n",
      "         6.0       0.16      0.05      0.08       263\n",
      "         7.0       0.00      0.00      0.00         5\n",
      "\n",
      "    accuracy                           0.45     19999\n",
      "   macro avg       0.32      0.21      0.18     19999\n",
      "weighted avg       0.49      0.45      0.41     19999\n",
      "\n",
      "SpearmanrResult(correlation=0.5479695706497459, pvalue=0.0)\n",
      "==================================================================\n"
     ]
    },
    {
     "name": "stderr",
     "output_type": "stream",
     "text": [
      "C:\\ProgramData\\Anaconda3\\envs\\pd\\lib\\site-packages\\sklearn\\metrics\\_classification.py:1221: UndefinedMetricWarning: Precision and F-score are ill-defined and being set to 0.0 in labels with no predicted samples. Use `zero_division` parameter to control this behavior.\n",
      "  _warn_prf(average, modifier, msg_start, len(result))\n",
      "C:\\ProgramData\\Anaconda3\\envs\\pd\\lib\\site-packages\\sklearn\\metrics\\_classification.py:1221: UndefinedMetricWarning: Precision and F-score are ill-defined and being set to 0.0 in labels with no predicted samples. Use `zero_division` parameter to control this behavior.\n",
      "  _warn_prf(average, modifier, msg_start, len(result))\n",
      "C:\\ProgramData\\Anaconda3\\envs\\pd\\lib\\site-packages\\torch\\cuda\\nccl.py:14: UserWarning: PyTorch is not compiled with NCCL support\n",
      "  warnings.warn('PyTorch is not compiled with NCCL support')\n"
     ]
    },
    {
     "name": "stdout",
     "output_type": "stream",
     "text": [
      "==>>> epoch: 9, batch index: 6563, train loss: 0.001750\n",
      "==>>> epoch: 9, batch index: 625, test loss: 0.003820, acc: 0.475\n",
      "RMSE: 0.5991897849096252\n",
      "              precision    recall  f1-score   support\n",
      "\n",
      "         1.0       1.00      0.02      0.03        60\n",
      "         2.0       0.53      0.04      0.07       684\n",
      "         3.0       0.56      0.14      0.23      5517\n",
      "         4.0       0.53      0.66      0.59     10089\n",
      "         5.0       0.34      0.61      0.44      3381\n",
      "         6.0       0.13      0.03      0.04       263\n",
      "         7.0       0.00      0.00      0.00         5\n",
      "        10.0       0.00      0.00      0.00         0\n",
      "\n",
      "    accuracy                           0.48     19999\n",
      "   macro avg       0.39      0.19      0.18     19999\n",
      "weighted avg       0.50      0.48      0.44     19999\n",
      "\n",
      "SpearmanrResult(correlation=0.5285673220528005, pvalue=0.0)\n",
      "==================================================================\n"
     ]
    },
    {
     "name": "stderr",
     "output_type": "stream",
     "text": [
      "C:\\ProgramData\\Anaconda3\\envs\\pd\\lib\\site-packages\\sklearn\\metrics\\_classification.py:1221: UndefinedMetricWarning: Recall and F-score are ill-defined and being set to 0.0 in labels with no true samples. Use `zero_division` parameter to control this behavior.\n",
      "  _warn_prf(average, modifier, msg_start, len(result))\n",
      "C:\\ProgramData\\Anaconda3\\envs\\pd\\lib\\site-packages\\sklearn\\metrics\\_classification.py:1221: UndefinedMetricWarning: Recall and F-score are ill-defined and being set to 0.0 in labels with no true samples. Use `zero_division` parameter to control this behavior.\n",
      "  _warn_prf(average, modifier, msg_start, len(result))\n",
      "C:\\ProgramData\\Anaconda3\\envs\\pd\\lib\\site-packages\\torch\\cuda\\nccl.py:14: UserWarning: PyTorch is not compiled with NCCL support\n",
      "  warnings.warn('PyTorch is not compiled with NCCL support')\n"
     ]
    },
    {
     "name": "stdout",
     "output_type": "stream",
     "text": [
      "==>>> epoch: 10, batch index: 6563, train loss: 0.001988\n",
      "==>>> epoch: 10, batch index: 625, test loss: 0.003774, acc: 0.411\n",
      "RMSE: 0.7650360246379171\n",
      "              precision    recall  f1-score   support\n",
      "\n",
      "         1.0       0.00      0.00      0.00        60\n",
      "         2.0       0.64      0.02      0.04       684\n",
      "         3.0       0.52      0.07      0.12      5517\n",
      "         4.0       0.50      0.53      0.51     10089\n",
      "         5.0       0.30      0.73      0.42      3381\n",
      "         6.0       0.12      0.09      0.10       263\n",
      "         7.0       0.00      0.00      0.00         5\n",
      "\n",
      "    accuracy                           0.41     19999\n",
      "   macro avg       0.30      0.21      0.17     19999\n",
      "weighted avg       0.47      0.41      0.37     19999\n",
      "\n",
      "SpearmanrResult(correlation=0.5319515350496249, pvalue=0.0)\n",
      "==================================================================\n"
     ]
    },
    {
     "name": "stderr",
     "output_type": "stream",
     "text": [
      "C:\\ProgramData\\Anaconda3\\envs\\pd\\lib\\site-packages\\sklearn\\metrics\\_classification.py:1221: UndefinedMetricWarning: Precision and F-score are ill-defined and being set to 0.0 in labels with no predicted samples. Use `zero_division` parameter to control this behavior.\n",
      "  _warn_prf(average, modifier, msg_start, len(result))\n",
      "C:\\ProgramData\\Anaconda3\\envs\\pd\\lib\\site-packages\\sklearn\\metrics\\_classification.py:1221: UndefinedMetricWarning: Precision and F-score are ill-defined and being set to 0.0 in labels with no predicted samples. Use `zero_division` parameter to control this behavior.\n",
      "  _warn_prf(average, modifier, msg_start, len(result))\n",
      "C:\\ProgramData\\Anaconda3\\envs\\pd\\lib\\site-packages\\torch\\cuda\\nccl.py:14: UserWarning: PyTorch is not compiled with NCCL support\n",
      "  warnings.warn('PyTorch is not compiled with NCCL support')\n"
     ]
    },
    {
     "name": "stdout",
     "output_type": "stream",
     "text": [
      "==>>> epoch: 11, batch index: 6563, train loss: 0.002571\n",
      "==>>> epoch: 11, batch index: 625, test loss: 0.003660, acc: 0.442\n",
      "RMSE: 0.682178705845769\n",
      "              precision    recall  f1-score   support\n",
      "\n",
      "         1.0       1.00      0.03      0.06        60\n",
      "         2.0       0.51      0.05      0.10       684\n",
      "         3.0       0.56      0.12      0.20      5517\n",
      "         4.0       0.52      0.58      0.55     10089\n",
      "         5.0       0.31      0.67      0.43      3381\n",
      "         6.0       0.15      0.11      0.13       263\n",
      "         7.0       0.00      0.00      0.00         5\n",
      "\n",
      "    accuracy                           0.44     19999\n",
      "   macro avg       0.44      0.22      0.21     19999\n",
      "weighted avg       0.49      0.44      0.41     19999\n",
      "\n",
      "SpearmanrResult(correlation=0.529964874312283, pvalue=0.0)\n",
      "==================================================================\n"
     ]
    },
    {
     "name": "stderr",
     "output_type": "stream",
     "text": [
      "C:\\ProgramData\\Anaconda3\\envs\\pd\\lib\\site-packages\\torch\\cuda\\nccl.py:14: UserWarning: PyTorch is not compiled with NCCL support\n",
      "  warnings.warn('PyTorch is not compiled with NCCL support')\n"
     ]
    },
    {
     "name": "stdout",
     "output_type": "stream",
     "text": [
      "==>>> epoch: 12, batch index: 6563, train loss: 0.002572\n",
      "==>>> epoch: 12, batch index: 625, test loss: 0.003896, acc: 0.454\n",
      "RMSE: 0.6568905648556201\n",
      "              precision    recall  f1-score   support\n",
      "\n",
      "         1.0       0.00      0.00      0.00        60\n",
      "         2.0       0.66      0.03      0.06       684\n",
      "         3.0       0.54      0.11      0.18      5517\n",
      "         4.0       0.52      0.63      0.57     10089\n",
      "         5.0       0.32      0.61      0.42      3381\n",
      "         6.0       0.14      0.05      0.07       263\n",
      "         7.0       0.00      0.00      0.00         5\n",
      "         8.0       0.00      0.00      0.00         0\n",
      "\n",
      "    accuracy                           0.45     19999\n",
      "   macro avg       0.27      0.18      0.16     19999\n",
      "weighted avg       0.49      0.45      0.41     19999\n",
      "\n",
      "SpearmanrResult(correlation=0.5118443453111636, pvalue=0.0)\n",
      "==================================================================\n"
     ]
    },
    {
     "name": "stderr",
     "output_type": "stream",
     "text": [
      "C:\\ProgramData\\Anaconda3\\envs\\pd\\lib\\site-packages\\sklearn\\metrics\\_classification.py:1221: UndefinedMetricWarning: Precision and F-score are ill-defined and being set to 0.0 in labels with no predicted samples. Use `zero_division` parameter to control this behavior.\n",
      "  _warn_prf(average, modifier, msg_start, len(result))\n",
      "C:\\ProgramData\\Anaconda3\\envs\\pd\\lib\\site-packages\\sklearn\\metrics\\_classification.py:1221: UndefinedMetricWarning: Recall and F-score are ill-defined and being set to 0.0 in labels with no true samples. Use `zero_division` parameter to control this behavior.\n",
      "  _warn_prf(average, modifier, msg_start, len(result))\n",
      "C:\\ProgramData\\Anaconda3\\envs\\pd\\lib\\site-packages\\sklearn\\metrics\\_classification.py:1221: UndefinedMetricWarning: Precision and F-score are ill-defined and being set to 0.0 in labels with no predicted samples. Use `zero_division` parameter to control this behavior.\n",
      "  _warn_prf(average, modifier, msg_start, len(result))\n",
      "C:\\ProgramData\\Anaconda3\\envs\\pd\\lib\\site-packages\\sklearn\\metrics\\_classification.py:1221: UndefinedMetricWarning: Recall and F-score are ill-defined and being set to 0.0 in labels with no true samples. Use `zero_division` parameter to control this behavior.\n",
      "  _warn_prf(average, modifier, msg_start, len(result))\n",
      "C:\\ProgramData\\Anaconda3\\envs\\pd\\lib\\site-packages\\torch\\cuda\\nccl.py:14: UserWarning: PyTorch is not compiled with NCCL support\n",
      "  warnings.warn('PyTorch is not compiled with NCCL support')\n"
     ]
    },
    {
     "name": "stdout",
     "output_type": "stream",
     "text": [
      "==>>> epoch: 13, batch index: 6563, train loss: 0.001924\n",
      "==>>> epoch: 13, batch index: 625, test loss: 0.004173, acc: 0.451\n",
      "RMSE: 0.6839679106395657\n",
      "              precision    recall  f1-score   support\n",
      "\n",
      "         1.0       0.67      0.03      0.06        60\n",
      "         2.0       0.52      0.05      0.10       684\n",
      "         3.0       0.55      0.15      0.24      5517\n",
      "         4.0       0.53      0.60      0.56     10089\n",
      "         5.0       0.31      0.62      0.42      3381\n",
      "         6.0       0.08      0.06      0.07       263\n",
      "         7.0       0.00      0.00      0.00         5\n",
      "         8.0       0.00      0.00      0.00         0\n",
      "         9.0       0.00      0.00      0.00         0\n",
      "\n",
      "    accuracy                           0.45     19999\n",
      "   macro avg       0.30      0.17      0.16     19999\n",
      "weighted avg       0.49      0.45      0.42     19999\n",
      "\n",
      "SpearmanrResult(correlation=0.5047559360431231, pvalue=0.0)\n",
      "==================================================================\n"
     ]
    },
    {
     "name": "stderr",
     "output_type": "stream",
     "text": [
      "C:\\ProgramData\\Anaconda3\\envs\\pd\\lib\\site-packages\\sklearn\\metrics\\_classification.py:1221: UndefinedMetricWarning: Recall and F-score are ill-defined and being set to 0.0 in labels with no true samples. Use `zero_division` parameter to control this behavior.\n",
      "  _warn_prf(average, modifier, msg_start, len(result))\n",
      "C:\\ProgramData\\Anaconda3\\envs\\pd\\lib\\site-packages\\sklearn\\metrics\\_classification.py:1221: UndefinedMetricWarning: Recall and F-score are ill-defined and being set to 0.0 in labels with no true samples. Use `zero_division` parameter to control this behavior.\n",
      "  _warn_prf(average, modifier, msg_start, len(result))\n",
      "C:\\ProgramData\\Anaconda3\\envs\\pd\\lib\\site-packages\\torch\\cuda\\nccl.py:14: UserWarning: PyTorch is not compiled with NCCL support\n",
      "  warnings.warn('PyTorch is not compiled with NCCL support')\n"
     ]
    },
    {
     "name": "stdout",
     "output_type": "stream",
     "text": [
      "==>>> epoch: 14, batch index: 6563, train loss: 0.001747\n",
      "==>>> epoch: 14, batch index: 625, test loss: 0.004172, acc: 0.469\n",
      "RMSE: 0.6768352824322277\n",
      "              precision    recall  f1-score   support\n",
      "\n",
      "         1.0       1.00      0.02      0.03        60\n",
      "         2.0       0.57      0.06      0.11       684\n",
      "         3.0       0.57      0.17      0.26      5517\n",
      "         4.0       0.54      0.64      0.58     10089\n",
      "         5.0       0.32      0.57      0.41      3381\n",
      "         6.0       0.12      0.13      0.12       263\n",
      "         7.0       0.00      0.00      0.00         5\n",
      "         8.0       0.00      0.00      0.00         0\n",
      "         9.0       0.00      0.00      0.00         0\n",
      "        10.0       0.00      0.00      0.00         0\n",
      "\n",
      "    accuracy                           0.47     19999\n",
      "   macro avg       0.31      0.16      0.15     19999\n",
      "weighted avg       0.51      0.47      0.44     19999\n",
      "\n",
      "SpearmanrResult(correlation=0.5095551273761242, pvalue=0.0)\n",
      "==================================================================\n"
     ]
    },
    {
     "name": "stderr",
     "output_type": "stream",
     "text": [
      "C:\\ProgramData\\Anaconda3\\envs\\pd\\lib\\site-packages\\sklearn\\metrics\\_classification.py:1221: UndefinedMetricWarning: Recall and F-score are ill-defined and being set to 0.0 in labels with no true samples. Use `zero_division` parameter to control this behavior.\n",
      "  _warn_prf(average, modifier, msg_start, len(result))\n",
      "C:\\ProgramData\\Anaconda3\\envs\\pd\\lib\\site-packages\\sklearn\\metrics\\_classification.py:1221: UndefinedMetricWarning: Recall and F-score are ill-defined and being set to 0.0 in labels with no true samples. Use `zero_division` parameter to control this behavior.\n",
      "  _warn_prf(average, modifier, msg_start, len(result))\n",
      "C:\\ProgramData\\Anaconda3\\envs\\pd\\lib\\site-packages\\torch\\cuda\\nccl.py:14: UserWarning: PyTorch is not compiled with NCCL support\n",
      "  warnings.warn('PyTorch is not compiled with NCCL support')\n"
     ]
    },
    {
     "name": "stdout",
     "output_type": "stream",
     "text": [
      "==>>> epoch: 15, batch index: 6563, train loss: 0.001617\n",
      "==>>> epoch: 15, batch index: 625, test loss: 0.004034, acc: 0.458\n",
      "RMSE: 0.6716421599793216\n",
      "              precision    recall  f1-score   support\n",
      "\n",
      "         1.0       1.00      0.03      0.06        60\n",
      "         2.0       0.71      0.02      0.05       684\n",
      "         3.0       0.56      0.13      0.21      5517\n",
      "         4.0       0.52      0.63      0.57     10089\n",
      "         5.0       0.32      0.60      0.41      3381\n",
      "         6.0       0.11      0.06      0.08       263\n",
      "         7.0       0.00      0.00      0.00         5\n",
      "         9.0       0.00      0.00      0.00         0\n",
      "        10.0       0.00      0.00      0.00         0\n",
      "\n",
      "    accuracy                           0.46     19999\n",
      "   macro avg       0.36      0.16      0.15     19999\n",
      "weighted avg       0.50      0.46      0.42     19999\n",
      "\n",
      "SpearmanrResult(correlation=0.49300618260061735, pvalue=0.0)\n",
      "==================================================================\n"
     ]
    },
    {
     "name": "stderr",
     "output_type": "stream",
     "text": [
      "C:\\ProgramData\\Anaconda3\\envs\\pd\\lib\\site-packages\\sklearn\\metrics\\_classification.py:1221: UndefinedMetricWarning: Recall and F-score are ill-defined and being set to 0.0 in labels with no true samples. Use `zero_division` parameter to control this behavior.\n",
      "  _warn_prf(average, modifier, msg_start, len(result))\n",
      "C:\\ProgramData\\Anaconda3\\envs\\pd\\lib\\site-packages\\sklearn\\metrics\\_classification.py:1221: UndefinedMetricWarning: Recall and F-score are ill-defined and being set to 0.0 in labels with no true samples. Use `zero_division` parameter to control this behavior.\n",
      "  _warn_prf(average, modifier, msg_start, len(result))\n",
      "C:\\ProgramData\\Anaconda3\\envs\\pd\\lib\\site-packages\\torch\\cuda\\nccl.py:14: UserWarning: PyTorch is not compiled with NCCL support\n",
      "  warnings.warn('PyTorch is not compiled with NCCL support')\n"
     ]
    },
    {
     "name": "stdout",
     "output_type": "stream",
     "text": [
      "==>>> epoch: 16, batch index: 6563, train loss: 0.002904\n",
      "==>>> epoch: 16, batch index: 625, test loss: 0.004222, acc: 0.420\n",
      "RMSE: 0.7794995651500715\n",
      "              precision    recall  f1-score   support\n",
      "\n",
      "         1.0       1.00      0.03      0.06        60\n",
      "         2.0       0.69      0.04      0.07       684\n",
      "         3.0       0.55      0.13      0.21      5517\n",
      "         4.0       0.52      0.54      0.53     10089\n",
      "         5.0       0.28      0.65      0.40      3381\n",
      "         6.0       0.09      0.15      0.11       263\n",
      "         7.0       0.00      0.00      0.00         5\n",
      "         8.0       0.00      0.00      0.00         0\n",
      "\n",
      "    accuracy                           0.42     19999\n",
      "   macro avg       0.39      0.19      0.17     19999\n",
      "weighted avg       0.49      0.42      0.40     19999\n",
      "\n",
      "SpearmanrResult(correlation=0.4892998707388946, pvalue=0.0)\n",
      "==================================================================\n"
     ]
    },
    {
     "name": "stderr",
     "output_type": "stream",
     "text": [
      "C:\\ProgramData\\Anaconda3\\envs\\pd\\lib\\site-packages\\sklearn\\metrics\\_classification.py:1221: UndefinedMetricWarning: Recall and F-score are ill-defined and being set to 0.0 in labels with no true samples. Use `zero_division` parameter to control this behavior.\n",
      "  _warn_prf(average, modifier, msg_start, len(result))\n",
      "C:\\ProgramData\\Anaconda3\\envs\\pd\\lib\\site-packages\\sklearn\\metrics\\_classification.py:1221: UndefinedMetricWarning: Recall and F-score are ill-defined and being set to 0.0 in labels with no true samples. Use `zero_division` parameter to control this behavior.\n",
      "  _warn_prf(average, modifier, msg_start, len(result))\n",
      "C:\\ProgramData\\Anaconda3\\envs\\pd\\lib\\site-packages\\torch\\cuda\\nccl.py:14: UserWarning: PyTorch is not compiled with NCCL support\n",
      "  warnings.warn('PyTorch is not compiled with NCCL support')\n"
     ]
    },
    {
     "name": "stdout",
     "output_type": "stream",
     "text": [
      "==>>> epoch: 17, batch index: 6563, train loss: 0.002388\n",
      "==>>> epoch: 17, batch index: 625, test loss: 0.004048, acc: 0.432\n",
      "RMSE: 0.7149454163362923\n",
      "              precision    recall  f1-score   support\n",
      "\n",
      "         1.0       1.00      0.03      0.06        60\n",
      "         2.0       0.52      0.02      0.05       684\n",
      "         3.0       0.54      0.12      0.20      5517\n",
      "         4.0       0.51      0.57      0.54     10089\n",
      "         5.0       0.30      0.63      0.40      3381\n",
      "         6.0       0.13      0.12      0.12       263\n",
      "         7.0       0.00      0.00      0.00         5\n",
      "\n",
      "    accuracy                           0.43     19999\n",
      "   macro avg       0.43      0.22      0.20     19999\n",
      "weighted avg       0.48      0.43      0.40     19999\n",
      "\n",
      "SpearmanrResult(correlation=0.4975946909317786, pvalue=0.0)\n",
      "==================================================================\n"
     ]
    },
    {
     "name": "stderr",
     "output_type": "stream",
     "text": [
      "C:\\ProgramData\\Anaconda3\\envs\\pd\\lib\\site-packages\\torch\\cuda\\nccl.py:14: UserWarning: PyTorch is not compiled with NCCL support\n",
      "  warnings.warn('PyTorch is not compiled with NCCL support')\n"
     ]
    },
    {
     "name": "stdout",
     "output_type": "stream",
     "text": [
      "==>>> epoch: 18, batch index: 6563, train loss: 0.001160\n",
      "==>>> epoch: 18, batch index: 625, test loss: 0.004175, acc: 0.424\n",
      "RMSE: 0.7500020809260373\n",
      "              precision    recall  f1-score   support\n",
      "\n",
      "         1.0       0.50      0.03      0.06        60\n",
      "         2.0       0.59      0.03      0.06       684\n",
      "         3.0       0.55      0.12      0.20      5517\n",
      "         4.0       0.51      0.56      0.53     10089\n",
      "         5.0       0.29      0.63      0.39      3381\n",
      "         6.0       0.09      0.12      0.10       263\n",
      "         7.0       0.00      0.00      0.00         5\n",
      "\n",
      "    accuracy                           0.42     19999\n",
      "   macro avg       0.36      0.21      0.19     19999\n",
      "weighted avg       0.48      0.42      0.39     19999\n",
      "\n",
      "SpearmanrResult(correlation=0.4847499072262295, pvalue=0.0)\n",
      "==================================================================\n"
     ]
    },
    {
     "name": "stderr",
     "output_type": "stream",
     "text": [
      "C:\\ProgramData\\Anaconda3\\envs\\pd\\lib\\site-packages\\torch\\cuda\\nccl.py:14: UserWarning: PyTorch is not compiled with NCCL support\n",
      "  warnings.warn('PyTorch is not compiled with NCCL support')\n"
     ]
    },
    {
     "name": "stdout",
     "output_type": "stream",
     "text": [
      "==>>> epoch: 19, batch index: 6563, train loss: 0.000918\n",
      "==>>> epoch: 19, batch index: 625, test loss: 0.004374, acc: 0.483\n",
      "RMSE: 0.6113942936722222\n",
      "              precision    recall  f1-score   support\n",
      "\n",
      "         1.0       0.50      0.05      0.09        60\n",
      "         2.0       0.50      0.04      0.07       684\n",
      "         3.0       0.54      0.16      0.25      5517\n",
      "         4.0       0.54      0.69      0.60     10089\n",
      "         5.0       0.34      0.52      0.41      3381\n",
      "         6.0       0.10      0.04      0.06       263\n",
      "         7.0       0.00      0.00      0.00         5\n",
      "\n",
      "    accuracy                           0.48     19999\n",
      "   macro avg       0.36      0.21      0.21     19999\n",
      "weighted avg       0.50      0.48      0.45     19999\n",
      "\n",
      "SpearmanrResult(correlation=0.48365100073072875, pvalue=0.0)\n",
      "==================================================================\n"
     ]
    }
   ],
   "source": [
    "global epoch #declear epoch global, to be used later by torch.save() \n",
    "VALIDATION_FIRST = True\n",
    "\n",
    "for epoch in range(20):\n",
    "\n",
    "    ave_loss = 0\n",
    "    global loss #declear loss global, to be used later by torch.save() \n",
    "\n",
    "    if epoch == 0 and VALIDATION_FIRST:\n",
    "        \n",
    "        correct_cnt, ave_loss = 0, 0\n",
    "        total_cnt = 0\n",
    "        f1_eval_storage = {'prediction':[], 'target':[], 'pred_label':[]}\n",
    "        \n",
    "        for batch_idx, diction in enumerate(val_loader):\n",
    "            model.eval() #set model to evaluation mode\n",
    "\n",
    "            imagelist, scene, target = diction['image'], diction['scene'], diction['rating'] #extract training data for this batch\n",
    "            \n",
    "            target = target.to(device) \n",
    "            target = Variable(target)\n",
    "            target = target.float()\n",
    "\n",
    "            with autocast():\n",
    "                out = model(imagelist, scene, device=device) #forward pass\n",
    "                loss = criterion(out.squeeze(1), target / 10) #calculate loss\n",
    "\n",
    "            pred_label = np.around(out.cpu().detach().numpy() * 10)\n",
    "\n",
    "            target = target.long()\n",
    "            \n",
    "            f1_eval_storage['prediction'] = np.append(f1_eval_storage['prediction'], out.cpu().detach().numpy() * 10)\n",
    "            f1_eval_storage['target'] = np.append(f1_eval_storage['target'], target.cpu().detach().numpy())\n",
    "            f1_eval_storage['pred_label'] = np.append(f1_eval_storage['pred_label'], pred_label)\n",
    "\n",
    "            total_cnt += scene.data.size()[0]\n",
    "            # print(out, target.cpu().detach().numpy(), pred_label.squeeze(1))\n",
    "            correct_cnt += (pred_label.squeeze(1) == target.cpu().detach().numpy()).sum()\n",
    "            \n",
    "            ave_loss = ave_loss * 0.99 + loss.item() * 0.01 #smooth average\n",
    "\n",
    "            if (batch_idx + 1) == len(val_loader):\n",
    "                print(\n",
    "                '==>>> epoch: {}, batch index: {}, test loss: {:.6f}, acc: {:.3f}'.format(\n",
    "                    epoch, batch_idx + 1, ave_loss, correct_cnt.item() * 1.0 / total_cnt))\n",
    "\n",
    "            if (batch_idx + 1) == len(val_loader):\n",
    "                training_stats['validation_loss'].append(ave_loss)\n",
    "                training_stats['accuracy'].append(correct_cnt.item() * 1.0 / total_cnt)\n",
    "                training_stats['RMSE'].append(metrics.mean_squared_error(f1_eval_storage['target'], f1_eval_storage['prediction']))\n",
    "                training_stats['spearmanr'].append(scipy.stats.spearmanr(f1_eval_storage['target'], f1_eval_storage['prediction']))\n",
    "                training_stats['classification'].append(metrics.classification_report(f1_eval_storage['target'], f1_eval_storage['pred_label']))\n",
    "                print('RMSE:', metrics.mean_squared_error(f1_eval_storage['target'], f1_eval_storage['prediction']))\n",
    "                print(metrics.classification_report(f1_eval_storage['target'], f1_eval_storage['pred_label']))\n",
    "                print(scipy.stats.spearmanr(f1_eval_storage['target'], f1_eval_storage['prediction']))\n",
    "                print('==================================================================') \n",
    "            \n",
    "\n",
    "    for batch_idx, diction in enumerate(train_loader):\n",
    "        \n",
    "        model.train() #set model to traning mode\n",
    "        optimizer.zero_grad()\n",
    "        \n",
    "        imagelist, scene, target = diction['image'], diction['scene'], diction['rating'] #extract training data for this batch\n",
    "            \n",
    "        target = target.to(device) \n",
    "        target = Variable(target)\n",
    "        target = target.float()\n",
    "\n",
    "        with autocast():\n",
    "            out = model(imagelist, scene, device=device) #forward pass\n",
    "            loss = criterion(out.squeeze(1), target / 10) #calculate loss\n",
    "        \n",
    "        scaler.scale(loss).backward() #back propagation with calculated loss\n",
    "        scaler.step(optimizer) \n",
    "        scaler.update()\n",
    "        \n",
    "        ave_loss = ave_loss * 0.999 + loss.item() * 0.001 \n",
    "        \n",
    "        if (batch_idx + 1) == len(train_loader):\n",
    "            print('==>>> epoch: {}, batch index: {}, train loss: {:.6f}'.format(epoch, batch_idx + 1, loss))\n",
    "            training_stats['tarining_loss'].append(ave_loss)\n",
    "            \n",
    "\n",
    "    correct_cnt, ave_loss = 0, 0\n",
    "    total_cnt = 0\n",
    "    f1_eval_storage = {'prediction':[], 'target':[], 'pred_label':[]}\n",
    "    \n",
    "    for batch_idx, diction in enumerate(val_loader):\n",
    "        model.eval() #set model to evaluation mode\n",
    "\n",
    "        imagelist, scene, target = diction['image'], diction['scene'], diction['rating'] #extract training data for this batch\n",
    "\n",
    "        target = target.to(device) \n",
    "        target = Variable(target)\n",
    "        target = target.float()\n",
    "\n",
    "        with autocast():\n",
    "            out = model(imagelist, scene, device=device) #forward pass\n",
    "            loss = criterion(out.squeeze(1), target / 10) #calculate loss\n",
    "\n",
    "        pred_label = out.data\n",
    "        pred_label = np.around(out.cpu().detach().numpy() * 10)\n",
    "\n",
    "        target = target.long()\n",
    "\n",
    "        f1_eval_storage['prediction'] = np.append(f1_eval_storage['prediction'], out.cpu().detach().numpy() * 10)\n",
    "        f1_eval_storage['target'] = np.append(f1_eval_storage['target'], target.cpu().detach().numpy())\n",
    "        f1_eval_storage['pred_label'] = np.append(f1_eval_storage['pred_label'], pred_label)\n",
    "\n",
    "        total_cnt += scene.data.size()[0]\n",
    "        correct_cnt += (pred_label.squeeze(1) == target.cpu().detach().numpy()).sum()\n",
    "\n",
    "        ave_loss = ave_loss * 0.99 + loss.item() * 0.01 #smooth average\n",
    "\n",
    "        if (batch_idx + 1) == len(val_loader):\n",
    "            print(\n",
    "            '==>>> epoch: {}, batch index: {}, test loss: {:.6f}, acc: {:.3f}'.format(\n",
    "                epoch, batch_idx + 1, ave_loss, correct_cnt.item() * 1.0 / total_cnt))\n",
    "\n",
    "        if (batch_idx + 1) == len(val_loader):\n",
    "            training_stats['validation_loss'].append(ave_loss)\n",
    "            training_stats['accuracy'].append(correct_cnt.item() * 1.0 / total_cnt)\n",
    "            training_stats['RMSE'].append(metrics.mean_squared_error(f1_eval_storage['target'], f1_eval_storage['prediction']))\n",
    "            training_stats['spearmanr'].append(scipy.stats.spearmanr(f1_eval_storage['target'], f1_eval_storage['prediction']))\n",
    "            training_stats['classification'].append(metrics.classification_report(f1_eval_storage['target'], f1_eval_storage['pred_label']))\n",
    "            print('RMSE:', metrics.mean_squared_error(f1_eval_storage['target'], f1_eval_storage['prediction']))\n",
    "            print(metrics.classification_report(f1_eval_storage['target'], f1_eval_storage['pred_label']))\n",
    "            print(scipy.stats.spearmanr(f1_eval_storage['target'], f1_eval_storage['prediction']))\n",
    "            print('==================================================================') "
   ]
  },
  {
   "cell_type": "markdown",
   "metadata": {},
   "source": [
    "# Metrics, Saving, Loading"
   ]
  },
  {
   "cell_type": "code",
   "execution_count": 33,
   "metadata": {},
   "outputs": [
    {
     "name": "stdout",
     "output_type": "stream",
     "text": [
      "              precision    recall  f1-score   support\n",
      "\n",
      "         1.0       0.00      1.00      0.01        60\n",
      "         2.0       0.00      0.00      0.00       684\n",
      "         3.0       0.00      0.00      0.00      5517\n",
      "         4.0       0.00      0.00      0.00     10089\n",
      "         5.0       0.00      0.00      0.00      3381\n",
      "         6.0       0.00      0.00      0.00       263\n",
      "         7.0       0.00      0.00      0.00         5\n",
      "\n",
      "    accuracy                           0.00     19999\n",
      "   macro avg       0.00      0.14      0.00     19999\n",
      "weighted avg       0.00      0.00      0.00     19999\n",
      "\n"
     ]
    },
    {
     "name": "stderr",
     "output_type": "stream",
     "text": [
      "C:\\ProgramData\\Anaconda3\\envs\\pd\\lib\\site-packages\\sklearn\\metrics\\_classification.py:1221: UndefinedMetricWarning: Precision and F-score are ill-defined and being set to 0.0 in labels with no predicted samples. Use `zero_division` parameter to control this behavior.\n",
      "  _warn_prf(average, modifier, msg_start, len(result))\n"
     ]
    }
   ],
   "source": [
    "# print(scipy.stats.spearmanr((f1_eval_storage['target'], f1_eval_storage['prediction'])))\n",
    "print(metrics.classification_report(f1_eval_storage['target'], f1_eval_storage['prediction']))"
   ]
  },
  {
   "cell_type": "code",
   "execution_count": null,
   "metadata": {},
   "outputs": [],
   "source": [
    "from pthflops import count_ops\n",
    "\n",
    "model.eval()\n",
    "\n",
    "inp = torch.Tensor(np.zeros(150528).reshape(1, 3, 224, 224))\n",
    "\n",
    "inp = inp.cuda()\n",
    "inp = inp.to(torch.device(\"cuda:0\"))\n",
    "\n",
    "count_ops(model, inp)"
   ]
  },
  {
   "cell_type": "code",
   "execution_count": 30,
   "metadata": {},
   "outputs": [],
   "source": [
    "model_name = \"Augmented_Densenet_Smooth\"\n",
    "checkpoint_save_dir = r\"C:\\Users\\Leo's PC\\PycharmProjects\\PD\\Model Checkpoints\"\n",
    "checkpoint_file = open(checkpoint_save_dir + \"\\\\\" + model_name + \"_\" + \"E\" + str(20) + \"_\" + time.strftime(\"%m.%d.%Y_%H.%M.%S\") \n",
    "                       + \".tar\", 'wb')\n",
    "\n",
    "torch.save({\n",
    "            'epoch': epoch,\n",
    "            'model_state_dict': model.state_dict(),\n",
    "            'optimizer_state_dict': optimizer.state_dict(),\n",
    "            'loss': loss,\n",
    "            'training_stats': training_stats\n",
    "            }, checkpoint_file)\n",
    "\n",
    "checkpoint_file.close()"
   ]
  },
  {
   "cell_type": "code",
   "execution_count": 31,
   "metadata": {},
   "outputs": [
    {
     "data": {
      "image/png": "[encoded data removed]",
      "text/plain": [
       "<Figure size 432x288 with 1 Axes>"
      ]
     },
     "metadata": {
      "needs_background": "light"
     },
     "output_type": "display_data"
    },
    {
     "name": "stdout",
     "output_type": "stream",
     "text": [
      "0.48307415370768536\n"
     ]
    },
    {
     "data": {
      "image/png": "[encoded data removed]",
      "text/plain": [
       "<Figure size 432x288 with 1 Axes>"
      ]
     },
     "metadata": {
      "needs_background": "light"
     },
     "output_type": "display_data"
    }
   ],
   "source": [
    "plt.figure()\n",
    "\n",
    "plt.ylabel('loss')\n",
    "plt.xlabel('Epoch')\n",
    "plt.title('Augmented DenseNet - Linear Regression')\n",
    "\n",
    "plt.plot(np.arange(len(training_stats['tarining_loss'])), training_stats['tarining_loss'], label='tarining loss')\n",
    "plt.plot(np.arange(len(training_stats['validation_loss'])), training_stats['validation_loss'], label='validation loss')\n",
    "\n",
    "plt.legend()\n",
    "plt.show()\n",
    "\n",
    "plt.ylabel('accu/RMSE/rho')\n",
    "plt.xlabel('Epoch')\n",
    "plt.title('Augmented DenseNet - Linear Regression')\n",
    "\n",
    "plt.plot(np.arange(len(training_stats['accuracy'])), training_stats['accuracy'], label='accuracy')\n",
    "#plt.plot(np.arange(len(training_stats['classification'])), training_stats['classification'], label='')\n",
    "plt.plot(np.arange(len(training_stats['RMSE'])), training_stats['RMSE'], label='RMSE')\n",
    "plt.plot(np.arange(len(training_stats['spearmanr'])), [i[0] for i in training_stats['spearmanr']], label=\"Spearman's rho\")\n",
    "\n",
    "print(np.array(training_stats['accuracy']).max())\n",
    "plt.legend()\n",
    "plt.show()"
   ]
  },
  {
   "cell_type": "code",
   "execution_count": 29,
   "metadata": {},
   "outputs": [],
   "source": [
    "with open('./Resource/Dense_Augmented_Smooth_logdataPaper.pkl', 'wb') as fp:\n",
    "        pickle.dump(training_stats, fp)"
   ]
  },
  {
   "cell_type": "code",
   "execution_count": null,
   "metadata": {},
   "outputs": [],
   "source": [
    "checkpoint = torch.load(open(checkpoint_save_dir + \"\\Densenet121_Native_Benchmark_balanceddata_E5_08.09.2020_23.21.36.tar\", 'rb'))\n",
    "model.load_state_dict(checkpoint['model_state_dict'])\n",
    "optimizer.load_state_dict(checkpoint['optimizer_state_dict'])\n",
    "epoch = checkpoint['epoch']\n",
    "loss = checkpoint['loss']"
   ]
  },
  {
   "cell_type": "markdown",
   "metadata": {},
   "source": [
    "after input. size: torch.Size([2, 64, 56, 56])\n",
    "after block1. size: torch.Size([2, 128, 28, 28])\n",
    "after block2. size: torch.Size([2, 256, 14, 14])\n",
    "after block3. size: torch.Size([2, 640, 7, 7])\n",
    "after block4. size: torch.Size([2, 1664, 7, 7])\n",
    "after pooling. size: torch.Size([2, 1664, 1, 1])\n",
    "\n",
    ".resize_([batch_size, 1])\n",
    ".resize_([batch_size, 1])"
   ]
  }
 ],
 "metadata": {
  "kernelspec": {
   "display_name": "Python 3",
   "language": "python",
   "name": "python3"
  },
  "language_info": {
   "codemirror_mode": {
    "name": "ipython",
    "version": 3
   },
   "file_extension": ".py",
   "mimetype": "text/x-python",
   "name": "python",
   "nbconvert_exporter": "python",
   "pygments_lexer": "ipython3",
   "version": "3.7.1"
  }
 },
 "nbformat": 4,
 "nbformat_minor": 4
}
