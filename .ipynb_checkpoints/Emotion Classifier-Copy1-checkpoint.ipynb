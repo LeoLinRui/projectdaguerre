{
 "cells": [
  {
   "cell_type": "code",
   "execution_count": 1,
   "metadata": {},
   "outputs": [],
   "source": [
    "import os\n",
    "import io\n",
    "import time\n",
    "import pickle\n",
    "import pandas as pd\n",
    "import numpy as np\n",
    "\n",
    "import cv2\n",
    "from skimage import transform\n",
    "import matplotlib.pyplot as plt\n",
    "\n",
    "import torch\n",
    "from torch.utils.data import Dataset, DataLoader\n",
    "from torchvision import transforms, utils\n",
    "import torchvision\n",
    "from torch import nn, optim\n",
    "from torch.autograd import Variable\n",
    "from torch.nn import functional\n",
    "import torch.distributed as dist\n",
    "import torch.multiprocessing as mp\n",
    "from torch.nn.parallel import DistributedDataParallel as DDP\n",
    "\n",
    "from torch.utils.tensorboard import SummaryWriter\n",
    "\n",
    "csv_file = 'fer2013.csv'\n",
    "labels = ['angry', 'disgust', 'fear', 'happy', 'sad', 'surprise', 'neutral']"
   ]
  },
  {
   "cell_type": "code",
   "execution_count": 2,
   "metadata": {},
   "outputs": [],
   "source": [
    "resnet34 = torchvision.models.resnet34(pretrained=True, progress=True)"
   ]
  },
  {
   "cell_type": "markdown",
   "metadata": {},
   "source": [
    "## FER 2013 Dataset Class"
   ]
  },
  {
   "cell_type": "code",
   "execution_count": 3,
   "metadata": {},
   "outputs": [],
   "source": [
    "class FERDataset(Dataset):\n",
    "    \"\"\"FER dataset.\"\"\"\n",
    "\n",
    "    def __init__(self, csv_file, partition, transform=None):\n",
    "        self.csv = pd.read_csv(csv_file)\n",
    "        self.transform = transform\n",
    "\n",
    "        self.distribution = np.zeros(7, dtype=np.int16)\n",
    "        print(\"AVA Dataset initialization begin...\")\n",
    "        print(\"Rating distribution initialized: \", self.distribution)\n",
    "        \n",
    "        self.dataset = {}\n",
    "\n",
    "        self.idx = 0\n",
    "        for csv_idx, row in self.csv.iterrows(): \n",
    "            if row[2] == partition:\n",
    "                img = np.asarray([float(p) for p in row[1].split()]).reshape(48, 48)\n",
    "                self.dataset[self.idx] = [img, row[0]]\n",
    "                self.distribution[row[0]] += 1\n",
    "                self.idx += 1\n",
    "            if csv_idx % 5000 == 0:\n",
    "                print('csv_idx:', csv_idx, \" - Current distribution is: \", self.distribution)\n",
    "            \n",
    "        print(\"Initialization complete. Distribution is: \", self.distribution)\n",
    "\n",
    "        # Visualize categorical distribution\n",
    "        plt.bar(np.arange(7), self.distribution, 0.35) #(indeces, data, width)\n",
    "        plt.ylabel('Number of Pictures')\n",
    "        plt.title('Current Distribution')\n",
    "        plt.xticks(np.arange(7), ('angry', 'disgust', 'fear', 'happy', 'sad', 'surprise', 'neutral'))\n",
    "        plt.show()\n",
    "        \n",
    "                        \n",
    "    def __len__(self):\n",
    "        return len(self.dataset)\n",
    "\n",
    "    \n",
    "    def __getitem__(self, idx):\n",
    "        img = self.dataset[idx][0]\n",
    "        category = self.dataset[idx][1]\n",
    "        sample = {'image': np.array(img, dtype=float), 'category': np.array(category, dtype=float)}\n",
    "        if self.transform:\n",
    "            sample = self.transform(sample)\n",
    "        return sample"
   ]
  },
  {
   "cell_type": "code",
   "execution_count": 4,
   "metadata": {},
   "outputs": [],
   "source": [
    "class ToTensor(object):\n",
    "    \n",
    "    \"\"\"Convert ndarrays in sample to Tensors.\"\"\"\n",
    "\n",
    "    def __call__(self, sample):\n",
    "        image, rating = sample['image'], sample['category']\n",
    "        rating = np.array(rating)\n",
    "        # image = image.transpose((2, 0, 1)) #swap color axis because: numpy image: H x W x C & torch image: C X H X W\n",
    "        return {'image': torch.from_numpy(image),\n",
    "                 'category': torch.from_numpy(rating)}\n",
    "    \n",
    "def one_hot_embedding(labels, num_classes):\n",
    "    \"\"\"Embedding labels to one-hot form.\n",
    "\n",
    "    Args:\n",
    "      labels: (LongTensor) class labels, sized [N,].\n",
    "      num_classes: (int) number of classes.\n",
    "\n",
    "    Returns:\n",
    "      (tensor) encoded labels, sized [N, #classes].\n",
    "    \"\"\"\n",
    "    y = torch.eye(num_classes) \n",
    "    return y[labels]\n",
    "\n",
    "def matplotlib_imshow(img, one_channel=False):\n",
    "    if one_channel:\n",
    "        img = img.mean(dim=0)\n",
    "    img = img / 2 + 0.5     # unnormalize\n",
    "    npimg = img.numpy()\n",
    "    if one_channel:\n",
    "        plt.imshow(npimg, cmap=\"Greys\")\n",
    "    else:\n",
    "        plt.imshow(np.transpose(npimg, (1, 2, 0)))"
   ]
  },
  {
   "cell_type": "code",
   "execution_count": 5,
   "metadata": {},
   "outputs": [
    {
     "name": "stdout",
     "output_type": "stream",
     "text": [
      "AVA Dataset initialization begin...\n",
      "Rating distribution initialized:  [0 0 0 0 0 0 0]\n",
      "csv_idx: 0  - Current distribution is:  [1 0 0 0 0 0 0]\n",
      "csv_idx: 5000  - Current distribution is:  [ 714   72  726 1279  817  525  868]\n",
      "csv_idx: 10000  - Current distribution is:  [1407  160 1431 2538 1663 1091 1711]\n",
      "csv_idx: 15000  - Current distribution is:  [2066  239 2176 3742 2548 1598 2632]\n",
      "csv_idx: 20000  - Current distribution is:  [2803  324 2916 5009 3357 2132 3460]\n",
      "csv_idx: 25000  - Current distribution is:  [3455  389 3609 6297 4209 2721 4321]\n",
      "csv_idx: 30000  - Current distribution is:  [3995  436 4097 7215 4830 3171 4965]\n",
      "csv_idx: 35000  - Current distribution is:  [3995  436 4097 7215 4830 3171 4965]\n",
      "Initialization complete. Distribution is:  [3995  436 4097 7215 4830 3171 4965]\n"
     ]
    },
    {
     "data": {
      "image/png": "[encoded data removed]",
      "text/plain": [
       "<Figure size 432x288 with 1 Axes>"
      ]
     },
     "metadata": {
      "needs_background": "light"
     },
     "output_type": "display_data"
    },
    {
     "name": "stdout",
     "output_type": "stream",
     "text": [
      "AVA Dataset initialization begin...\n",
      "Rating distribution initialized:  [0 0 0 0 0 0 0]\n",
      "csv_idx: 0  - Current distribution is:  [0 0 0 0 0 0 0]\n",
      "csv_idx: 5000  - Current distribution is:  [0 0 0 0 0 0 0]\n",
      "csv_idx: 10000  - Current distribution is:  [0 0 0 0 0 0 0]\n",
      "csv_idx: 15000  - Current distribution is:  [0 0 0 0 0 0 0]\n",
      "csv_idx: 20000  - Current distribution is:  [0 0 0 0 0 0 0]\n",
      "csv_idx: 25000  - Current distribution is:  [0 0 0 0 0 0 0]\n",
      "csv_idx: 30000  - Current distribution is:  [178  21 196 306 220 158 213]\n",
      "csv_idx: 35000  - Current distribution is:  [467  56 496 895 653 415 607]\n",
      "Initialization complete. Distribution is:  [467  56 496 895 653 415 607]\n"
     ]
    },
    {
     "data": {
      "image/png": "[encoded data removed]",
      "text/plain": [
       "<Figure size 432x288 with 1 Axes>"
      ]
     },
     "metadata": {
      "needs_background": "light"
     },
     "output_type": "display_data"
    }
   ],
   "source": [
    "dataset_train = FERDataset(csv_file=csv_file, partition='Training', transform=ToTensor())\n",
    "dataset_val = FERDataset(csv_file=csv_file, partition='PublicTest', transform=ToTensor())"
   ]
  },
  {
   "cell_type": "code",
   "execution_count": 19,
   "metadata": {},
   "outputs": [],
   "source": [
    "batch_size = 128\n",
    "train_loader = DataLoader(dataset=dataset_train, batch_size=batch_size,shuffle=True)\n",
    "val_loader = DataLoader(dataset=dataset_val, batch_size=batch_size, shuffle=True)"
   ]
  },
  {
   "cell_type": "code",
   "execution_count": 7,
   "metadata": {},
   "outputs": [],
   "source": [
    "class EmoNet(nn.Module):\n",
    "    def __init__(self):\n",
    "        super(EmoNet, self).__init__()\n",
    "        self.Res = resnet34\n",
    "        self.Res.conv1 = nn.Conv2d(1, 64, kernel_size=(7, 7), stride=(2, 2), padding=(3, 3), bias=False)\n",
    "        self.Res.fc = nn.Linear(512, 512)\n",
    "        self.ReLU = nn.ReLU()\n",
    "        self.fc1 = nn.Linear(512, 256)\n",
    "        self.fc2 = nn.Linear(256, 7)\n",
    "        self.Softmax = nn.Softmax(dim=0)\n",
    "\n",
    "    def forward(self, x):\n",
    "        x = self.Res(x)\n",
    "        x = self.ReLU(x)\n",
    "        x = self.fc1(x)\n",
    "        x = self.ReLU(x)\n",
    "        x = self.fc2(x)\n",
    "        x = self.Softmax(x)\n",
    "        return x\n",
    "\n",
    "    def name(self):\n",
    "        return \"EmoNet\""
   ]
  },
  {
   "cell_type": "code",
   "execution_count": 8,
   "metadata": {},
   "outputs": [],
   "source": [
    "class CNN(nn.Module):\n",
    "    def __init__(self):\n",
    "        super(CNN, self).__init__()\n",
    "        \n",
    "        self.conv1 = nn.Conv2d(in_channels=1, out_channels=32, kernel_size=[3,3], stride=1)\n",
    "        self.activation1 = nn.ReLU()\n",
    "        \n",
    "        self.conv2 = nn.Conv2d(in_channels=32, out_channels=64, kernel_size=[5,5], stride=1)\n",
    "        self.activation2 = nn.ReLU()\n",
    "        \n",
    "        self.pool1 = nn.MaxPool2d(kernel_size = [2, 2], stride=2, padding=0)\n",
    "        \n",
    "        self.conv3 = nn.Conv2d(in_channels=64, out_channels=128, kernel_size=[3,3], stride=1)\n",
    "        self.activation3 = nn.ReLU()\n",
    "        \n",
    "        self.pool2 = nn.MaxPool2d(kernel_size = [2, 2], stride=2, padding=0)\n",
    "        \n",
    "        self.conv4 = nn.Conv2d(in_channels=128, out_channels=256, kernel_size=[3,3], stride=1)\n",
    "        self.activation4 = nn.ReLU()\n",
    "        \n",
    "        self.pool3 = nn.MaxPool2d(kernel_size = [2, 2], stride=2, padding=0)\n",
    "        \n",
    "        self.conv5 = nn.Conv2d(in_channels=256, out_channels=512, kernel_size=[3,3], stride=1, padding=1)\n",
    "        self.activation5 = nn.ReLU()\n",
    "        \n",
    "        self.fc1 = nn.Linear(4608, 2048)\n",
    "        self.fc2 = nn.Linear(2048, 1024)\n",
    "        self.fc3 = nn.Linear(1024, 7)\n",
    "        \n",
    "        self.ReLU = nn.ReLU()\n",
    "        self.Softmax = nn.Softmax(dim=0)\n",
    "        \n",
    "    def forward(self,x):\n",
    "        x = self.conv1(x)\n",
    "        x = self.activation1(x)\n",
    "        \n",
    "        x = self.conv2(x)\n",
    "        x = self.activation2(x)\n",
    "        \n",
    "        x = self.pool1(x)\n",
    "        \n",
    "        x = self.conv3(x)\n",
    "        x = self.activation3(x)\n",
    "        \n",
    "        x = self.pool2(x)\n",
    "        \n",
    "        x = self.conv4(x)\n",
    "        x = self.activation4(x)\n",
    "        \n",
    "        x = self.pool3(x)\n",
    "        \n",
    "        x = self.conv5(x)\n",
    "        x = self.activation5(x)\n",
    "\n",
    "        x = x.view(x.size()[0], -1)\n",
    "\n",
    "        x = self.fc1(x)\n",
    "        x = self.ReLU(x)\n",
    "        x = self.fc2(x)\n",
    "        x = self.ReLU(x)\n",
    "        x = self.fc3(x)\n",
    "        x = self.Softmax(x)\n",
    "        \n",
    "        return x"
   ]
  },
  {
   "cell_type": "code",
   "execution_count": 9,
   "metadata": {},
   "outputs": [],
   "source": [
    "model = CNN()"
   ]
  },
  {
   "cell_type": "code",
   "execution_count": 20,
   "metadata": {},
   "outputs": [],
   "source": [
    "optimizer = optim.Adam(params=model.parameters(), lr=0.0001, betas=(0.9, 0.999))\n",
    "criterion = nn.CrossEntropyLoss()"
   ]
  },
  {
   "cell_type": "code",
   "execution_count": 21,
   "metadata": {},
   "outputs": [
    {
     "name": "stdout",
     "output_type": "stream",
     "text": [
      "True\n"
     ]
    },
    {
     "data": {
      "text/plain": [
       "'\\nfor p in model.Res.conv1.parameters():\\n    p.requires_grad=True\\nfor p in model.Res.layer1.parameters():\\n    p.requires_grad=False\\nfor p in model.Res.layer2.parameters():\\n    p.requires_grad=False\\nfor p in model.Res.layer3.parameters():\\n    p.requires_grad=False\\nfor p in model.Res.layer4.parameters():\\n    p.requires_grad=False\\n'"
      ]
     },
     "execution_count": 21,
     "metadata": {},
     "output_type": "execute_result"
    }
   ],
   "source": [
    "model = model.cuda()\n",
    "device = torch.device(\"cuda:0\" if torch.cuda.is_available() else \"cpu\")\n",
    "print(torch.cuda.is_available())\n",
    "model.to(device)\n",
    "\n",
    "'''\n",
    "for p in model.Res.conv1.parameters():\n",
    "    p.requires_grad=True\n",
    "for p in model.Res.layer1.parameters():\n",
    "    p.requires_grad=False\n",
    "for p in model.Res.layer2.parameters():\n",
    "    p.requires_grad=False\n",
    "for p in model.Res.layer3.parameters():\n",
    "    p.requires_grad=False\n",
    "for p in model.Res.layer4.parameters():\n",
    "    p.requires_grad=False\n",
    "'''"
   ]
  },
  {
   "cell_type": "code",
   "execution_count": 12,
   "metadata": {},
   "outputs": [],
   "source": [
    "training_stats = {}\n",
    "training_stats['tarining_loss'] = []\n",
    "training_stats['validation_loss'] = []\n",
    "training_stats['accuracy'] = []"
   ]
  },
  {
   "cell_type": "code",
   "execution_count": 13,
   "metadata": {},
   "outputs": [
    {
     "data": {
      "text/plain": [
       "CNN(\n",
       "  (conv1): Conv2d(1, 32, kernel_size=[3, 3], stride=(1, 1))\n",
       "  (activation1): ReLU()\n",
       "  (conv2): Conv2d(32, 64, kernel_size=[5, 5], stride=(1, 1))\n",
       "  (activation2): ReLU()\n",
       "  (pool1): MaxPool2d(kernel_size=[2, 2], stride=2, padding=0, dilation=1, ceil_mode=False)\n",
       "  (conv3): Conv2d(64, 128, kernel_size=[3, 3], stride=(1, 1))\n",
       "  (activation3): ReLU()\n",
       "  (pool2): MaxPool2d(kernel_size=[2, 2], stride=2, padding=0, dilation=1, ceil_mode=False)\n",
       "  (conv4): Conv2d(128, 256, kernel_size=[3, 3], stride=(1, 1))\n",
       "  (activation4): ReLU()\n",
       "  (pool3): MaxPool2d(kernel_size=[2, 2], stride=2, padding=0, dilation=1, ceil_mode=False)\n",
       "  (conv5): Conv2d(256, 512, kernel_size=[3, 3], stride=(1, 1), padding=(1, 1))\n",
       "  (activation5): ReLU()\n",
       "  (fc1): Linear(in_features=4608, out_features=2048, bias=True)\n",
       "  (fc2): Linear(in_features=2048, out_features=1024, bias=True)\n",
       "  (fc3): Linear(in_features=1024, out_features=7, bias=True)\n",
       "  (ReLU): ReLU()\n",
       "  (Softmax): Softmax(dim=0)\n",
       ")"
      ]
     },
     "execution_count": 13,
     "metadata": {},
     "output_type": "execute_result"
    }
   ],
   "source": [
    "def init_weights(m):\n",
    "    if type(m) == nn.Linear:\n",
    "        torch.nn.init.xavier_uniform_(m.weight)\n",
    "        m.bias.data.fill_(0.01)\n",
    "\n",
    "model.apply(init_weights)"
   ]
  },
  {
   "cell_type": "code",
   "execution_count": null,
   "metadata": {},
   "outputs": [],
   "source": [
    "'''\n",
    "writer = SummaryWriter('TensorBoard/EmoNet')\n",
    "\n",
    "# get some random training images\n",
    "dataiter = iter(train_loader)\n",
    "sample = dataiter.next()\n",
    "\n",
    "# create grid of images\n",
    "img_grid = torchvision.utils.make_grid(sample['image'])\n",
    "\n",
    "# show images\n",
    "matplotlib_imshow(img_grid, one_channel=True)\n",
    "\n",
    "# write to tensorboard\n",
    "writer.add_image('four_images', img_grid)\n",
    "'''"
   ]
  },
  {
   "cell_type": "code",
   "execution_count": null,
   "metadata": {
    "scrolled": true
   },
   "outputs": [
    {
     "name": "stdout",
     "output_type": "stream",
     "text": [
      ">>> epoch: 0, batch index: 225, train loss: 1.951322\n",
      ">>> epoch: 0, batch index: 29, test loss: 1.860917, acc: 0.249\n",
      "==================================================================\n",
      ">>> epoch: 1, batch index: 225, train loss: 1.924295\n",
      ">>> epoch: 1, batch index: 29, test loss: 1.879705, acc: 0.249\n",
      "==================================================================\n",
      ">>> epoch: 2, batch index: 225, train loss: 1.978348\n",
      ">>> epoch: 2, batch index: 29, test loss: 1.859705, acc: 0.250\n",
      "==================================================================\n",
      ">>> epoch: 3, batch index: 225, train loss: 1.978348\n",
      ">>> epoch: 3, batch index: 29, test loss: 1.860275, acc: 0.249\n",
      "==================================================================\n",
      ">>> epoch: 4, batch index: 225, train loss: 1.951321\n",
      ">>> epoch: 4, batch index: 29, test loss: 1.859676, acc: 0.251\n",
      "==================================================================\n",
      ">>> epoch: 5, batch index: 225, train loss: 1.951322\n",
      ">>> epoch: 5, batch index: 29, test loss: 1.859195, acc: 0.249\n",
      "==================================================================\n",
      ">>> epoch: 6, batch index: 225, train loss: 1.951322\n",
      ">>> epoch: 6, batch index: 29, test loss: 1.839425, acc: 0.250\n",
      "==================================================================\n",
      ">>> epoch: 7, batch index: 225, train loss: 1.924295\n",
      ">>> epoch: 7, batch index: 29, test loss: 1.842585, acc: 0.248\n",
      "==================================================================\n",
      ">>> epoch: 8, batch index: 225, train loss: 1.981671\n",
      ">>> epoch: 8, batch index: 29, test loss: 1.858890, acc: 0.250\n",
      "==================================================================\n",
      ">>> epoch: 9, batch index: 225, train loss: 1.956457\n",
      ">>> epoch: 9, batch index: 29, test loss: 1.841385, acc: 0.250\n",
      "==================================================================\n"
     ]
    }
   ],
   "source": [
    "global epoch #declear epoch global, to be used later by torch.save() \n",
    "\n",
    "for epoch in range(1000):\n",
    "\n",
    "    ave_loss = 0\n",
    "    global loss #declear loss global, to be used later by torch.save() \n",
    "    for batch_idx, diction in enumerate(train_loader):\n",
    "        model.train() #set model to traning mode\n",
    "        optimizer.zero_grad()\n",
    "        x, target = diction['image'], diction['category'] #extract training data for this batch\n",
    "        x = x.unsqueeze(1)\n",
    "        x, target = x.float(), target.float() #set datatype\n",
    "        x, target = x.to(device), target.to(device) #transfer to GPU\n",
    "        x, target = Variable(x), Variable(target) #set to pytorch datatype: variable\n",
    "        \n",
    "        out = model(x) #forward pass\n",
    "\n",
    "        loss = criterion(out, target.long()) #calculate loss\n",
    "        ave_loss = ave_loss * 0.9 + loss.item() * 0.1 \n",
    "        loss.backward() #back propagation with calculated loss\n",
    "        optimizer.step() #calculate gradient and step\n",
    "        \n",
    "        if (batch_idx + 1) % 600 == 0 or (batch_idx + 1) == len(train_loader):\n",
    "            print('>>> epoch: {}, batch index: {}, train loss: {:.6f}'.format(epoch, batch_idx + 1, loss))\n",
    "        training_stats['tarining_loss'].append(loss)\n",
    "        \n",
    "        \n",
    "    correct, ave_loss, total_cnt = 0, 0, 0\n",
    "    for batch_idx, diction in enumerate(val_loader):\n",
    "        model.eval() #set model to evaluation mode\n",
    "        x, target = diction['image'], diction['category']\n",
    "        x = x.unsqueeze(1)\n",
    "        x, target = x.float(), target.float()\n",
    "        x, target = x.to(device), target.to(device)\n",
    "        x, target = Variable(x), Variable(target)\n",
    "        out = model(x)\n",
    "        loss = criterion(out, target.long()) #calculate loss\n",
    "\n",
    "        pred_label = out.data\n",
    "        pred_label = pred_label.argmax(dim=1, keepdim=True)\n",
    "        \n",
    "        target = target.long()\n",
    "        \n",
    "        total_cnt += x.data.size()[0]\n",
    "        ave_loss = ave_loss * 0.9 + loss.item() * 0.1 #smooth average\n",
    "        correct += pred_label.eq(target.view_as(pred_label)).sum().item()\n",
    "        \n",
    "        if (batch_idx + 1) % 600 == 0 or (batch_idx + 1) == len(val_loader):\n",
    "            print(\n",
    "            '>>> epoch: {}, batch index: {}, test loss: {:.6f}, acc: {:.3f}'.format(\n",
    "                epoch, batch_idx + 1, ave_loss, correct * 1.0 / total_cnt))\n",
    "            print('==================================================================') \n",
    "            \n",
    "        training_stats['validation_loss'].append(ave_loss)\n",
    "        training_stats['accuracy'].append(correct * 1.0 / total_cnt)"
   ]
  },
  {
   "cell_type": "code",
   "execution_count": null,
   "metadata": {},
   "outputs": [],
   "source": [
    "from pthflops import count_ops\n",
    "\n",
    "inp = torch.Tensor(np.zeros(57600).reshape(25, 1, 48, 48))\n",
    "\n",
    "inp = inp.cuda()\n",
    "inp = inp.to(device)\n",
    "\n",
    "count_ops(model, inp)"
   ]
  },
  {
   "cell_type": "code",
   "execution_count": 18,
   "metadata": {},
   "outputs": [
    {
     "data": {
      "image/png": "[encoded data removed]",
      "text/plain": [
       "<Figure size 432x288 with 1 Axes>"
      ]
     },
     "metadata": {
      "needs_background": "light"
     },
     "output_type": "display_data"
    }
   ],
   "source": [
    "plt.figure()\n",
    "'''\n",
    "plt.subplot()\n",
    "plt.plot(np.arange(len(training_stats['tarining_loss'])), training_stats['tarining_loss'])\n",
    "plt.ylabel('training_loss')\n",
    "plt.title('iter')\n",
    "\n",
    "plt.subplot()\n",
    "plt.plot(np.arange(len(training_stats['validation_loss'])), training_stats['validation_loss'], 'ro')\n",
    "plt.ylabel('validation_loss')\n",
    "plt.title('iter')\n",
    "'''\n",
    "plt.subplot()\n",
    "plt.plot(np.arange(len(training_stats['accuracy'])), training_stats['accuracy'])\n",
    "plt.ylabel('accuracy')\n",
    "plt.title('iter')\n",
    "\n",
    "plt.show()"
   ]
  },
  {
   "cell_type": "code",
   "execution_count": null,
   "metadata": {},
   "outputs": [],
   "source": [
    "print(np.max(training_stats['accuracy']))"
   ]
  },
  {
   "cell_type": "code",
   "execution_count": null,
   "metadata": {},
   "outputs": [],
   "source": []
  }
 ],
 "metadata": {
  "kernelspec": {
   "display_name": "Python 3",
   "language": "python",
   "name": "python3"
  },
  "language_info": {
   "codemirror_mode": {
    "name": "ipython",
    "version": 3
   },
   "file_extension": ".py",
   "mimetype": "text/x-python",
   "name": "python",
   "nbconvert_exporter": "python",
   "pygments_lexer": "ipython3",
   "version": "3.7.7"
  }
 },
 "nbformat": 4,
 "nbformat_minor": 4
}
