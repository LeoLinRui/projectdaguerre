{
 "cells": [
  {
   "cell_type": "code",
   "execution_count": 3,
   "metadata": {},
   "outputs": [],
   "source": [
    "import numpy as np\n",
    "import cv2 as cv\n",
    "import face_detection"
   ]
  },
  {
   "cell_type": "code",
   "execution_count": 6,
   "metadata": {},
   "outputs": [
    {
     "name": "stdout",
     "output_type": "stream",
     "text": [
      "['DSFDDetector', 'RetinaNetResNet50', 'RetinaNetMobileNetV1']\n"
     ]
    }
   ],
   "source": [
    "print(face_detection.available_detectors)"
   ]
  },
  {
   "cell_type": "code",
   "execution_count": null,
   "metadata": {},
   "outputs": [
    {
     "name": "stderr",
     "output_type": "stream",
     "text": [
      "Downloading: \"https://folk.ntnu.no/haakohu/RetinaFace_ResNet50.pth\" to C:\\Users\\Leo's PC/.cache\\torch\\checkpoints\\RetinaFace_ResNet50.pth\n",
      "0.1%"
     ]
    }
   ],
   "source": [
    "detector = face_detection.build_detector(\"RetinaNetResNet50\", confidence_threshold=.5, nms_iou_threshold=.3)\n",
    "\n",
    "im = cv2.imread(\"Sample Images\\example1.jpg\")[:, :, ::-1]\n",
    "\n",
    "detections = detector.detect(im)"
   ]
  },
  {
   "cell_type": "code",
   "execution_count": null,
   "metadata": {},
   "outputs": [],
   "source": []
  }
 ],
 "metadata": {
  "kernelspec": {
   "display_name": "Python 3",
   "language": "python",
   "name": "python3"
  },
  "language_info": {
   "codemirror_mode": {
    "name": "ipython",
    "version": 3
   },
   "file_extension": ".py",
   "mimetype": "text/x-python",
   "name": "python",
   "nbconvert_exporter": "python",
   "pygments_lexer": "ipython3",
   "version": "3.7.7"
  }
 },
 "nbformat": 4,
 "nbformat_minor": 4
}
