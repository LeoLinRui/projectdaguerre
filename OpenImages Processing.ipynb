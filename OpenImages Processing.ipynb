{
 "cells": [
  {
   "cell_type": "code",
   "execution_count": 31,
   "metadata": {},
   "outputs": [],
   "source": [
    "import os\n",
    "import io\n",
    "import time\n",
    "import pickle\n",
    "import pandas as pd\n",
    "import numpy as np\n",
    "\n",
    "import cv2\n",
    "from skimage import transform\n",
    "import matplotlib.pyplot as plt\n",
    "from PIL import Image\n",
    "\n",
    "import torch\n",
    "from torch.utils.data import Dataset, DataLoader\n",
    "from torchvision import transforms, utils\n",
    "import torchvision\n",
    "from torch import nn, optim\n",
    "from torch.autograd import Variable\n",
    "from torch.nn import functional\n",
    "import torch.distributed as dist\n",
    "import torch.multiprocessing as mp\n",
    "from torch.nn.parallel import DistributedDataParallel as DDP"
   ]
  },
  {
   "cell_type": "code",
   "execution_count": 15,
   "metadata": {},
   "outputs": [
    {
     "name": "stdout",
     "output_type": "stream",
     "text": [
      "['Drink', 'Telephone', 'Weapon', 'Tool', 'Container', 'Helmet', 'Racket', 'Ball', 'Sports Equipment_other', 'Musical instrument', 'Medical equipment', 'Personal care', 'Cosmetics', 'Shellfish', 'Fish', 'Reptile&Amphibian', 'Mammal', 'Invertebrate', 'Bird', 'Luggage & bags', 'Footwear', 'Trousers', 'Fashion accessory', 'Glove', 'Hat', 'Clothing_other', 'Aerial vehicle', 'Watercraft', 'Auto part', 'Car', 'Bicycle', 'Land Vehicle_other', 'Flower', 'Tree', 'Vegetable', 'Seafood', 'Baked goods', 'Fruit', 'Desseert&Snack', 'Fast food', 'Food_other', 'Man', 'Woman', 'Boy', 'Girl', 'Human eye', 'Human head', 'Human face', 'Human mouth', 'Human ear', 'Human hair', 'Human hand', 'Human foot', 'Human arm', 'Human leg', 'Human beard', 'Electronics', 'Street signs', 'Sculpture', 'Furniture', 'Kitchen Appliance&Utensil', 'Tableware', 'Office supplies', 'Plumbing fixture', 'Home appliance', 'Toy']\n"
     ]
    }
   ],
   "source": [
    "desired_categories = pd.read_csv('desired_categories.csv')\n",
    "desired_categories = [row[1] for csv_idx, row in desired_categories.iterrows()]\n",
    "print(desired_categories)"
   ]
  },
  {
   "cell_type": "code",
   "execution_count": 16,
   "metadata": {},
   "outputs": [],
   "source": [
    "openimages = json.load(open('bbox_labels_600_hierarchy.json'))\n",
    "csv = pd.read_csv('class-descriptions-boxable.csv')"
   ]
  },
  {
   "cell_type": "code",
   "execution_count": 17,
   "metadata": {},
   "outputs": [
    {
     "name": "stdout",
     "output_type": "stream",
     "text": [
      "90\n",
      "       /m/011k07    Tortoise\n",
      "0    /m/011q46kg   Container\n",
      "1      /m/012074      Magpie\n",
      "2      /m/0120dh  Sea turtle\n",
      "3      /m/01226z    Football\n",
      "4      /m/012n7d   Ambulance\n",
      "..           ...         ...\n",
      "595     /m/0qmmr  Wheelchair\n",
      "596   /m/0wdt60w  Rugby ball\n",
      "597      /m/0xfy   Armadillo\n",
      "598     /m/0xzly     Maracas\n",
      "599     /m/0zvk5      Helmet\n",
      "\n",
      "[600 rows x 2 columns]\n"
     ]
    }
   ],
   "source": [
    "print(len(openimages[\"Subcategory\"]))\n",
    "print(csv)"
   ]
  },
  {
   "cell_type": "code",
   "execution_count": 18,
   "metadata": {},
   "outputs": [],
   "source": [
    "id2label_dict = {}\n",
    "label2id_dict = {}\n",
    "for csv_idx, row in csv.iterrows():\n",
    "    id2label_dict[row[0]] = row[1]\n",
    "    label2id_dict[row[1]] = row[0]"
   ]
  },
  {
   "cell_type": "code",
   "execution_count": 19,
   "metadata": {},
   "outputs": [
    {
     "name": "stdout",
     "output_type": "stream",
     "text": [
      "Output: {'Drink': ['/m/0271t'], 'Telephone': ['/m/07cx4'], 'Weapon': ['/m/083kb'], 'Tool': ['/m/07k1x'], 'Container': ['/m/011q46kg'], 'Helmet': ['/m/0zvk5'], 'Racket': ['/m/0dv9c'], 'Ball': ['/m/018xm'], 'Musical instrument': ['/m/04szw'], 'Medical equipment': ['/m/01xgg_'], 'Personal care': ['/m/02w3_ws'], 'Cosmetics': ['/m/014trl'], 'Shellfish': ['/m/0fbdv'], 'Fish': ['/m/0ch_cf'], 'Mammal': ['/m/04rky'], 'Invertebrate': ['/m/03xxp'], 'Bird': ['/m/015p6'], 'Footwear': ['/m/09j5n'], 'Trousers': ['/m/07mhn'], 'Fashion accessory': ['/m/0463sg'], 'Glove': ['/m/0174n1'], 'Hat': ['/m/02dl1y'], 'Watercraft': ['/m/01rzcn'], 'Auto part': ['/m/08dz3q'], 'Car': ['/m/0k4j'], 'Bicycle': ['/m/0199g'], 'Flower': ['/m/0c9ph5'], 'Tree': ['/m/07j7r'], 'Vegetable': ['/m/0f4s2w'], 'Seafood': ['/m/06nwz'], 'Baked goods': ['/m/052lwg6'], 'Fruit': ['/m/02xwb'], 'Fast food': ['/m/01_bhs'], 'Man': ['/m/04yx4'], 'Woman': ['/m/03bt1vf'], 'Boy': ['/m/01bl7v'], 'Girl': ['/m/05r655'], 'Human eye': ['/m/014sv8'], 'Human head': ['/m/04hgtk'], 'Human face': ['/m/0dzct'], 'Human mouth': ['/m/0283dt1'], 'Human ear': ['/m/039xj_'], 'Human hair': ['/m/03q69'], 'Human hand': ['/m/0k65p'], 'Human foot': ['/m/031n1'], 'Human arm': ['/m/0dzf4'], 'Human leg': ['/m/035r7c'], 'Human beard': ['/m/015h_t'], 'Sculpture': ['/m/06msq'], 'Furniture': ['/m/0c_jw'], 'Tableware': ['/m/04brg2'], 'Office supplies': ['/m/02rdsp'], 'Plumbing fixture': ['/m/02pkr5'], 'Home appliance': ['/m/019dx1'], 'Toy': ['/m/0138tl']}\n",
      "Whats left ['Sports Equipment_other', 'Reptile&Amphibian', 'Luggage & bags', 'Clothing_other', 'Aerial vehicle', 'Land Vehicle_other', 'Desseert&Snack', 'Food_other', 'Electronics', 'Street signs', 'Kitchen Appliance&Utensil']\n"
     ]
    }
   ],
   "source": [
    "output_dict ={}\n",
    "delete = []\n",
    "\n",
    "for desired_tag in desired_categories:\n",
    "    try:\n",
    "        desired_ID = label2id_dict[desired_tag]\n",
    "    except KeyError:\n",
    "        pass\n",
    "    else:\n",
    "        output_dict[desired_tag] = [label2id_dict[desired_tag]]\n",
    "        delete.append(desired_tag)\n",
    "        \n",
    "desired_categories = [i for i in desired_categories if i not in delete]\n",
    "print('Output:', output_dict)\n",
    "print('Whats left', desired_categories)"
   ]
  },
  {
   "cell_type": "markdown",
   "metadata": {},
   "source": [
    "## Homeless tags processing"
   ]
  },
  {
   "cell_type": "code",
   "execution_count": 121,
   "metadata": {},
   "outputs": [
    {
     "name": "stdout",
     "output_type": "stream",
     "text": [
      "Done processing homeless categories: {'Human head': '/m/04hgtk', 'Human mouth': '/m/0283dt1', 'Human ear': '/m/039xj_', 'Human hand': '/m/0k65p', 'Human foot': '/m/031n1', 'Human arm': '/m/0dzf4', 'Human beard': '/m/015h_t'}\n"
     ]
    }
   ],
   "source": [
    "primary_categories, homeless_categories, delete = np.array([]), np.array([]), []\n",
    "\n",
    "for i in range(len(openimages[\"Subcategory\"])):\n",
    "    ID = openimages[\"Subcategory\"][i]['LabelName']\n",
    "    try:\n",
    "        sub = openimages[\"Subcategory\"][i][\"Subcategory\"]\n",
    "    except KeyError:\n",
    "        homeless_categories = np.append(homeless_categories, ID)\n",
    "    else:\n",
    "        primary_categories = np.append(primary_categories, ID)\n",
    "        \n",
    "output_dict ={} # 'Plant':[/m/0zrthkd, /m/0zrpfhj]\n",
    "\n",
    "for desired_tag in desired_categories:\n",
    "    try:\n",
    "        desired_ID = label2id_dict[desired_tag]\n",
    "    except:\n",
    "        pass\n",
    "    else:\n",
    "        if desired_ID in homeless_categories:\n",
    "            output_dict[desired_tag] = label2id_dict[desired_tag]\n",
    "            delete.append(desired_tag)\n",
    "\n",
    "desired_categories = [i for i in desired_categories if i not in delete]\n",
    "print('Done processing homeless categories:', output_dict)"
   ]
  },
  {
   "cell_type": "code",
   "execution_count": 122,
   "metadata": {},
   "outputs": [
    {
     "name": "stdout",
     "output_type": "stream",
     "text": [
      "Done processing homeless categories: {'Human head': '/m/04hgtk', 'Human mouth': '/m/0283dt1', 'Human ear': '/m/039xj_', 'Human hand': '/m/0k65p', 'Human foot': '/m/031n1', 'Human arm': '/m/0dzf4', 'Human beard': '/m/015h_t', 'Drink': '/m/0271t', 'Telephone': '/m/07cx4', 'Weapon': '/m/083kb', 'Tool': '/m/07k1x', 'Personal care': '/m/02w3_ws', 'Cosmetics': '/m/014trl', 'Sculpture': '/m/06msq', 'Furniture': '/m/0c_jw', 'Office supplies': '/m/02rdsp', 'Plumbing fixture': '/m/02pkr5', 'Home appliance': '/m/019dx1', 'Toy': '/m/0138tl'}\n"
     ]
    }
   ],
   "source": [
    "for desired_tag in desired_categories:\n",
    "    try:\n",
    "        desired_ID = label2id_dict[desired_tag]\n",
    "    except:\n",
    "        pass\n",
    "    else:\n",
    "        if desired_ID in primary_categories:\n",
    "            output_dict[desired_tag] = label2id_dict[desired_tag]\n",
    "            delete.append(desired_tag) \n",
    "\n",
    "desired_categories = [i for i in desired_categories if i not in delete]\n",
    "print('Done processing homeless categories:', output_dict)"
   ]
  },
  {
   "cell_type": "code",
   "execution_count": 123,
   "metadata": {},
   "outputs": [
    {
     "name": "stdout",
     "output_type": "stream",
     "text": [
      "['Container', 'Helmet', 'Racket', 'Ball', 'Sports Equipment_other', 'Musical Instrument', 'Medical Equipment', 'Shellfish', 'Fish', 'Reptile&Amphibian', 'Mammal', 'Invertberate', 'Bird', 'Luggage & bags', 'Footware', 'Trousers', 'Fashion Accessory', 'Glove', 'Hat', 'Clothing_other', 'Aerial veheicle', 'Watercraft', 'Auto Part', 'Car', 'Bicycle', 'Land Vehicle_other', 'Flower', 'Tree', 'Vegetable', 'Seafood', 'Baked goods', 'Fruit', 'Desseert&Snack', 'Fastfood', 'Food_other', 'Man', 'Women', 'Boy', 'Girl', 'Humen eye', 'Human Face', 'Hair', 'Human leg', 'Electronics', 'Street signs', 'Kitchen Appliance&Utensil', 'Tableware']\n"
     ]
    }
   ],
   "source": [
    "print(desired_categories)"
   ]
  },
  {
   "cell_type": "code",
   "execution_count": null,
   "metadata": {},
   "outputs": [],
   "source": []
  }
 ],
 "metadata": {
  "kernelspec": {
   "display_name": "Python 3",
   "language": "python",
   "name": "python3"
  },
  "language_info": {
   "codemirror_mode": {
    "name": "ipython",
    "version": 3
   },
   "file_extension": ".py",
   "mimetype": "text/x-python",
   "name": "python",
   "nbconvert_exporter": "python",
   "pygments_lexer": "ipython3",
   "version": "3.7.7"
  }
 },
 "nbformat": 4,
 "nbformat_minor": 4
}
