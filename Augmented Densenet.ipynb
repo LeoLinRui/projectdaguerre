{
 "cells": [
  {
   "cell_type": "code",
   "execution_count": 18,
   "metadata": {
    "pycharm": {
     "is_executing": false
    },
    "slideshow": {
     "slide_type": "-"
    }
   },
   "outputs": [],
   "source": [
    "import os\n",
    "import io\n",
    "import time\n",
    "import pickle\n",
    "import itertools \n",
    "import pandas as pd\n",
    "import numpy as np\n",
    "import scipy\n",
    "\n",
    "import cv2\n",
    "from skimage import transform\n",
    "import matplotlib.pyplot as plt\n",
    "from sklearn import metrics\n",
    "import scipy\n",
    "\n",
    "import torch\n",
    "from torch.utils.data import Dataset, DataLoader\n",
    "from torchvision import transforms, utils\n",
    "import torchvision\n",
    "from torch import nn, optim\n",
    "from torch.autograd import Variable\n",
    "from torch.nn import functional\n",
    "import torch.distributed as dist\n",
    "import torch.multiprocessing as mp\n",
    "from torch.nn.parallel import DistributedDataParallel as DDP\n",
    "from torch.cuda.amp import autocast, GradScaler\n",
    "\n",
    "\n",
    "from Datasets import *\n",
    "\n",
    "image_dir = r\"I:\\AVA_images\"\n",
    "pkl_dir= r\"H:\\AVAFeatures_pkl\"\n",
    "feature_dir = r'H:\\AVA Featuremaps'\n",
    "csv_dir = r\"C:\\Users\\Leo's PC\\Desktop\\AVA.txt\"\n",
    "checkpoint_save_dir = r\"I:\\Model Checkpoints\"\n",
    "cache_folder = r\"I:\\AVACache_Smooth\"\n",
    "\n",
    "os.environ[\"KMP_DUPLICATE_LIB_OK\"]=\"TRUE\""
   ]
  },
  {
   "cell_type": "code",
   "execution_count": 20,
   "metadata": {},
   "outputs": [
    {
     "name": "stdout",
     "output_type": "stream",
     "text": [
      "255502 images found in the feature map directory.\n",
      "19999 images are found within the specified range\n",
      "Extremes: ('17640', 1.1810344827586208) ('491369', 7.399253731343284)\n",
      "1999 images with label 0. 2000 images with label 1.\n"
     ]
    },
    {
     "data": {
      "image/png": "[encoded data removed]",
      "text/plain": [
       "<Figure size 432x288 with 1 Axes>"
      ]
     },
     "metadata": {
      "needs_background": "light"
     },
     "output_type": "display_data"
    }
   ],
   "source": [
    "# Train = AVAFeatureDataset_Binary_percent(csv_file=csv_dir, file_dir=feature_dir, pkl_dir=pkl_dir, start=0, end=209999, percent=0.5, transform=transforms.Compose([Rescale_list((224, 224)), ToNumpy_list()]))\n",
    "# Validation = AVAFeatureDataset_Binary_percent(csv_file=csv_dir, file_dir=feature_dir, pkl_dir=pkl_dir, start=210000, end=229999, percent=0.5, transform=transforms.Compose([Rescale_list((224, 224)), ToNumpy_list()]))\n",
    "Test = AVAFeatureDataset_Binary_percent(csv_file=csv_dir, file_dir=feature_dir, pkl_dir=pkl_dir, start=230000, end=249999, percent=0.1, transform=transforms.Compose([Rescale_list((224, 224)), ToNumpy_list()]))"
   ]
  },
  {
   "cell_type": "code",
   "execution_count": 8,
   "metadata": {},
   "outputs": [],
   "source": [
    "Validation.CACHED_TRANSFORM, Validation.CACHED, Train.CACHED_TRANSFORM, Train.CACHED = True, True, True, True"
   ]
  },
  {
   "cell_type": "code",
   "execution_count": 21,
   "metadata": {},
   "outputs": [
    {
     "name": "stdout",
     "output_type": "stream",
     "text": [
      "Start building cache\n",
      "Cacheing complete. Took 318.4704387187958 seconds.\n"
     ]
    }
   ],
   "source": [
    "# Train.build_cache(r'I:\\AVACache_Binary50%', TRANSFORM=True)\n",
    "# Validation.build_cache(r'I:\\AVACache_Binary50%', TRANSFORM=True)\n",
    "Test.build_cache(r'I:\\AVACache_Binary10%', TRANSFORM=True)"
   ]
  },
  {
   "cell_type": "code",
   "execution_count": 5,
   "metadata": {},
   "outputs": [
    {
     "name": "stdout",
     "output_type": "stream",
     "text": [
      "209999\n"
     ]
    }
   ],
   "source": [
    "print(Train.__len__())"
   ]
  },
  {
   "cell_type": "code",
   "execution_count": 23,
   "metadata": {},
   "outputs": [],
   "source": [
    "with open('I:\\AVA_dataset_pkl/test_features_10%_Cached.pkl', 'wb') as fp:\n",
    "    pickle.dump(Test, fp)"
   ]
  },
  {
   "cell_type": "markdown",
   "metadata": {},
   "source": [
    "# Load Dataset and Create Dataloader"
   ]
  },
  {
   "cell_type": "code",
   "execution_count": 2,
   "metadata": {},
   "outputs": [],
   "source": [
    "with open('I:\\AVA_dataset_pkl/train_features_10%_binary_Cached.pkl', 'rb') as fp:\n",
    "    Train = pickle.load(fp)\n",
    "    \n",
    "with open('I:\\AVA_dataset_pkl/validation_features_10%_binary_Cached.pkl', 'rb') as fp:\n",
    "    Validation = pickle.load(fp)\n",
    "\n",
    "with open('I:\\AVA_dataset_pkl/test_features_10%_Cached.pkl', 'rb') as fp:\n",
    "    Test = pickle.load(fp)"
   ]
  },
  {
   "cell_type": "code",
   "execution_count": 24,
   "metadata": {},
   "outputs": [],
   "source": [
    "batch_size = 32\n",
    "train_loader = DataLoader(dataset=Train, batch_size=batch_size, shuffle=True)\n",
    "val_loader = DataLoader(dataset=Validation, batch_size=batch_size, shuffle=True)\n",
    "test_loader = DataLoader(dataset=Test, batch_size=batch_size, shuffle=False)"
   ]
  },
  {
   "cell_type": "code",
   "execution_count": 4,
   "metadata": {},
   "outputs": [
    {
     "name": "stdout",
     "output_type": "stream",
     "text": [
      "20\n"
     ]
    }
   ],
   "source": [
    "print(len(next(enumerate(train_loader))[1]['image']))"
   ]
  },
  {
   "cell_type": "markdown",
   "metadata": {},
   "source": [
    "# Model Class"
   ]
  },
  {
   "cell_type": "code",
   "execution_count": 5,
   "metadata": {
    "pycharm": {
     "is_executing": false,
     "metadata": false,
     "name": "#%%\n"
    }
   },
   "outputs": [],
   "source": [
    "def init_weights(m):\n",
    "    if type(m) == nn.Linear or type(m) == nn.Conv2d:\n",
    "        torch.nn.init.xavier_uniform_(m.weight)\n",
    "        m.bias.data.fill_(0.01)\n",
    "\n",
    "\n",
    "class DeepFeaturesProcessor(nn.Module):\n",
    "    def __init__(self):\n",
    "        super(DeepFeaturesProcessor, self).__init__()\n",
    "        \n",
    "        self.conv1 = nn.Conv2d(in_channels=19, out_channels=32, kernel_size=[7,7], stride=2, padding=3)\n",
    "        self.pool1 = nn.MaxPool2d(kernel_size = [2, 2], stride=2, padding=0)\n",
    "        self.conv2 = nn.Conv2d(in_channels=32, out_channels=32, kernel_size=[5,5], stride=2, padding=2)\n",
    "        self.pool2 = nn.MaxPool2d(kernel_size = [2, 2], stride=2, padding=0)\n",
    "        self.conv3 = nn.Conv2d(in_channels=32, out_channels=64, kernel_size=[3,3], stride=1, padding=1)\n",
    "        \n",
    "        self.activation = nn.ReLU()\n",
    "        \n",
    "    @autocast()   \n",
    "    def forward(self, x):\n",
    "        x = self.conv1(x)\n",
    "        x = self.activation(x)\n",
    "        x = self.pool1(x)\n",
    "        x = self.conv2(x)\n",
    "        x = self.activation(x)\n",
    "        x = self.pool2(x)\n",
    "        x = self.conv3(x)\n",
    "        x = self.activation(x)\n",
    "        return x\n",
    "\n",
    "    \n",
    "class SceneProcessor(nn.Module):\n",
    "    def __init__(self):\n",
    "        super(SceneProcessor, self).__init__()\n",
    "        \n",
    "        self.fc = nn.Linear(2048, 1024)\n",
    "        self.activation = nn.ReLU()\n",
    "\n",
    "    @autocast()    \n",
    "    def forward(self, x):\n",
    "        x = self.fc(x)\n",
    "        x = self.activation(x)\n",
    "        return x\n",
    "    \n",
    "\n",
    "class AugmentedDenseNet(nn.Module):\n",
    "    \n",
    "    \n",
    "    def __init__(self):\n",
    "        super(AugmentedDenseNet, self).__init__()\n",
    "        \n",
    "        self.densenet = torchvision.models.densenet121(pretrained=True, progress=True).features\n",
    "        self.deep_feature_processor = DeepFeaturesProcessor()\n",
    "        self.scene_processor = SceneProcessor()\n",
    "        \n",
    "        self.pre_input = nn.Conv2d(in_channels=3, out_channels=3, kernel_size=[7,7], stride=2, padding=3)\n",
    "        \n",
    "        self.conv0 = nn.Conv2d(in_channels=3, out_channels=64, kernel_size=[7,7], stride=2, padding=3)\n",
    "        self.pool0 = nn.AdaptiveMaxPool2d(output_size=56)\n",
    "        self.dense_input = nn.Sequential(self.conv0, self.densenet.norm0, nn.ReLU(), self.pool0)\n",
    "        self.dense_block1 = self.densenet.denseblock1\n",
    "        self.dense_block2 = self.densenet.denseblock2\n",
    "        self.dense_block3 = self.densenet.denseblock3\n",
    "        self.dense_block4 = self.densenet.denseblock4\n",
    "        \n",
    "        self.dense_transition1 = self.densenet.transition1 \n",
    "        self.dense_transition2 = nn.Sequential(nn.Conv2d(in_channels=512, out_channels=192, kernel_size=[1,1], stride=1, padding=0),\n",
    "                                               nn.ReLU(),\n",
    "                                               nn.AvgPool2d(kernel_size = [2, 2], stride=2, padding=0))\n",
    "        self.dense_transition3 = self.densenet.transition3\n",
    "\n",
    "        self.pooling = nn.AvgPool2d(kernel_size = [7, 7], stride=7, padding=0)\n",
    "        \n",
    "        self.fc1 = nn.Linear(2048, 2048)\n",
    "        self.fc2 = nn.Linear(2048, 1024)\n",
    "        self.fc3 = nn.Linear(1024, 512)\n",
    "        self.fc4 = nn.Linear(512, 2)\n",
    "        \n",
    "        self.dropout1 = nn.Dropout(p=0.5)\n",
    "        self.dropout2 = nn.Dropout(p=0.5)\n",
    "        \n",
    "        self.bn1d1 = nn.BatchNorm1d(2048)\n",
    "        self.bn1d2 = nn.BatchNorm1d(1024)\n",
    "        \n",
    "        self.softmax = nn.Softmax(dim=1)\n",
    "        self.sigmoid = nn.Sigmoid()\n",
    "        self.tanh = nn.Tanh()\n",
    "        self.relu = nn.ReLU()\n",
    "        \n",
    "        self.scene_processor.apply(init_weights)\n",
    "        self.deep_feature_processor.apply(init_weights)\n",
    "        self.pre_input.apply(init_weights)\n",
    "\n",
    "        \n",
    "    @autocast()\n",
    "    def forward(self, imagelist, scene, device):\n",
    "        \n",
    "        #self.densenet = self.densenet.to(device)\n",
    "        #self.deep_feature_processor = self.deep_feature_processor.to(device)\n",
    "        #self.scene_processor = self.scene_processor.to(device)\n",
    "        \n",
    "        # original_input = torch.from_numpy(imagelist[0])\n",
    "        original_input = imagelist[0].float()\n",
    "        #original_input = original_input.to(device)\n",
    "        dense_feature_out = self.pre_input(original_input)\n",
    "        dense_feature_out = self.dense_input(dense_feature_out)\n",
    "        dense_feature_out = self.dense_block1(dense_feature_out)\n",
    "        dense_feature_out = self.dense_transition1(dense_feature_out)\n",
    "        dense_feature_out = self.dense_block2(dense_feature_out)\n",
    "        dense_feature_out = self.dense_transition2(dense_feature_out)\n",
    "        \n",
    "        deep_feature_in = []\n",
    "        for feature in imagelist[1:20]:\n",
    "            feature = feature.float()\n",
    "            #feature = feature.to(device)\n",
    "            deep_feature_in.append(feature)\n",
    "        deep_feature_in = torch.cat(deep_feature_in, dim=1)\n",
    "        \n",
    "        deep_feature_out = self.deep_feature_processor(deep_feature_in)\n",
    "        dense_in = torch.cat([dense_feature_out, deep_feature_out], dim=1)\n",
    "        \n",
    "        dense_out = self.dense_block3(dense_in)\n",
    "        dense_out = self.dense_transition3(dense_out)\n",
    "        dense_out = self.dense_block4(dense_out)\n",
    "        dense_out = self.pooling(dense_out)\n",
    "        dense_out = dense_out.view(dense_out.size()[0], -1)\n",
    "        \n",
    "        # scene_input = torch.from_numpy(scene)\n",
    "        scene_input = scene.float()\n",
    "        #scene_input = scene_input.to(device)\n",
    "        scene_out = self.scene_processor(scene_input)\n",
    "        fc_in = torch.cat([dense_out, scene_out], dim=1)\n",
    "        \n",
    "        fc_out = self.fc1(fc_in)\n",
    "        fc_out = self.bn1d1(fc_out)\n",
    "        fc_out = self.dropout1(fc_out)\n",
    "        fc_out = self.relu(fc_out)\n",
    "        fc_out = self.fc2(fc_out)\n",
    "        fc_out = self.bn1d2(fc_out)\n",
    "        fc_out = self.dropout2(fc_out)\n",
    "        fc_out = self.relu(fc_out)\n",
    "        fc_out = self.fc3(fc_out)\n",
    "        fc_out = self.relu(fc_out)\n",
    "        fc_out = self.fc4(fc_out)\n",
    "        fc_out = self.softmax(fc_out)\n",
    "        \n",
    "        return fc_out\n",
    "\n",
    "    def name(self):\n",
    "        return \"FeatureNet\""
   ]
  },
  {
   "cell_type": "code",
   "execution_count": 6,
   "metadata": {},
   "outputs": [],
   "source": [
    "class DeepFeaturesProcessor_Light(nn.Module):\n",
    "    def __init__(self):\n",
    "        super(DeepFeaturesProcessor_Light, self).__init__()\n",
    "        \n",
    "        self.conv1 = nn.Conv2d(in_channels=19, out_channels=32, kernel_size=[7,7], stride=2, padding=3)\n",
    "        self.pool1 = nn.MaxPool2d(kernel_size = [2, 2], stride=2, padding=0)\n",
    "        \n",
    "        self.conv2 = nn.Conv2d(in_channels=32, out_channels=32, kernel_size=[5,5], stride=2, padding=2)\n",
    "        self.pool2 = nn.MaxPool2d(kernel_size = [2, 2], stride=2, padding=0)\n",
    "        \n",
    "        self.conv3 = nn.Conv2d(in_channels=32, out_channels=64, kernel_size=[3,3], stride=1, padding=1)\n",
    "        self.pool3 = nn.MaxPool2d(kernel_size = [2, 2], stride=2, padding=0)\n",
    "        \n",
    "        self.conv4 = nn.Conv2d(in_channels=64, out_channels=128, kernel_size=[3,3], stride=1, padding=1)\n",
    "        self.pool4 = nn.MaxPool2d(kernel_size = [2, 2], stride=2, padding=1)\n",
    "        \n",
    "        self.conv5 = nn.Conv2d(in_channels=128, out_channels=256, kernel_size=[3,3], stride=1, padding=1)\n",
    "        self.pool5 = nn.MaxPool2d(kernel_size = [2, 2], stride=2, padding=0)\n",
    "        \n",
    "        self.activation = nn.ReLU()\n",
    "        \n",
    "    @autocast()   \n",
    "    def forward(self, x):\n",
    "        \n",
    "        x = self.conv1(x)\n",
    "        x = self.activation(x)\n",
    "        \n",
    "        x = self.pool1(x)\n",
    "        x = self.conv2(x)\n",
    "        x = self.activation(x)\n",
    "        \n",
    "        x = self.pool2(x)\n",
    "        x = self.conv3(x)\n",
    "        x = self.activation(x)\n",
    "        \n",
    "        x = self.pool3(x)\n",
    "        x = self.conv4(x)\n",
    "        x = self.activation(x)\n",
    "        \n",
    "        x = self.pool4(x)\n",
    "        x = self.conv5(x)\n",
    "        x = self.activation(x)\n",
    "        \n",
    "        x = self.pool5(x)\n",
    "        \n",
    "        return x\n",
    "\n",
    "\n",
    "class AugmentedLightNet(nn.Module):\n",
    "    \n",
    "    \n",
    "    def __init__(self):\n",
    "        super(AugmentedLightNet, self).__init__()\n",
    "        \n",
    "        self.densenet = torchvision.models.densenet121(pretrained=True, progress=True).features\n",
    "        self.deep_feature_processor = DeepFeaturesProcessor_Light()\n",
    "        self.scene_processor = SceneProcessor()\n",
    "        \n",
    "        self.pre_input = nn.Conv2d(in_channels=3, out_channels=3, kernel_size=[7,7], stride=2, padding=3)\n",
    "        \n",
    "        self.conv0 = nn.Conv2d(in_channels=3, out_channels=64, kernel_size=[7,7], stride=2, padding=3)\n",
    "        self.pool0 = nn.AdaptiveMaxPool2d(output_size=56)\n",
    "        self.dense_input = nn.Sequential(self.conv0, self.densenet.norm0, nn.ReLU(), self.pool0)\n",
    "        self.dense_block1 = self.densenet.denseblock1\n",
    "        self.dense_block2 = self.densenet.denseblock2\n",
    "        self.dense_block3 = self.densenet.denseblock3\n",
    "        self.dense_block4 = self.densenet.denseblock4\n",
    "        \n",
    "        self.dense_transition1 = self.densenet.transition1 \n",
    "        self.dense_transition2 = nn.Sequential(nn.Conv2d(in_channels=512, out_channels=192, kernel_size=[1,1], stride=1, padding=0),\n",
    "                                               nn.ReLU(),\n",
    "                                               nn.AvgPool2d(kernel_size = [2, 2], stride=2, padding=0))\n",
    "        self.dense_transition3 = self.densenet.transition3\n",
    "\n",
    "        self.pooling = nn.AvgPool2d(kernel_size = [7, 7], stride=7, padding=0)\n",
    "        \n",
    "        self.fc1 = nn.Linear(2048, 1024)\n",
    "        self.fc2 = nn.Linear(1024, 512)\n",
    "        self.fc3 = nn.Linear(512, 1)\n",
    "        \n",
    "        self.dropout1 = nn.Dropout(p=0.5)\n",
    "        self.dropout2 = nn.Dropout(p=0.5)\n",
    "        \n",
    "        self.bn1d1 = nn.BatchNorm1d(2048)\n",
    "        self.bn1d2 = nn.BatchNorm1d(1024)\n",
    "        \n",
    "        self.softmax = nn.Softmax(dim=1)\n",
    "        self.sigmoid = nn.Sigmoid()\n",
    "        self.tanh = nn.Tanh()\n",
    "        self.relu = nn.ReLU()\n",
    "        \n",
    "        self.scene_processor.apply(init_weights)\n",
    "        self.deep_feature_processor.apply(init_weights)\n",
    "        self.pre_input.apply(init_weights)\n",
    "\n",
    "        \n",
    "    @autocast()\n",
    "    def forward(self, imagelist, scene, device):\n",
    "        \n",
    "        deep_feature_in = []\n",
    "        \n",
    "        for feature in imagelist[1:20]:\n",
    "            feature = feature.float()\n",
    "            deep_feature_in.append(feature)\n",
    "            \n",
    "        deep_feature_in = torch.cat(deep_feature_in, dim=1)\n",
    "        \n",
    "        deep_feature_out = self.deep_feature_processor(deep_feature_in)\n",
    "\n",
    "        deep_feature_out = deep_feature_out.view(dense_out.size()[0], -1)\n",
    "        \n",
    "\n",
    "        scene_input = scene.float()\n",
    "\n",
    "        scene_out = self.scene_processor(scene_input)\n",
    "        \n",
    "        fc_in = torch.cat([deep_feature_out, scene_out], dim=1)\n",
    "        \n",
    "        fc_out = self.fc1(fc_in)\n",
    "        fc_out = self.bn1d1(fc_out)\n",
    "        fc_out = self.dropout1(fc_out)\n",
    "        fc_out = self.relu(fc_out)\n",
    "        \n",
    "        fc_out = self.fc2(fc_out)\n",
    "        fc_out = self.bn1d2(fc_out)\n",
    "        fc_out = self.dropout2(fc_out)\n",
    "        fc_out = self.relu(fc_out)\n",
    "        \n",
    "        fc_out = self.fc3(fc_out)\n",
    "        fc_out = self.sigmoid(fc_out)\n",
    "        \n",
    "        return fc_out\n",
    "\n",
    "    def name(self):\n",
    "        return \"FeatureNet\""
   ]
  },
  {
   "cell_type": "markdown",
   "metadata": {},
   "source": [
    "# Model Initialization & Hyperparameters"
   ]
  },
  {
   "cell_type": "code",
   "execution_count": 7,
   "metadata": {
    "pycharm": {
     "is_executing": false,
     "metadata": false,
     "name": "#%%\n"
    },
    "scrolled": true
   },
   "outputs": [],
   "source": [
    "model = AugmentedDenseNet()"
   ]
  },
  {
   "cell_type": "code",
   "execution_count": 8,
   "metadata": {},
   "outputs": [],
   "source": [
    "optimizer = optim.Adam(params=model.parameters(), lr=0.0001, betas=(0.9, 0.999))\n",
    "criterion = nn.CrossEntropyLoss()\n",
    "#criterion = nn.MSELoss()"
   ]
  },
  {
   "cell_type": "code",
   "execution_count": 11,
   "metadata": {},
   "outputs": [
    {
     "data": {
      "text/plain": [
       "'\\nfor p in model.module.deep_feature_processor.parameters():\\n    p.requires_grad == False\\n    \\nfor p in model.module.pre_input.parameters():\\n    p.requires_grad == False\\n    \\nfor p in model.module.dense_block3.parameters():\\n    p.requires_grad == False\\n        \\nfor p in model.module.dense_block4.parameters():\\n    p.requires_grad == False\\n        \\nfor p in model.module.dense_transition3.parameters():\\n    p.requires_grad == False\\n'"
      ]
     },
     "execution_count": 11,
     "metadata": {},
     "output_type": "execute_result"
    }
   ],
   "source": [
    "for p in model.module.dense_input.parameters():\n",
    "    p.requires_grad == False\n",
    "\n",
    "for p in model.module.dense_block1.parameters():\n",
    "    p.requires_grad == False\n",
    "        \n",
    "for p in model.module.dense_block2.parameters():\n",
    "    p.requires_grad == False\n",
    "        \n",
    "for p in model.module.dense_transition1.parameters():\n",
    "    p.requires_grad == False\n",
    "        \n",
    "for p in model.module.dense_transition2.parameters():\n",
    "    p.requires_grad == False\n",
    "    \n",
    "'''\n",
    "for p in model.module.deep_feature_processor.parameters():\n",
    "    p.requires_grad == False\n",
    "    \n",
    "for p in model.module.pre_input.parameters():\n",
    "    p.requires_grad == False\n",
    "    \n",
    "for p in model.module.dense_block3.parameters():\n",
    "    p.requires_grad == False\n",
    "        \n",
    "for p in model.module.dense_block4.parameters():\n",
    "    p.requires_grad == False\n",
    "        \n",
    "for p in model.module.dense_transition3.parameters():\n",
    "    p.requires_grad == False\n",
    "'''"
   ]
  },
  {
   "cell_type": "markdown",
   "metadata": {},
   "source": [
    "### Initialization for single-GPU/CPU training ONLY"
   ]
  },
  {
   "cell_type": "code",
   "execution_count": 44,
   "metadata": {
    "scrolled": true
   },
   "outputs": [
    {
     "ename": "RuntimeError",
     "evalue": "CUDA error: device-side assert triggered",
     "output_type": "error",
     "traceback": [
      "\u001b[1;31m---------------------------------------------------------------------------\u001b[0m",
      "\u001b[1;31mRuntimeError\u001b[0m                              Traceback (most recent call last)",
      "\u001b[1;32m<ipython-input-44-0d68792c75d5>\u001b[0m in \u001b[0;36m<module>\u001b[1;34m\u001b[0m\n\u001b[1;32m----> 1\u001b[1;33m \u001b[0mmodel\u001b[0m \u001b[1;33m=\u001b[0m \u001b[0mmodel\u001b[0m\u001b[1;33m.\u001b[0m\u001b[0mcuda\u001b[0m\u001b[1;33m(\u001b[0m\u001b[1;33m)\u001b[0m\u001b[1;33m\u001b[0m\u001b[1;33m\u001b[0m\u001b[0m\n\u001b[0m\u001b[0;32m      2\u001b[0m \u001b[0mdevice\u001b[0m \u001b[1;33m=\u001b[0m \u001b[0mtorch\u001b[0m\u001b[1;33m.\u001b[0m\u001b[0mdevice\u001b[0m\u001b[1;33m(\u001b[0m\u001b[1;34m\"cuda:1\"\u001b[0m \u001b[1;32mif\u001b[0m \u001b[0mtorch\u001b[0m\u001b[1;33m.\u001b[0m\u001b[0mcuda\u001b[0m\u001b[1;33m.\u001b[0m\u001b[0mis_available\u001b[0m\u001b[1;33m(\u001b[0m\u001b[1;33m)\u001b[0m \u001b[1;32melse\u001b[0m \u001b[1;34m\"cpu\"\u001b[0m\u001b[1;33m)\u001b[0m\u001b[1;33m\u001b[0m\u001b[1;33m\u001b[0m\u001b[0m\n\u001b[0;32m      3\u001b[0m \u001b[0mmodel\u001b[0m\u001b[1;33m.\u001b[0m\u001b[0mto\u001b[0m\u001b[1;33m(\u001b[0m\u001b[0mdevice\u001b[0m\u001b[1;33m)\u001b[0m\u001b[1;33m\u001b[0m\u001b[1;33m\u001b[0m\u001b[0m\n",
      "\u001b[1;32mC:\\ProgramData\\Anaconda3\\envs\\pd\\lib\\site-packages\\torch\\nn\\modules\\module.py\u001b[0m in \u001b[0;36mcuda\u001b[1;34m(self, device)\u001b[0m\n\u001b[0;32m    456\u001b[0m             \u001b[0mModule\u001b[0m\u001b[1;33m:\u001b[0m \u001b[0mself\u001b[0m\u001b[1;33m\u001b[0m\u001b[1;33m\u001b[0m\u001b[0m\n\u001b[0;32m    457\u001b[0m         \"\"\"\n\u001b[1;32m--> 458\u001b[1;33m         \u001b[1;32mreturn\u001b[0m \u001b[0mself\u001b[0m\u001b[1;33m.\u001b[0m\u001b[0m_apply\u001b[0m\u001b[1;33m(\u001b[0m\u001b[1;32mlambda\u001b[0m \u001b[0mt\u001b[0m\u001b[1;33m:\u001b[0m \u001b[0mt\u001b[0m\u001b[1;33m.\u001b[0m\u001b[0mcuda\u001b[0m\u001b[1;33m(\u001b[0m\u001b[0mdevice\u001b[0m\u001b[1;33m)\u001b[0m\u001b[1;33m)\u001b[0m\u001b[1;33m\u001b[0m\u001b[1;33m\u001b[0m\u001b[0m\n\u001b[0m\u001b[0;32m    459\u001b[0m \u001b[1;33m\u001b[0m\u001b[0m\n\u001b[0;32m    460\u001b[0m     \u001b[1;32mdef\u001b[0m \u001b[0mcpu\u001b[0m\u001b[1;33m(\u001b[0m\u001b[0mself\u001b[0m\u001b[1;33m:\u001b[0m \u001b[0mT\u001b[0m\u001b[1;33m)\u001b[0m \u001b[1;33m->\u001b[0m \u001b[0mT\u001b[0m\u001b[1;33m:\u001b[0m\u001b[1;33m\u001b[0m\u001b[1;33m\u001b[0m\u001b[0m\n",
      "\u001b[1;32mC:\\ProgramData\\Anaconda3\\envs\\pd\\lib\\site-packages\\torch\\nn\\modules\\module.py\u001b[0m in \u001b[0;36m_apply\u001b[1;34m(self, fn)\u001b[0m\n\u001b[0;32m    352\u001b[0m     \u001b[1;32mdef\u001b[0m \u001b[0m_apply\u001b[0m\u001b[1;33m(\u001b[0m\u001b[0mself\u001b[0m\u001b[1;33m,\u001b[0m \u001b[0mfn\u001b[0m\u001b[1;33m)\u001b[0m\u001b[1;33m:\u001b[0m\u001b[1;33m\u001b[0m\u001b[1;33m\u001b[0m\u001b[0m\n\u001b[0;32m    353\u001b[0m         \u001b[1;32mfor\u001b[0m \u001b[0mmodule\u001b[0m \u001b[1;32min\u001b[0m \u001b[0mself\u001b[0m\u001b[1;33m.\u001b[0m\u001b[0mchildren\u001b[0m\u001b[1;33m(\u001b[0m\u001b[1;33m)\u001b[0m\u001b[1;33m:\u001b[0m\u001b[1;33m\u001b[0m\u001b[1;33m\u001b[0m\u001b[0m\n\u001b[1;32m--> 354\u001b[1;33m             \u001b[0mmodule\u001b[0m\u001b[1;33m.\u001b[0m\u001b[0m_apply\u001b[0m\u001b[1;33m(\u001b[0m\u001b[0mfn\u001b[0m\u001b[1;33m)\u001b[0m\u001b[1;33m\u001b[0m\u001b[1;33m\u001b[0m\u001b[0m\n\u001b[0m\u001b[0;32m    355\u001b[0m \u001b[1;33m\u001b[0m\u001b[0m\n\u001b[0;32m    356\u001b[0m         \u001b[1;32mdef\u001b[0m \u001b[0mcompute_should_use_set_data\u001b[0m\u001b[1;33m(\u001b[0m\u001b[0mtensor\u001b[0m\u001b[1;33m,\u001b[0m \u001b[0mtensor_applied\u001b[0m\u001b[1;33m)\u001b[0m\u001b[1;33m:\u001b[0m\u001b[1;33m\u001b[0m\u001b[1;33m\u001b[0m\u001b[0m\n",
      "\u001b[1;32mC:\\ProgramData\\Anaconda3\\envs\\pd\\lib\\site-packages\\torch\\nn\\modules\\module.py\u001b[0m in \u001b[0;36m_apply\u001b[1;34m(self, fn)\u001b[0m\n\u001b[0;32m    352\u001b[0m     \u001b[1;32mdef\u001b[0m \u001b[0m_apply\u001b[0m\u001b[1;33m(\u001b[0m\u001b[0mself\u001b[0m\u001b[1;33m,\u001b[0m \u001b[0mfn\u001b[0m\u001b[1;33m)\u001b[0m\u001b[1;33m:\u001b[0m\u001b[1;33m\u001b[0m\u001b[1;33m\u001b[0m\u001b[0m\n\u001b[0;32m    353\u001b[0m         \u001b[1;32mfor\u001b[0m \u001b[0mmodule\u001b[0m \u001b[1;32min\u001b[0m \u001b[0mself\u001b[0m\u001b[1;33m.\u001b[0m\u001b[0mchildren\u001b[0m\u001b[1;33m(\u001b[0m\u001b[1;33m)\u001b[0m\u001b[1;33m:\u001b[0m\u001b[1;33m\u001b[0m\u001b[1;33m\u001b[0m\u001b[0m\n\u001b[1;32m--> 354\u001b[1;33m             \u001b[0mmodule\u001b[0m\u001b[1;33m.\u001b[0m\u001b[0m_apply\u001b[0m\u001b[1;33m(\u001b[0m\u001b[0mfn\u001b[0m\u001b[1;33m)\u001b[0m\u001b[1;33m\u001b[0m\u001b[1;33m\u001b[0m\u001b[0m\n\u001b[0m\u001b[0;32m    355\u001b[0m \u001b[1;33m\u001b[0m\u001b[0m\n\u001b[0;32m    356\u001b[0m         \u001b[1;32mdef\u001b[0m \u001b[0mcompute_should_use_set_data\u001b[0m\u001b[1;33m(\u001b[0m\u001b[0mtensor\u001b[0m\u001b[1;33m,\u001b[0m \u001b[0mtensor_applied\u001b[0m\u001b[1;33m)\u001b[0m\u001b[1;33m:\u001b[0m\u001b[1;33m\u001b[0m\u001b[1;33m\u001b[0m\u001b[0m\n",
      "\u001b[1;32mC:\\ProgramData\\Anaconda3\\envs\\pd\\lib\\site-packages\\torch\\nn\\modules\\module.py\u001b[0m in \u001b[0;36m_apply\u001b[1;34m(self, fn)\u001b[0m\n\u001b[0;32m    374\u001b[0m                 \u001b[1;31m# `with torch.no_grad():`\u001b[0m\u001b[1;33m\u001b[0m\u001b[1;33m\u001b[0m\u001b[1;33m\u001b[0m\u001b[0m\n\u001b[0;32m    375\u001b[0m                 \u001b[1;32mwith\u001b[0m \u001b[0mtorch\u001b[0m\u001b[1;33m.\u001b[0m\u001b[0mno_grad\u001b[0m\u001b[1;33m(\u001b[0m\u001b[1;33m)\u001b[0m\u001b[1;33m:\u001b[0m\u001b[1;33m\u001b[0m\u001b[1;33m\u001b[0m\u001b[0m\n\u001b[1;32m--> 376\u001b[1;33m                     \u001b[0mparam_applied\u001b[0m \u001b[1;33m=\u001b[0m \u001b[0mfn\u001b[0m\u001b[1;33m(\u001b[0m\u001b[0mparam\u001b[0m\u001b[1;33m)\u001b[0m\u001b[1;33m\u001b[0m\u001b[1;33m\u001b[0m\u001b[0m\n\u001b[0m\u001b[0;32m    377\u001b[0m                 \u001b[0mshould_use_set_data\u001b[0m \u001b[1;33m=\u001b[0m \u001b[0mcompute_should_use_set_data\u001b[0m\u001b[1;33m(\u001b[0m\u001b[0mparam\u001b[0m\u001b[1;33m,\u001b[0m \u001b[0mparam_applied\u001b[0m\u001b[1;33m)\u001b[0m\u001b[1;33m\u001b[0m\u001b[1;33m\u001b[0m\u001b[0m\n\u001b[0;32m    378\u001b[0m                 \u001b[1;32mif\u001b[0m \u001b[0mshould_use_set_data\u001b[0m\u001b[1;33m:\u001b[0m\u001b[1;33m\u001b[0m\u001b[1;33m\u001b[0m\u001b[0m\n",
      "\u001b[1;32mC:\\ProgramData\\Anaconda3\\envs\\pd\\lib\\site-packages\\torch\\nn\\modules\\module.py\u001b[0m in \u001b[0;36m<lambda>\u001b[1;34m(t)\u001b[0m\n\u001b[0;32m    456\u001b[0m             \u001b[0mModule\u001b[0m\u001b[1;33m:\u001b[0m \u001b[0mself\u001b[0m\u001b[1;33m\u001b[0m\u001b[1;33m\u001b[0m\u001b[0m\n\u001b[0;32m    457\u001b[0m         \"\"\"\n\u001b[1;32m--> 458\u001b[1;33m         \u001b[1;32mreturn\u001b[0m \u001b[0mself\u001b[0m\u001b[1;33m.\u001b[0m\u001b[0m_apply\u001b[0m\u001b[1;33m(\u001b[0m\u001b[1;32mlambda\u001b[0m \u001b[0mt\u001b[0m\u001b[1;33m:\u001b[0m \u001b[0mt\u001b[0m\u001b[1;33m.\u001b[0m\u001b[0mcuda\u001b[0m\u001b[1;33m(\u001b[0m\u001b[0mdevice\u001b[0m\u001b[1;33m)\u001b[0m\u001b[1;33m)\u001b[0m\u001b[1;33m\u001b[0m\u001b[1;33m\u001b[0m\u001b[0m\n\u001b[0m\u001b[0;32m    459\u001b[0m \u001b[1;33m\u001b[0m\u001b[0m\n\u001b[0;32m    460\u001b[0m     \u001b[1;32mdef\u001b[0m \u001b[0mcpu\u001b[0m\u001b[1;33m(\u001b[0m\u001b[0mself\u001b[0m\u001b[1;33m:\u001b[0m \u001b[0mT\u001b[0m\u001b[1;33m)\u001b[0m \u001b[1;33m->\u001b[0m \u001b[0mT\u001b[0m\u001b[1;33m:\u001b[0m\u001b[1;33m\u001b[0m\u001b[1;33m\u001b[0m\u001b[0m\n",
      "\u001b[1;31mRuntimeError\u001b[0m: CUDA error: device-side assert triggered"
     ]
    }
   ],
   "source": [
    "model = model.cuda()\n",
    "device = torch.device(\"cuda:1\" if torch.cuda.is_available() else \"cpu\")\n",
    "model.to(device)"
   ]
  },
  {
   "cell_type": "markdown",
   "metadata": {},
   "source": [
    "### Initialization for Data Parallel training ONLY"
   ]
  },
  {
   "cell_type": "code",
   "execution_count": 10,
   "metadata": {},
   "outputs": [],
   "source": [
    "device = torch.device(\"cuda:0\" if torch.cuda.is_available() else \"cpu\")\n",
    "\n",
    "model = model.cuda()\n",
    "model = torch.nn.DataParallel(model)"
   ]
  },
  {
   "cell_type": "markdown",
   "metadata": {},
   "source": [
    "### Automatic mixed-percision"
   ]
  },
  {
   "cell_type": "code",
   "execution_count": 12,
   "metadata": {},
   "outputs": [],
   "source": [
    "scaler = GradScaler()"
   ]
  },
  {
   "cell_type": "markdown",
   "metadata": {},
   "source": [
    "# Training Code"
   ]
  },
  {
   "cell_type": "code",
   "execution_count": 13,
   "metadata": {},
   "outputs": [],
   "source": [
    "training_stats = {}\n",
    "training_stats['tarining_loss'] = []\n",
    "training_stats['validation_loss'] = []\n",
    "training_stats['accuracy'] = []\n",
    "training_stats['RMSE'] = []\n",
    "training_stats['spearmanr'] = []\n",
    "training_stats['classification'] = []"
   ]
  },
  {
   "cell_type": "code",
   "execution_count": 14,
   "metadata": {},
   "outputs": [],
   "source": [
    "def save_checkpt(model_name, save_dir, epoch, model, optimizer, loss, accu, training_stats):\n",
    "    checkpoint_file = open(save_dir + \"\\\\\" + model_name + \"_\" + \"E\" + str(epoch) + \"A\" + str(int(accu*1000)) + \"_\" + time.strftime(\"%m.%d.%Y_%H.%M.%S\") \n",
    "                       + \".tar\", 'wb')\n",
    "    torch.save({\n",
    "            'epoch': epoch,\n",
    "            'model_state_dict': model.state_dict(),\n",
    "            'optimizer_state_dict': optimizer.state_dict(),\n",
    "            'loss': loss,\n",
    "            'training_stats': training_stats,\n",
    "            }, checkpoint_file)\n",
    "    checkpoint_file.close()\n",
    "\n",
    "\n",
    "model_name = \"DenseNet_Augmented_Binary_Paper\"\n",
    "checkpoint_save_dir = r\"I:\\Model Checkpoints\"\n",
    "best_accu = 0.0"
   ]
  },
  {
   "cell_type": "markdown",
   "metadata": {},
   "source": [
    "## Binary Classification"
   ]
  },
  {
   "cell_type": "code",
   "execution_count": 29,
   "metadata": {
    "pycharm": {
     "is_executing": false,
     "metadata": false,
     "name": "#%%\n"
    }
   },
   "outputs": [
    {
     "name": "stdout",
     "output_type": "stream",
     "text": [
      ">>> epoch: 0, batch index: 125, test loss ave(E): 0.305780, acc: 0.886472\n",
      "              precision    recall  f1-score   support\n",
      "\n",
      "         0.0       0.87      0.90      0.89      1999\n",
      "         1.0       0.90      0.87      0.88      2000\n",
      "\n",
      "    accuracy                           0.89      3999\n",
      "   macro avg       0.89      0.89      0.89      3999\n",
      "weighted avg       0.89      0.89      0.89      3999\n",
      "\n",
      "==================================================================\n"
     ]
    },
    {
     "ename": "KeyboardInterrupt",
     "evalue": "",
     "output_type": "error",
     "traceback": [
      "\u001b[1;31m---------------------------------------------------------------------------\u001b[0m",
      "\u001b[1;31mKeyboardInterrupt\u001b[0m                         Traceback (most recent call last)",
      "\u001b[1;32m<ipython-input-29-ee3062d08942>\u001b[0m in \u001b[0;36m<module>\u001b[1;34m\u001b[0m\n\u001b[0;32m     69\u001b[0m         \u001b[0mave_loss\u001b[0m \u001b[1;33m=\u001b[0m \u001b[0mave_loss\u001b[0m \u001b[1;33m*\u001b[0m \u001b[1;36m0.99\u001b[0m \u001b[1;33m+\u001b[0m \u001b[0mloss\u001b[0m\u001b[1;33m.\u001b[0m\u001b[0mitem\u001b[0m\u001b[1;33m(\u001b[0m\u001b[1;33m)\u001b[0m \u001b[1;33m*\u001b[0m \u001b[1;36m0.01\u001b[0m\u001b[1;33m\u001b[0m\u001b[1;33m\u001b[0m\u001b[0m\n\u001b[0;32m     70\u001b[0m \u001b[1;33m\u001b[0m\u001b[0m\n\u001b[1;32m---> 71\u001b[1;33m         \u001b[0mscaler\u001b[0m\u001b[1;33m.\u001b[0m\u001b[0mscale\u001b[0m\u001b[1;33m(\u001b[0m\u001b[0mloss\u001b[0m\u001b[1;33m)\u001b[0m\u001b[1;33m.\u001b[0m\u001b[0mbackward\u001b[0m\u001b[1;33m(\u001b[0m\u001b[1;33m)\u001b[0m \u001b[1;31m#back propagation with calculated loss\u001b[0m\u001b[1;33m\u001b[0m\u001b[1;33m\u001b[0m\u001b[0m\n\u001b[0m\u001b[0;32m     72\u001b[0m         \u001b[0mscaler\u001b[0m\u001b[1;33m.\u001b[0m\u001b[0mstep\u001b[0m\u001b[1;33m(\u001b[0m\u001b[0moptimizer\u001b[0m\u001b[1;33m)\u001b[0m\u001b[1;33m\u001b[0m\u001b[1;33m\u001b[0m\u001b[0m\n\u001b[0;32m     73\u001b[0m         \u001b[0mscaler\u001b[0m\u001b[1;33m.\u001b[0m\u001b[0mupdate\u001b[0m\u001b[1;33m(\u001b[0m\u001b[1;33m)\u001b[0m\u001b[1;33m\u001b[0m\u001b[1;33m\u001b[0m\u001b[0m\n",
      "\u001b[1;32mC:\\ProgramData\\Anaconda3\\envs\\pd\\lib\\site-packages\\torch\\tensor.py\u001b[0m in \u001b[0;36mbackward\u001b[1;34m(self, gradient, retain_graph, create_graph)\u001b[0m\n\u001b[0;32m    183\u001b[0m                 \u001b[0mproducts\u001b[0m\u001b[1;33m.\u001b[0m \u001b[0mDefaults\u001b[0m \u001b[0mto\u001b[0m\u001b[0;31m \u001b[0m\u001b[0;31m`\u001b[0m\u001b[0;31m`\u001b[0m\u001b[1;32mFalse\u001b[0m\u001b[0;31m`\u001b[0m\u001b[0;31m`\u001b[0m\u001b[1;33m.\u001b[0m\u001b[1;33m\u001b[0m\u001b[1;33m\u001b[0m\u001b[0m\n\u001b[0;32m    184\u001b[0m         \"\"\"\n\u001b[1;32m--> 185\u001b[1;33m         \u001b[0mtorch\u001b[0m\u001b[1;33m.\u001b[0m\u001b[0mautograd\u001b[0m\u001b[1;33m.\u001b[0m\u001b[0mbackward\u001b[0m\u001b[1;33m(\u001b[0m\u001b[0mself\u001b[0m\u001b[1;33m,\u001b[0m \u001b[0mgradient\u001b[0m\u001b[1;33m,\u001b[0m \u001b[0mretain_graph\u001b[0m\u001b[1;33m,\u001b[0m \u001b[0mcreate_graph\u001b[0m\u001b[1;33m)\u001b[0m\u001b[1;33m\u001b[0m\u001b[1;33m\u001b[0m\u001b[0m\n\u001b[0m\u001b[0;32m    186\u001b[0m \u001b[1;33m\u001b[0m\u001b[0m\n\u001b[0;32m    187\u001b[0m     \u001b[1;32mdef\u001b[0m \u001b[0mregister_hook\u001b[0m\u001b[1;33m(\u001b[0m\u001b[0mself\u001b[0m\u001b[1;33m,\u001b[0m \u001b[0mhook\u001b[0m\u001b[1;33m)\u001b[0m\u001b[1;33m:\u001b[0m\u001b[1;33m\u001b[0m\u001b[1;33m\u001b[0m\u001b[0m\n",
      "\u001b[1;32mC:\\ProgramData\\Anaconda3\\envs\\pd\\lib\\site-packages\\torch\\autograd\\__init__.py\u001b[0m in \u001b[0;36mbackward\u001b[1;34m(tensors, grad_tensors, retain_graph, create_graph, grad_variables)\u001b[0m\n\u001b[0;32m    125\u001b[0m     Variable._execution_engine.run_backward(\n\u001b[0;32m    126\u001b[0m         \u001b[0mtensors\u001b[0m\u001b[1;33m,\u001b[0m \u001b[0mgrad_tensors\u001b[0m\u001b[1;33m,\u001b[0m \u001b[0mretain_graph\u001b[0m\u001b[1;33m,\u001b[0m \u001b[0mcreate_graph\u001b[0m\u001b[1;33m,\u001b[0m\u001b[1;33m\u001b[0m\u001b[1;33m\u001b[0m\u001b[0m\n\u001b[1;32m--> 127\u001b[1;33m         allow_unreachable=True)  # allow_unreachable flag\n\u001b[0m\u001b[0;32m    128\u001b[0m \u001b[1;33m\u001b[0m\u001b[0m\n\u001b[0;32m    129\u001b[0m \u001b[1;33m\u001b[0m\u001b[0m\n",
      "\u001b[1;31mKeyboardInterrupt\u001b[0m: "
     ]
    }
   ],
   "source": [
    "global epoch #declear epoch global, to be used later by torch.save() \n",
    "breakflag = False\n",
    "VALIDATION_FIRST = True\n",
    "\n",
    "for epoch in range(1):\n",
    "    \n",
    "    ave_loss = 0\n",
    "    global loss #declear loss global, to be used later by torch.save() \n",
    "\n",
    "\n",
    "    if epoch == 0 and VALIDATION_FIRST:\n",
    "        \n",
    "        f1_eval_storage = {'prediction':[], 'target':[]}\n",
    "        correct, ave_loss, total_cnt = 0, 0, 0\n",
    "        \n",
    "        for batch_idx, diction in enumerate(test_loader):\n",
    "            model.eval() #set model to evaluation mode\n",
    "        \n",
    "            imagelist, scene, target = diction['image'], diction['scene'], diction['rating'] #extract training data for this batch\n",
    "\n",
    "            target = target.to(device) \n",
    "            target = Variable(target)\n",
    "            target = target.float()\n",
    "\n",
    "            with autocast():\n",
    "                out = model(imagelist, scene, device=device) #forward pass\n",
    "                loss = criterion(out, target.long()) #calculate loss\n",
    "\n",
    "            pred_label = out.data\n",
    "            pred_label = pred_label.argmax(dim=1, keepdim=True)\n",
    "\n",
    "            target = target.long()\n",
    "\n",
    "            f1_eval_storage['prediction'] = np.append(f1_eval_storage['prediction'], pred_label.cpu().detach().numpy())\n",
    "            f1_eval_storage['target'] = np.append(f1_eval_storage['target'], target.cpu().detach().numpy())\n",
    "\n",
    "            total_cnt += scene.data.size()[0]\n",
    "            ave_loss = ave_loss * 0.99 + loss.item() * 0.01 #smooth average\n",
    "            correct += pred_label.eq(target.view_as(pred_label)).sum().item()\n",
    "\n",
    "            if (batch_idx + 1) == len(test_loader):\n",
    "                print(\n",
    "                '>>> epoch: {}, batch index: {}, test loss ave(E): {:.6f}, acc: {:.6f}'.format(\n",
    "                    epoch, batch_idx + 1, ave_loss, correct * 1.0 / total_cnt))\n",
    "                print(metrics.classification_report(f1_eval_storage['target'], f1_eval_storage['prediction']))\n",
    "                print('==================================================================') \n",
    "\n",
    "                #training_stats['accuracy'].append(correct * 1.0 / total_cnt)\n",
    "                #training_stats['validation_loss'].append(ave_loss)\n",
    "                #training_stats['classification'].append(metrics.classification_report(f1_eval_storage['target'], f1_eval_storage['prediction']))\n",
    "            \n",
    "                #save_checkpt(model_name, checkpoint_save_dir, epoch, model, optimizer, loss, accu=(correct * 1.0 / total_cnt), training_stats=training_stats)\n",
    "          \n",
    " \n",
    "    for batch_idx, diction in enumerate(train_loader):\n",
    "        model.train() #set model to traning mode\n",
    "        optimizer.zero_grad()\n",
    "        \n",
    "        imagelist, scene, target = diction['image'], diction['scene'], diction['rating'] #extract training data for this batch\n",
    "        \n",
    "        target = target.to(device) \n",
    "        target = Variable(target)\n",
    "        target = target.float()\n",
    "\n",
    "        with autocast():\n",
    "            out = model(imagelist, scene, device=device) #forward pass\n",
    "            loss = criterion(out, target.long()) #calculate loss\n",
    "\n",
    "        ave_loss = ave_loss * 0.99 + loss.item() * 0.01 \n",
    "        \n",
    "        scaler.scale(loss).backward() #back propagation with calculated loss\n",
    "        scaler.step(optimizer) \n",
    "        scaler.update()\n",
    "\n",
    "        if (batch_idx + 1) == len(train_loader):\n",
    "            print('>>> epoch: {}, batch index: {}, train loss ave(E): {:.6f}'.format(epoch, batch_idx + 1, ave_loss))\n",
    "            training_stats['tarining_loss'].append(ave_loss)\n",
    "    \n",
    "            \n",
    "    f1_eval_storage = {'prediction':[], 'target':[]}\n",
    "    correct, ave_loss, total_cnt = 0, 0, 0\n",
    "    for batch_idx, diction in enumerate(val_loader):\n",
    "        model.eval() #set model to evaluation mode\n",
    "        \n",
    "        imagelist, scene, target = diction['image'], diction['scene'], diction['rating'] #extract training data for this batch\n",
    "        \n",
    "        target = target.to(device) \n",
    "        target = Variable(target)\n",
    "        target = target.float()\n",
    "        \n",
    "        with autocast():\n",
    "            out = model(imagelist, scene, device=device) #forward pass\n",
    "            loss = criterion(out, target.long()) #calculate loss\n",
    "\n",
    "        pred_label = out.data\n",
    "        pred_label = pred_label.argmax(dim=1, keepdim=True)\n",
    "        \n",
    "        target = target.long()\n",
    "        \n",
    "        f1_eval_storage['prediction'] = np.append(f1_eval_storage['prediction'], pred_label.cpu().detach().numpy())\n",
    "        f1_eval_storage['target'] = np.append(f1_eval_storage['target'], target.cpu().detach().numpy())\n",
    "        \n",
    "        total_cnt += scene.data.size()[0]\n",
    "        ave_loss = ave_loss * 0.99 + loss.item() * 0.01 #smooth average\n",
    "        correct += pred_label.eq(target.view_as(pred_label)).sum().item()\n",
    "        \n",
    "        if (batch_idx + 1) == len(val_loader):\n",
    "            print(\n",
    "            '>>> epoch: {}, batch index: {}, test loss ave(E): {:.6f}, acc: {:.6f}'.format(\n",
    "                epoch, batch_idx + 1, ave_loss, correct * 1.0 / total_cnt))\n",
    "            print(metrics.classification_report(f1_eval_storage['target'], f1_eval_storage['prediction']))\n",
    "            print('==================================================================') \n",
    "            \n",
    "            training_stats['accuracy'].append(correct * 1.0 / total_cnt)\n",
    "            training_stats['validation_loss'].append(ave_loss)\n",
    "            training_stats['classification'].append(metrics.classification_report(f1_eval_storage['target'], f1_eval_storage['prediction']))\n",
    "            \n",
    "            save_checkpt(model_name, checkpoint_save_dir, epoch, model, optimizer, loss, accu=(correct * 1.0 / total_cnt), training_stats=training_stats)"
   ]
  },
  {
   "cell_type": "markdown",
   "metadata": {},
   "source": [
    "## Linear 10 class"
   ]
  },
  {
   "cell_type": "code",
   "execution_count": 81,
   "metadata": {
    "scrolled": true
   },
   "outputs": [
    {
     "name": "stdout",
     "output_type": "stream",
     "text": [
      "==>>> epoch: 0, batch index: 625, test loss: 0.005789, acc: 0.447\n",
      "RMSE: 0.6457722508088906\n",
      "              precision    recall  f1-score   support\n",
      "\n",
      "         1.0       0.00      0.00      0.00        34\n",
      "         2.0       0.58      0.02      0.04       641\n",
      "         3.0       0.53      0.07      0.12      5341\n",
      "         4.0       0.51      0.58      0.54     10093\n",
      "         5.0       0.35      0.73      0.47      3633\n",
      "         6.0       0.22      0.10      0.14       252\n",
      "         7.0       0.00      0.00      0.00         5\n",
      "\n",
      "    accuracy                           0.45     19999\n",
      "   macro avg       0.31      0.21      0.19     19999\n",
      "weighted avg       0.48      0.45      0.39     19999\n",
      "\n",
      "SpearmanrResult(correlation=0.580170286916907, pvalue=0.0)\n",
      "==================================================================\n"
     ]
    },
    {
     "name": "stderr",
     "output_type": "stream",
     "text": [
      "C:\\ProgramData\\Anaconda3\\envs\\pd\\lib\\site-packages\\sklearn\\metrics\\_classification.py:1221: UndefinedMetricWarning: Precision and F-score are ill-defined and being set to 0.0 in labels with no predicted samples. Use `zero_division` parameter to control this behavior.\n",
      "  _warn_prf(average, modifier, msg_start, len(result))\n",
      "C:\\ProgramData\\Anaconda3\\envs\\pd\\lib\\site-packages\\sklearn\\metrics\\_classification.py:1221: UndefinedMetricWarning: Precision and F-score are ill-defined and being set to 0.0 in labels with no predicted samples. Use `zero_division` parameter to control this behavior.\n",
      "  _warn_prf(average, modifier, msg_start, len(result))\n",
      "C:\\ProgramData\\Anaconda3\\envs\\pd\\lib\\site-packages\\torch\\cuda\\nccl.py:14: UserWarning: PyTorch is not compiled with NCCL support\n",
      "  warnings.warn('PyTorch is not compiled with NCCL support')\n"
     ]
    },
    {
     "ename": "KeyboardInterrupt",
     "evalue": "",
     "output_type": "error",
     "traceback": [
      "\u001b[1;31m---------------------------------------------------------------------------\u001b[0m",
      "\u001b[1;31mKeyboardInterrupt\u001b[0m                         Traceback (most recent call last)",
      "\u001b[1;32m<ipython-input-81-7354388d1440>\u001b[0m in \u001b[0;36m<module>\u001b[1;34m\u001b[0m\n\u001b[0;32m     57\u001b[0m \u001b[1;33m\u001b[0m\u001b[0m\n\u001b[0;32m     58\u001b[0m \u001b[1;33m\u001b[0m\u001b[0m\n\u001b[1;32m---> 59\u001b[1;33m     \u001b[1;32mfor\u001b[0m \u001b[0mbatch_idx\u001b[0m\u001b[1;33m,\u001b[0m \u001b[0mdiction\u001b[0m \u001b[1;32min\u001b[0m \u001b[0menumerate\u001b[0m\u001b[1;33m(\u001b[0m\u001b[0mtrain_loader\u001b[0m\u001b[1;33m)\u001b[0m\u001b[1;33m:\u001b[0m\u001b[1;33m\u001b[0m\u001b[1;33m\u001b[0m\u001b[0m\n\u001b[0m\u001b[0;32m     60\u001b[0m \u001b[1;33m\u001b[0m\u001b[0m\n\u001b[0;32m     61\u001b[0m         \u001b[0mmodel\u001b[0m\u001b[1;33m.\u001b[0m\u001b[0mtrain\u001b[0m\u001b[1;33m(\u001b[0m\u001b[1;33m)\u001b[0m \u001b[1;31m#set model to traning mode\u001b[0m\u001b[1;33m\u001b[0m\u001b[1;33m\u001b[0m\u001b[0m\n",
      "\u001b[1;32mC:\\ProgramData\\Anaconda3\\envs\\pd\\lib\\site-packages\\torch\\utils\\data\\dataloader.py\u001b[0m in \u001b[0;36m__next__\u001b[1;34m(self)\u001b[0m\n\u001b[0;32m    361\u001b[0m \u001b[1;33m\u001b[0m\u001b[0m\n\u001b[0;32m    362\u001b[0m     \u001b[1;32mdef\u001b[0m \u001b[0m__next__\u001b[0m\u001b[1;33m(\u001b[0m\u001b[0mself\u001b[0m\u001b[1;33m)\u001b[0m\u001b[1;33m:\u001b[0m\u001b[1;33m\u001b[0m\u001b[1;33m\u001b[0m\u001b[0m\n\u001b[1;32m--> 363\u001b[1;33m         \u001b[0mdata\u001b[0m \u001b[1;33m=\u001b[0m \u001b[0mself\u001b[0m\u001b[1;33m.\u001b[0m\u001b[0m_next_data\u001b[0m\u001b[1;33m(\u001b[0m\u001b[1;33m)\u001b[0m\u001b[1;33m\u001b[0m\u001b[1;33m\u001b[0m\u001b[0m\n\u001b[0m\u001b[0;32m    364\u001b[0m         \u001b[0mself\u001b[0m\u001b[1;33m.\u001b[0m\u001b[0m_num_yielded\u001b[0m \u001b[1;33m+=\u001b[0m \u001b[1;36m1\u001b[0m\u001b[1;33m\u001b[0m\u001b[1;33m\u001b[0m\u001b[0m\n\u001b[0;32m    365\u001b[0m         \u001b[1;32mif\u001b[0m \u001b[0mself\u001b[0m\u001b[1;33m.\u001b[0m\u001b[0m_dataset_kind\u001b[0m \u001b[1;33m==\u001b[0m \u001b[0m_DatasetKind\u001b[0m\u001b[1;33m.\u001b[0m\u001b[0mIterable\u001b[0m \u001b[1;32mand\u001b[0m\u001b[0;31m \u001b[0m\u001b[0;31m\\\u001b[0m\u001b[1;33m\u001b[0m\u001b[1;33m\u001b[0m\u001b[0m\n",
      "\u001b[1;32mC:\\ProgramData\\Anaconda3\\envs\\pd\\lib\\site-packages\\torch\\utils\\data\\dataloader.py\u001b[0m in \u001b[0;36m_next_data\u001b[1;34m(self)\u001b[0m\n\u001b[0;32m    401\u001b[0m     \u001b[1;32mdef\u001b[0m \u001b[0m_next_data\u001b[0m\u001b[1;33m(\u001b[0m\u001b[0mself\u001b[0m\u001b[1;33m)\u001b[0m\u001b[1;33m:\u001b[0m\u001b[1;33m\u001b[0m\u001b[1;33m\u001b[0m\u001b[0m\n\u001b[0;32m    402\u001b[0m         \u001b[0mindex\u001b[0m \u001b[1;33m=\u001b[0m \u001b[0mself\u001b[0m\u001b[1;33m.\u001b[0m\u001b[0m_next_index\u001b[0m\u001b[1;33m(\u001b[0m\u001b[1;33m)\u001b[0m  \u001b[1;31m# may raise StopIteration\u001b[0m\u001b[1;33m\u001b[0m\u001b[1;33m\u001b[0m\u001b[0m\n\u001b[1;32m--> 403\u001b[1;33m         \u001b[0mdata\u001b[0m \u001b[1;33m=\u001b[0m \u001b[0mself\u001b[0m\u001b[1;33m.\u001b[0m\u001b[0m_dataset_fetcher\u001b[0m\u001b[1;33m.\u001b[0m\u001b[0mfetch\u001b[0m\u001b[1;33m(\u001b[0m\u001b[0mindex\u001b[0m\u001b[1;33m)\u001b[0m  \u001b[1;31m# may raise StopIteration\u001b[0m\u001b[1;33m\u001b[0m\u001b[1;33m\u001b[0m\u001b[0m\n\u001b[0m\u001b[0;32m    404\u001b[0m         \u001b[1;32mif\u001b[0m \u001b[0mself\u001b[0m\u001b[1;33m.\u001b[0m\u001b[0m_pin_memory\u001b[0m\u001b[1;33m:\u001b[0m\u001b[1;33m\u001b[0m\u001b[1;33m\u001b[0m\u001b[0m\n\u001b[0;32m    405\u001b[0m             \u001b[0mdata\u001b[0m \u001b[1;33m=\u001b[0m \u001b[0m_utils\u001b[0m\u001b[1;33m.\u001b[0m\u001b[0mpin_memory\u001b[0m\u001b[1;33m.\u001b[0m\u001b[0mpin_memory\u001b[0m\u001b[1;33m(\u001b[0m\u001b[0mdata\u001b[0m\u001b[1;33m)\u001b[0m\u001b[1;33m\u001b[0m\u001b[1;33m\u001b[0m\u001b[0m\n",
      "\u001b[1;32mC:\\ProgramData\\Anaconda3\\envs\\pd\\lib\\site-packages\\torch\\utils\\data\\_utils\\fetch.py\u001b[0m in \u001b[0;36mfetch\u001b[1;34m(self, possibly_batched_index)\u001b[0m\n\u001b[0;32m     42\u001b[0m     \u001b[1;32mdef\u001b[0m \u001b[0mfetch\u001b[0m\u001b[1;33m(\u001b[0m\u001b[0mself\u001b[0m\u001b[1;33m,\u001b[0m \u001b[0mpossibly_batched_index\u001b[0m\u001b[1;33m)\u001b[0m\u001b[1;33m:\u001b[0m\u001b[1;33m\u001b[0m\u001b[1;33m\u001b[0m\u001b[0m\n\u001b[0;32m     43\u001b[0m         \u001b[1;32mif\u001b[0m \u001b[0mself\u001b[0m\u001b[1;33m.\u001b[0m\u001b[0mauto_collation\u001b[0m\u001b[1;33m:\u001b[0m\u001b[1;33m\u001b[0m\u001b[1;33m\u001b[0m\u001b[0m\n\u001b[1;32m---> 44\u001b[1;33m             \u001b[0mdata\u001b[0m \u001b[1;33m=\u001b[0m \u001b[1;33m[\u001b[0m\u001b[0mself\u001b[0m\u001b[1;33m.\u001b[0m\u001b[0mdataset\u001b[0m\u001b[1;33m[\u001b[0m\u001b[0midx\u001b[0m\u001b[1;33m]\u001b[0m \u001b[1;32mfor\u001b[0m \u001b[0midx\u001b[0m \u001b[1;32min\u001b[0m \u001b[0mpossibly_batched_index\u001b[0m\u001b[1;33m]\u001b[0m\u001b[1;33m\u001b[0m\u001b[1;33m\u001b[0m\u001b[0m\n\u001b[0m\u001b[0;32m     45\u001b[0m         \u001b[1;32melse\u001b[0m\u001b[1;33m:\u001b[0m\u001b[1;33m\u001b[0m\u001b[1;33m\u001b[0m\u001b[0m\n\u001b[0;32m     46\u001b[0m             \u001b[0mdata\u001b[0m \u001b[1;33m=\u001b[0m \u001b[0mself\u001b[0m\u001b[1;33m.\u001b[0m\u001b[0mdataset\u001b[0m\u001b[1;33m[\u001b[0m\u001b[0mpossibly_batched_index\u001b[0m\u001b[1;33m]\u001b[0m\u001b[1;33m\u001b[0m\u001b[1;33m\u001b[0m\u001b[0m\n",
      "\u001b[1;32mC:\\ProgramData\\Anaconda3\\envs\\pd\\lib\\site-packages\\torch\\utils\\data\\_utils\\fetch.py\u001b[0m in \u001b[0;36m<listcomp>\u001b[1;34m(.0)\u001b[0m\n\u001b[0;32m     42\u001b[0m     \u001b[1;32mdef\u001b[0m \u001b[0mfetch\u001b[0m\u001b[1;33m(\u001b[0m\u001b[0mself\u001b[0m\u001b[1;33m,\u001b[0m \u001b[0mpossibly_batched_index\u001b[0m\u001b[1;33m)\u001b[0m\u001b[1;33m:\u001b[0m\u001b[1;33m\u001b[0m\u001b[1;33m\u001b[0m\u001b[0m\n\u001b[0;32m     43\u001b[0m         \u001b[1;32mif\u001b[0m \u001b[0mself\u001b[0m\u001b[1;33m.\u001b[0m\u001b[0mauto_collation\u001b[0m\u001b[1;33m:\u001b[0m\u001b[1;33m\u001b[0m\u001b[1;33m\u001b[0m\u001b[0m\n\u001b[1;32m---> 44\u001b[1;33m             \u001b[0mdata\u001b[0m \u001b[1;33m=\u001b[0m \u001b[1;33m[\u001b[0m\u001b[0mself\u001b[0m\u001b[1;33m.\u001b[0m\u001b[0mdataset\u001b[0m\u001b[1;33m[\u001b[0m\u001b[0midx\u001b[0m\u001b[1;33m]\u001b[0m \u001b[1;32mfor\u001b[0m \u001b[0midx\u001b[0m \u001b[1;32min\u001b[0m \u001b[0mpossibly_batched_index\u001b[0m\u001b[1;33m]\u001b[0m\u001b[1;33m\u001b[0m\u001b[1;33m\u001b[0m\u001b[0m\n\u001b[0m\u001b[0;32m     45\u001b[0m         \u001b[1;32melse\u001b[0m\u001b[1;33m:\u001b[0m\u001b[1;33m\u001b[0m\u001b[1;33m\u001b[0m\u001b[0m\n\u001b[0;32m     46\u001b[0m             \u001b[0mdata\u001b[0m \u001b[1;33m=\u001b[0m \u001b[0mself\u001b[0m\u001b[1;33m.\u001b[0m\u001b[0mdataset\u001b[0m\u001b[1;33m[\u001b[0m\u001b[0mpossibly_batched_index\u001b[0m\u001b[1;33m]\u001b[0m\u001b[1;33m\u001b[0m\u001b[1;33m\u001b[0m\u001b[0m\n",
      "\u001b[1;32m~\\PycharmProjects\\PD\\Datasets.py\u001b[0m in \u001b[0;36m__getitem__\u001b[1;34m(self, idx)\u001b[0m\n\u001b[0;32m    759\u001b[0m \u001b[1;33m\u001b[0m\u001b[0m\n\u001b[0;32m    760\u001b[0m \u001b[1;33m\u001b[0m\u001b[0m\n\u001b[1;32m--> 761\u001b[1;33m     \u001b[1;32mdef\u001b[0m \u001b[0m__len__\u001b[0m\u001b[1;33m(\u001b[0m\u001b[0mself\u001b[0m\u001b[1;33m)\u001b[0m\u001b[1;33m:\u001b[0m\u001b[1;33m\u001b[0m\u001b[1;33m\u001b[0m\u001b[0m\n\u001b[0m\u001b[0;32m    762\u001b[0m         \u001b[1;32mreturn\u001b[0m \u001b[0mlen\u001b[0m\u001b[1;33m(\u001b[0m\u001b[0mself\u001b[0m\u001b[1;33m.\u001b[0m\u001b[0mdiction\u001b[0m\u001b[1;33m)\u001b[0m\u001b[1;33m\u001b[0m\u001b[1;33m\u001b[0m\u001b[0m\n\u001b[0;32m    763\u001b[0m \u001b[1;33m\u001b[0m\u001b[0m\n",
      "\u001b[1;31mKeyboardInterrupt\u001b[0m: "
     ]
    }
   ],
   "source": [
    "global epoch #declear epoch global, to be used later by torch.save() \n",
    "VALIDATION_FIRST = True\n",
    "\n",
    "for epoch in range(20):\n",
    "\n",
    "    ave_loss = 0\n",
    "    global loss #declear loss global, to be used later by torch.save() \n",
    "\n",
    "    if epoch == 0 and VALIDATION_FIRST:\n",
    "        \n",
    "        correct_cnt, ave_loss = 0, 0\n",
    "        total_cnt = 0\n",
    "        f1_eval_storage = {'prediction':[], 'target':[], 'pred_label':[]}\n",
    "        \n",
    "        for batch_idx, diction in enumerate(test_loader):\n",
    "            model.eval() #set model to evaluation mode\n",
    "\n",
    "            imagelist, scene, target = diction['image'], diction['scene'], diction['rating'] #extract training data for this batch\n",
    "            \n",
    "            target = target.to(device) \n",
    "            target = Variable(target)\n",
    "            target = target.float()\n",
    "\n",
    "            with autocast():\n",
    "                out = model(imagelist, scene, device=device) #forward pass\n",
    "                loss = criterion(out.squeeze(1), target / 10) #calculate loss\n",
    "\n",
    "            pred_label = np.around(out.cpu().detach().numpy() * 10)\n",
    "\n",
    "            target = target.long()\n",
    "            \n",
    "            f1_eval_storage['prediction'] = np.append(f1_eval_storage['prediction'], out.cpu().detach().numpy() * 10)\n",
    "            f1_eval_storage['target'] = np.append(f1_eval_storage['target'], target.cpu().detach().numpy())\n",
    "            f1_eval_storage['pred_label'] = np.append(f1_eval_storage['pred_label'], pred_label)\n",
    "\n",
    "            total_cnt += scene.data.size()[0]\n",
    "            # print(out, target.cpu().detach().numpy(), pred_label.squeeze(1))\n",
    "            correct_cnt += (pred_label.squeeze(1) == target.cpu().detach().numpy()).sum()\n",
    "            \n",
    "            ave_loss = ave_loss * 0.99 + loss.item() * 0.01 #smooth average\n",
    "\n",
    "            if (batch_idx + 1) == len(val_loader):\n",
    "                print(\n",
    "                '==>>> epoch: {}, batch index: {}, test loss: {:.6f}, acc: {:.3f}'.format(\n",
    "                    epoch, batch_idx + 1, ave_loss, correct_cnt.item() * 1.0 / total_cnt))\n",
    "\n",
    "            if (batch_idx + 1) == len(val_loader):\n",
    "                training_stats['validation_loss'].append(ave_loss)\n",
    "                training_stats['accuracy'].append(correct_cnt.item() * 1.0 / total_cnt)\n",
    "                training_stats['RMSE'].append(metrics.mean_squared_error(f1_eval_storage['target'], f1_eval_storage['prediction']))\n",
    "                training_stats['spearmanr'].append(scipy.stats.spearmanr(f1_eval_storage['target'], f1_eval_storage['prediction']))\n",
    "                training_stats['classification'].append(metrics.classification_report(f1_eval_storage['target'], f1_eval_storage['pred_label']))\n",
    "                print('RMSE:', metrics.mean_squared_error(f1_eval_storage['target'], f1_eval_storage['prediction']))\n",
    "                print(metrics.classification_report(f1_eval_storage['target'], f1_eval_storage['pred_label']))\n",
    "                print(scipy.stats.spearmanr(f1_eval_storage['target'], f1_eval_storage['prediction']))\n",
    "                print('==================================================================') \n",
    "            \n",
    "\n",
    "    for batch_idx, diction in enumerate(train_loader):\n",
    "        \n",
    "        model.train() #set model to traning mode\n",
    "        optimizer.zero_grad()\n",
    "        \n",
    "        imagelist, scene, target = diction['image'], diction['scene'], diction['rating'] #extract training data for this batch\n",
    "            \n",
    "        target = target.to(device) \n",
    "        target = Variable(target)\n",
    "        target = target.float()\n",
    "\n",
    "        with autocast():\n",
    "            out = model(imagelist, scene, device=device) #forward pass\n",
    "            loss = criterion(out.squeeze(1), target / 10) #calculate loss\n",
    "        \n",
    "        scaler.scale(loss).backward() #back propagation with calculated loss\n",
    "        scaler.step(optimizer) \n",
    "        scaler.update()\n",
    "        \n",
    "        ave_loss = ave_loss * 0.999 + loss.item() * 0.001 \n",
    "        \n",
    "        if (batch_idx + 1) == len(train_loader):\n",
    "            print('==>>> epoch: {}, batch index: {}, train loss: {:.6f}'.format(epoch, batch_idx + 1, loss))\n",
    "            training_stats['tarining_loss'].append(ave_loss)\n",
    "            \n",
    "\n",
    "    correct_cnt, ave_loss = 0, 0\n",
    "    total_cnt = 0\n",
    "    f1_eval_storage = {'prediction':[], 'target':[], 'pred_label':[]}\n",
    "    \n",
    "    for batch_idx, diction in enumerate(val_loader):\n",
    "        model.eval() #set model to evaluation mode\n",
    "\n",
    "        imagelist, scene, target = diction['image'], diction['scene'], diction['rating'] #extract training data for this batch\n",
    "\n",
    "        target = target.to(device) \n",
    "        target = Variable(target)\n",
    "        target = target.float()\n",
    "\n",
    "        with autocast():\n",
    "            out = model(imagelist, scene, device=device) #forward pass\n",
    "            loss = criterion(out.squeeze(1), target / 10) #calculate loss\n",
    "\n",
    "        pred_label = out.data\n",
    "        pred_label = np.around(out.cpu().detach().numpy() * 10)\n",
    "\n",
    "        target = target.long()\n",
    "\n",
    "        f1_eval_storage['prediction'] = np.append(f1_eval_storage['prediction'], out.cpu().detach().numpy() * 10)\n",
    "        f1_eval_storage['target'] = np.append(f1_eval_storage['target'], target.cpu().detach().numpy())\n",
    "        f1_eval_storage['pred_label'] = np.append(f1_eval_storage['pred_label'], pred_label)\n",
    "\n",
    "        total_cnt += scene.data.size()[0]\n",
    "        correct_cnt += (pred_label.squeeze(1) == target.cpu().detach().numpy()).sum()\n",
    "\n",
    "        ave_loss = ave_loss * 0.99 + loss.item() * 0.01 #smooth average\n",
    "\n",
    "        if (batch_idx + 1) == len(val_loader):\n",
    "            print(\n",
    "            '==>>> epoch: {}, batch index: {}, test loss: {:.6f}, acc: {:.3f}'.format(\n",
    "                epoch, batch_idx + 1, ave_loss, correct_cnt.item() * 1.0 / total_cnt))\n",
    "\n",
    "        if (batch_idx + 1) == len(val_loader):\n",
    "            training_stats['validation_loss'].append(ave_loss)\n",
    "            training_stats['accuracy'].append(correct_cnt.item() * 1.0 / total_cnt)\n",
    "            training_stats['RMSE'].append(metrics.mean_squared_error(f1_eval_storage['target'], f1_eval_storage['prediction']))\n",
    "            training_stats['spearmanr'].append(scipy.stats.spearmanr(f1_eval_storage['target'], f1_eval_storage['prediction']))\n",
    "            training_stats['classification'].append(metrics.classification_report(f1_eval_storage['target'], f1_eval_storage['pred_label']))\n",
    "            \n",
    "            print('RMSE:', metrics.mean_squared_error(f1_eval_storage['target'], f1_eval_storage['prediction']))\n",
    "            print(metrics.classification_report(f1_eval_storage['target'], f1_eval_storage['pred_label']))\n",
    "            print(scipy.stats.spearmanr(f1_eval_storage['target'], f1_eval_storage['prediction']))\n",
    "            print('==================================================================') \n",
    "            \n",
    "            save_checkpt(model_name, checkpoint_save_dir, epoch, model, optimizer, loss, accu=(correct_cnt.item() * 1.0 / total_cnt), training_stats=training_stats)"
   ]
  },
  {
   "cell_type": "markdown",
   "metadata": {},
   "source": [
    "# Test - Linear"
   ]
  },
  {
   "cell_type": "code",
   "execution_count": 23,
   "metadata": {},
   "outputs": [
    {
     "name": "stdout",
     "output_type": "stream",
     "text": [
      "==>>> epoch: 3, batch index: 625, test loss: 0.005789, acc: 0.44682\n",
      "RMSE: 0.6457722508088906\n",
      "              precision    recall  f1-score   support\n",
      "\n",
      "         1.0       0.00      0.00      0.00        34\n",
      "         2.0       0.58      0.02      0.04       641\n",
      "         3.0       0.53      0.07      0.12      5341\n",
      "         4.0       0.51      0.58      0.54     10093\n",
      "         5.0       0.35      0.73      0.47      3633\n",
      "         6.0       0.22      0.10      0.14       252\n",
      "         7.0       0.00      0.00      0.00         5\n",
      "\n",
      "    accuracy                           0.45     19999\n",
      "   macro avg       0.31      0.21      0.19     19999\n",
      "weighted avg       0.48      0.45      0.39     19999\n",
      "\n",
      "SpearmanrResult(correlation=0.580170286916907, pvalue=0.0)\n",
      "==================================================================\n"
     ]
    },
    {
     "name": "stderr",
     "output_type": "stream",
     "text": [
      "C:\\ProgramData\\Anaconda3\\envs\\pd\\lib\\site-packages\\sklearn\\metrics\\_classification.py:1221: UndefinedMetricWarning: Precision and F-score are ill-defined and being set to 0.0 in labels with no predicted samples. Use `zero_division` parameter to control this behavior.\n",
      "  _warn_prf(average, modifier, msg_start, len(result))\n",
      "C:\\ProgramData\\Anaconda3\\envs\\pd\\lib\\site-packages\\sklearn\\metrics\\_classification.py:1221: UndefinedMetricWarning: Precision and F-score are ill-defined and being set to 0.0 in labels with no predicted samples. Use `zero_division` parameter to control this behavior.\n",
      "  _warn_prf(average, modifier, msg_start, len(result))\n"
     ]
    }
   ],
   "source": [
    "f1_eval_storage = {'prediction':[], 'target':[], 'pred_label':[]}\n",
    "\n",
    "correct_cnt, ave_loss = 0, 0\n",
    "total_cnt = 0\n",
    "f1_eval_storage = {'prediction':[], 'target':[], 'pred_label':[]}\n",
    "    \n",
    "for batch_idx, diction in enumerate(test_loader):\n",
    "    model.eval() #set model to evaluation mode\n",
    "\n",
    "    imagelist, scene, target = diction['image'], diction['scene'], diction['rating'] #extract training data for this batch\n",
    "\n",
    "    target = target.to(device) \n",
    "    target = Variable(target)\n",
    "    target = target.float()\n",
    "\n",
    "    with autocast():\n",
    "        out = model(imagelist, scene, device=device) #forward pass\n",
    "        loss = criterion(out.squeeze(1), target / 10) #calculate loss\n",
    "\n",
    "    pred_label = np.around(out.cpu().detach().numpy() * 10)\n",
    "\n",
    "    target = target.long()\n",
    "\n",
    "    f1_eval_storage['prediction'] = np.append(f1_eval_storage['prediction'], out.cpu().detach().numpy() * 10)\n",
    "    f1_eval_storage['target'] = np.append(f1_eval_storage['target'], target.cpu().detach().numpy())\n",
    "    f1_eval_storage['pred_label'] = np.append(f1_eval_storage['pred_label'], pred_label)\n",
    "\n",
    "    total_cnt += scene.data.size()[0]\n",
    "    # print(out, target.cpu().detach().numpy(), pred_label.squeeze(1))\n",
    "    correct_cnt += (pred_label.squeeze(1) == target.cpu().detach().numpy()).sum()\n",
    "\n",
    "    ave_loss = ave_loss * 0.99 + loss.item() * 0.01 #smooth average\n",
    "\n",
    "    if (batch_idx + 1) == len(test_loader):\n",
    "        print(\n",
    "        '==>>> epoch: {}, batch index: {}, test loss: {:.6f}, acc: {:.5f}'.format(\n",
    "            epoch, batch_idx + 1, ave_loss, correct_cnt.item() * 1.0 / total_cnt))\n",
    "\n",
    "        training_stats['validation_loss'].append(ave_loss)\n",
    "        training_stats['accuracy'].append(correct_cnt.item() * 1.0 / total_cnt)\n",
    "        training_stats['RMSE'].append(metrics.mean_squared_error(f1_eval_storage['target'], f1_eval_storage['prediction']))\n",
    "        training_stats['spearmanr'].append(scipy.stats.spearmanr(f1_eval_storage['target'], f1_eval_storage['prediction']))\n",
    "        training_stats['classification'].append(metrics.classification_report(f1_eval_storage['target'], f1_eval_storage['pred_label']))\n",
    "        print('RMSE:', metrics.mean_squared_error(f1_eval_storage['target'], f1_eval_storage['prediction']))\n",
    "        print(metrics.classification_report(f1_eval_storage['target'], f1_eval_storage['pred_label']))\n",
    "        print(scipy.stats.spearmanr(f1_eval_storage['target'], f1_eval_storage['prediction']))\n",
    "        print('==================================================================') "
   ]
  },
  {
   "cell_type": "markdown",
   "metadata": {},
   "source": [
    "## Linear threshold to Binary"
   ]
  },
  {
   "cell_type": "code",
   "execution_count": 24,
   "metadata": {},
   "outputs": [
    {
     "name": "stdout",
     "output_type": "stream",
     "text": [
      "==>>> epoch: 3, batch index: 125, test loss: 0.103529, acc: 0.88572\n",
      "RMSE: 14.468474600606633\n",
      "              precision    recall  f1-score   support\n",
      "\n",
      "         0.0       0.93      0.83      0.88      1999\n",
      "         1.0       0.85      0.94      0.89      2000\n",
      "\n",
      "    accuracy                           0.89      3999\n",
      "   macro avg       0.89      0.89      0.89      3999\n",
      "weighted avg       0.89      0.89      0.89      3999\n",
      "\n",
      "SpearmanrResult(correlation=0.7989365473510059, pvalue=0.0)\n",
      "==================================================================\n",
      "4.280794319673668\n"
     ]
    }
   ],
   "source": [
    "f1_eval_storage = {'prediction':[], 'target':[], 'pred_label':[]}\n",
    "correct_cnt, ave_loss = 0, 0\n",
    "total_cnt = 0\n",
    "\n",
    "for batch_idx, diction in enumerate(val_loader):\n",
    "    model.eval() #set model to evaluation mode\n",
    "\n",
    "    imagelist, scene, target = diction['image'], diction['scene'], diction['rating'] #extract training data for this batch\n",
    "\n",
    "    target = target.float()\n",
    "    target = target.to(device) \n",
    "    target = Variable(target)\n",
    "\n",
    "    with autocast():\n",
    "        out = model(imagelist, scene, device=device) #forward pass\n",
    "        loss = criterion(out.squeeze(1), target / 10) #calculate loss\n",
    "\n",
    "    #pred_label = np.around(out.cpu().detach().numpy() * 10)\n",
    "    pred_label = out.cpu().detach().numpy() * 10\n",
    "    \n",
    "    for idx, label in enumerate(pred_label):\n",
    "        if label >= 4.21419246:\n",
    "            pred_label[idx] = 1\n",
    "        else:\n",
    "            pred_label[idx] = 0\n",
    "    \n",
    "    target = target.long()\n",
    "    \n",
    "    # print(target, pred_label)\n",
    "\n",
    "    f1_eval_storage['prediction'] = np.append(f1_eval_storage['prediction'], out.cpu().detach().numpy() * 10)\n",
    "    f1_eval_storage['target'] = np.append(f1_eval_storage['target'], target.cpu().detach().numpy())\n",
    "    f1_eval_storage['pred_label'] = np.append(f1_eval_storage['pred_label'], pred_label)\n",
    "\n",
    "    total_cnt += scene.data.size()[0]\n",
    "    correct_cnt += (pred_label.squeeze(1) == target.cpu().detach().numpy()).sum()\n",
    "\n",
    "    ave_loss = ave_loss * 0.99 + loss.item() * 0.01 #smooth average\n",
    "\n",
    "    if (batch_idx + 1) == len(val_loader):\n",
    "        print(\n",
    "        '==>>> epoch: {}, batch index: {}, test loss: {:.6f}, acc: {:.5f}'.format(\n",
    "            epoch, batch_idx + 1, ave_loss, correct_cnt.item() * 1.0 / total_cnt))\n",
    "\n",
    "        training_stats['validation_loss'].append(ave_loss)\n",
    "        training_stats['accuracy'].append(correct_cnt.item() * 1.0 / total_cnt)\n",
    "        training_stats['RMSE'].append(metrics.mean_squared_error(f1_eval_storage['target'], f1_eval_storage['prediction']))\n",
    "        training_stats['spearmanr'].append(scipy.stats.spearmanr(f1_eval_storage['target'], f1_eval_storage['prediction']))\n",
    "        training_stats['classification'].append(metrics.classification_report(f1_eval_storage['target'], f1_eval_storage['pred_label']))\n",
    "        \n",
    "        print('RMSE:', metrics.mean_squared_error(f1_eval_storage['target'], f1_eval_storage['prediction']))\n",
    "        print(metrics.classification_report(f1_eval_storage['target'], f1_eval_storage['pred_label']))\n",
    "        print(scipy.stats.spearmanr(f1_eval_storage['target'], f1_eval_storage['prediction']))\n",
    "        print('==================================================================') \n",
    "        print(np.average(f1_eval_storage['prediction']))"
   ]
  },
  {
   "cell_type": "markdown",
   "metadata": {},
   "source": [
    "# Metrics, Saving, Loading"
   ]
  },
  {
   "cell_type": "code",
   "execution_count": 33,
   "metadata": {},
   "outputs": [
    {
     "name": "stdout",
     "output_type": "stream",
     "text": [
      "              precision    recall  f1-score   support\n",
      "\n",
      "         1.0       0.00      1.00      0.01        60\n",
      "         2.0       0.00      0.00      0.00       684\n",
      "         3.0       0.00      0.00      0.00      5517\n",
      "         4.0       0.00      0.00      0.00     10089\n",
      "         5.0       0.00      0.00      0.00      3381\n",
      "         6.0       0.00      0.00      0.00       263\n",
      "         7.0       0.00      0.00      0.00         5\n",
      "\n",
      "    accuracy                           0.00     19999\n",
      "   macro avg       0.00      0.14      0.00     19999\n",
      "weighted avg       0.00      0.00      0.00     19999\n",
      "\n"
     ]
    },
    {
     "name": "stderr",
     "output_type": "stream",
     "text": [
      "C:\\ProgramData\\Anaconda3\\envs\\pd\\lib\\site-packages\\sklearn\\metrics\\_classification.py:1221: UndefinedMetricWarning: Precision and F-score are ill-defined and being set to 0.0 in labels with no predicted samples. Use `zero_division` parameter to control this behavior.\n",
      "  _warn_prf(average, modifier, msg_start, len(result))\n"
     ]
    }
   ],
   "source": [
    "# print(scipy.stats.spearmanr((f1_eval_storage['target'], f1_eval_storage['prediction'])))\n",
    "print(metrics.classification_report(f1_eval_storage['target'], f1_eval_storage['prediction']))"
   ]
  },
  {
   "cell_type": "code",
   "execution_count": null,
   "metadata": {},
   "outputs": [],
   "source": [
    "from pthflops import count_ops\n",
    "\n",
    "model.eval()\n",
    "\n",
    "inp = torch.Tensor(np.zeros(150528).reshape(1, 3, 224, 224))\n",
    "\n",
    "inp = inp.cuda()\n",
    "inp = inp.to(torch.device(\"cuda:0\"))\n",
    "\n",
    "count_ops(model, inp)"
   ]
  },
  {
   "cell_type": "code",
   "execution_count": 30,
   "metadata": {},
   "outputs": [],
   "source": [
    "model_name = \"Augmented_Densenet_Smooth\"\n",
    "checkpoint_save_dir = r\"C:\\Users\\Leo's PC\\PycharmProjects\\PD\\Model Checkpoints\"\n",
    "checkpoint_file = open(checkpoint_save_dir + \"\\\\\" + model_name + \"_\" + \"E\" + str(20) + \"_\" + time.strftime(\"%m.%d.%Y_%H.%M.%S\") \n",
    "                       + \".tar\", 'wb')\n",
    "\n",
    "torch.save({\n",
    "            'epoch': epoch,\n",
    "            'model_state_dict': model.state_dict(),\n",
    "            'optimizer_state_dict': optimizer.state_dict(),\n",
    "            'loss': loss,\n",
    "            'training_stats': training_stats\n",
    "            }, checkpoint_file)\n",
    "\n",
    "checkpoint_file.close()"
   ]
  },
  {
   "cell_type": "code",
   "execution_count": 87,
   "metadata": {},
   "outputs": [
    {
     "data": {
      "image/png": "[encoded data removed]",
      "text/plain": [
       "<Figure size 432x288 with 1 Axes>"
      ]
     },
     "metadata": {
      "needs_background": "light"
     },
     "output_type": "display_data"
    },
    {
     "name": "stdout",
     "output_type": "stream",
     "text": [
      "[[3.92601882e-02 2.79390397e-08]\n",
      " [4.98329541e-01 0.00000000e+00]\n",
      " [5.36470731e-01 0.00000000e+00]\n",
      " [5.43768941e-01 0.00000000e+00]\n",
      " [5.51300459e-01 0.00000000e+00]\n",
      " [5.63593776e-01 0.00000000e+00]]\n",
      "6\n"
     ]
    },
    {
     "data": {
      "image/png": "[encoded data removed]",
      "text/plain": [
       "<Figure size 432x288 with 1 Axes>"
      ]
     },
     "metadata": {
      "needs_background": "light"
     },
     "output_type": "display_data"
    }
   ],
   "source": [
    "plt.figure()\n",
    "\n",
    "plt.ylabel('loss')\n",
    "plt.xlabel('Epoch')\n",
    "plt.title('Augmented DenseNet - Linear Regression')\n",
    "\n",
    "plt.plot(np.arange(len(training_stats['tarining_loss'])), training_stats['tarining_loss'], label='tarining loss')\n",
    "plt.plot(np.arange(len(training_stats['validation_loss'])), training_stats['validation_loss'], label='validation loss')\n",
    "\n",
    "plt.legend()\n",
    "plt.show()\n",
    "\n",
    "plt.ylabel('accu/RMSE/rho')\n",
    "plt.xlabel('Epoch')\n",
    "plt.title('Augmented DenseNet - Linear Regression')\n",
    "\n",
    "plt.plot(np.arange(len(training_stats['accuracy'])), training_stats['accuracy'], label='accuracy')\n",
    "#plt.plot(np.arange(len(training_stats['classification'])), training_stats['classification'], label='')\n",
    "plt.plot(np.arange(len(training_stats['RMSE'])), training_stats['RMSE'], label='RMSE')\n",
    "plt.plot(np.arange(len(training_stats['spearmanr'])), [i[0] for i in training_stats['spearmanr']], label=\"Spearman's rho\")\n",
    "\n",
    "print(np.array(training_stats['spearmanr']))\n",
    "print(len(np.array(training_stats['spearmanr'])))\n",
    "plt.legend()\n",
    "plt.show()"
   ]
  },
  {
   "cell_type": "code",
   "execution_count": 29,
   "metadata": {},
   "outputs": [],
   "source": [
    "with open('./Resource/Dense_Augmented_Smooth_logdataPaper.pkl', 'wb') as fp:\n",
    "        pickle.dump(training_stats, fp)"
   ]
  },
  {
   "cell_type": "code",
   "execution_count": 28,
   "metadata": {},
   "outputs": [],
   "source": [
    "checkpoint = torch.load(open(checkpoint_save_dir + \"\\DenseNet_Augmented_Binary_Paper_E10A865_10.12.2020_02.37.11.tar\", 'rb'))\n",
    "model.load_state_dict(checkpoint['model_state_dict'])\n",
    "optimizer.load_state_dict(checkpoint['optimizer_state_dict'])\n",
    "epoch = checkpoint['epoch']\n",
    "loss = checkpoint['loss']\n",
    "training_stats = checkpoint['training_stats']"
   ]
  },
  {
   "cell_type": "markdown",
   "metadata": {},
   "source": [
    "after input. size: torch.Size([2, 64, 56, 56])\n",
    "after block1. size: torch.Size([2, 128, 28, 28])\n",
    "after block2. size: torch.Size([2, 256, 14, 14])\n",
    "after block3. size: torch.Size([2, 640, 7, 7])\n",
    "after block4. size: torch.Size([2, 1664, 7, 7])\n",
    "after pooling. size: torch.Size([2, 1664, 1, 1])\n",
    "\n",
    ".resize_([batch_size, 1])\n",
    ".resize_([batch_size, 1])"
   ]
  }
 ],
 "metadata": {
  "kernelspec": {
   "display_name": "Python 3",
   "language": "python",
   "name": "python3"
  },
  "language_info": {
   "codemirror_mode": {
    "name": "ipython",
    "version": 3
   },
   "file_extension": ".py",
   "mimetype": "text/x-python",
   "name": "python",
   "nbconvert_exporter": "python",
   "pygments_lexer": "ipython3",
   "version": "3.7.1"
  }
 },
 "nbformat": 4,
 "nbformat_minor": 4
}
